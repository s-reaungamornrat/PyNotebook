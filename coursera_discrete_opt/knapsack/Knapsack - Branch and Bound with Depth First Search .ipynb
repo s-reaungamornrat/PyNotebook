{
 "cells": [
  {
   "cell_type": "code",
   "execution_count": 1,
   "metadata": {
    "collapsed": false,
    "deletable": true,
    "editable": true
   },
   "outputs": [],
   "source": [
    "import os\n",
    "import sys\n",
    "import itertools #import combinations ### added\n",
    "from collections import namedtuple\n",
    "Item = namedtuple(\"Item\", ['index', 'value', 'weight'])"
   ]
  },
  {
   "cell_type": "code",
   "execution_count": 2,
   "metadata": {
    "collapsed": false,
    "deletable": true,
    "editable": true
   },
   "outputs": [
    {
     "data": {
      "text/plain": [
       "['C:/D/coursera/discrete_opt/knapsack/data\\\\ks_lecture_dp_3.txt',\n",
       " 'C:/D/coursera/discrete_opt/knapsack/data\\\\ks_lecture_dp_2',\n",
       " 'C:/D/coursera/discrete_opt/knapsack/data\\\\ks_lecture_dp_1']"
      ]
     },
     "execution_count": 2,
     "metadata": {},
     "output_type": "execute_result"
    }
   ],
   "source": [
    "data_folder = 'C:/D/coursera/discrete_opt/knapsack/data'\n",
    "data_files = None\n",
    "for dirpath, dirnames, filenames in os.walk(data_folder):\n",
    "    data_files = [os.path.join(dirpath, fname) for fname in filenames]\n",
    "    \n",
    "filenames = list(reversed(data_files))\n",
    "filenames[:3]"
   ]
  },
  {
   "cell_type": "code",
   "execution_count": 3,
   "metadata": {
    "collapsed": false,
    "deletable": true,
    "editable": true
   },
   "outputs": [],
   "source": [
    "class Node:\n",
    "    \"\"\"A node in a search tree. Contains a pointer to the parent (the node\n",
    "    that this is a successor of) and to its children. Note\n",
    "    that if a state is arrived at by two paths, then there are two nodes with\n",
    "    the same state.  Also includes the action that got us to this state, and\n",
    "    the total path_cost (also known as g) to reach the node.  Other functions\n",
    "    may add an f and h value; see best_first_graph_search and astar_search for\n",
    "    an explanation of how the f and h values are handled. You will not need to\n",
    "    subclass this class.\"\"\"    \n",
    "    \n",
    "    def __init__(self, parent = None, x= None, index= None, value= None, estimate= None, room= None):\n",
    "        \"\"\"\n",
    "            action: a list for valid children\n",
    "        \"\"\" \n",
    "        self.x = x # decision variable\n",
    "        self.index = index # item index\n",
    "        self.value = value\n",
    "        self.estimate = estimate\n",
    "        self.room = room \n",
    "\n",
    "        self.state =''.join([str(self.index), str(self.x)])\n",
    "        self.parent = parent\n",
    "        self.depth = 0\n",
    "        if parent:\n",
    "            self.depth = parent.depth+1    \n",
    "            self.state = parent.state + self.state\n",
    "            \n",
    "    def __repr__(self):\n",
    "        \"\"\"Use by calling repr(node)\"\"\"\n",
    "        return \"Node(\" + repr(self.index) + \",\" + repr(self.x) + \",\" +repr(self.value) + \",\"\\\n",
    "    + repr(self.estimate) + \",\" + repr(self.room) + \")\" \n",
    "            \n",
    "    def __lt__(self, node):\n",
    "        return self.estimate < node.value\n",
    "    \n",
    "    def expand(self, items, fractions):\n",
    "        \"\"\"\n",
    "            fractions is 1 by len(items) containing fractions of item.values, e.g.,\n",
    "            1 for select all item and 0.2 for select 0.2 of the items weight and value\n",
    "        \"\"\"\n",
    "        \"List the nodes reachable in one step from this node.\"\n",
    "        if self.index >= len(items)-1:\n",
    "            return None\n",
    "        \n",
    "        children = []\n",
    "        for x in range(2):\n",
    "            if x == 0: # not select this child\n",
    "                # assuming item[0].index 0 corresponds to fractions[0]\n",
    "                estimate = self.estimate - fractions[self.index+1]*items[self.index+1].value\n",
    "                child = self.child_node(x, self.index+1, self.value, estimate, self.room) \n",
    "                children.append(child)\n",
    "            elif self.room-items[self.index+1].weight >=0: # select this child if it can fit\n",
    "                child = self.child_node(x, self.index+1, \n",
    "                                self.value+items[self.index+1].value,\n",
    "                                self.estimate, self.room-items[self.index+1].weight)\n",
    "                children.append(child)\n",
    "                \n",
    "        return children\n",
    "    \n",
    "    def child_node(self,  x, index, value, estimate, room):\n",
    "        return Node(self, x, index, value, estimate, room)\n",
    "    \n",
    "    def path(self):\n",
    "        \"Return a loist of nodes forming the path from the root to this node\"\n",
    "        node, path_back = self, []\n",
    "        while node:\n",
    "            path_back.append(node)\n",
    "            node = node.parent\n",
    "        return list(reversed(path_back))\n",
    "    \n",
    "    def solution(self):\n",
    "        \"Return items selected along the path from root to this node\"\n",
    "        return self.value, [node.x for node in self.path()[1:]]\n",
    "    def __eq__(self, other):\n",
    "        return isinstance(other, Node) and self.x == other.x and self.index == other.index\n",
    "    def __has__(self):\n",
    "        return hash((self.x, self.index))"
   ]
  },
  {
   "cell_type": "code",
   "execution_count": 4,
   "metadata": {
    "collapsed": false,
    "deletable": true,
    "editable": true
   },
   "outputs": [],
   "source": [
    "def depth_first_search(fractions, items, capacity, estimate):\n",
    "    \"\"\"Search through the successors of a problem to find a goal.\n",
    "    The argument frontier should be an empty queue.\n",
    "    If two paths reach a state, only use the first one. [Figure 3.7]\"\"\"\n",
    "    \n",
    "    root = Node(parent = None, x= None, index= -1, value= 0, estimate= estimate, room= capacity)\n",
    "    frontier = [root]\n",
    "    explored = set()\n",
    "    best_node = None\n",
    "    while frontier:\n",
    "        node = frontier.pop()\n",
    "        #print('\\n', repr(node))\n",
    "        \n",
    "        if best_node and float(best_node.value) >= float(node.estimate):\n",
    "            continue \n",
    "        if not best_node or node.value > best_node.value:\n",
    "            best_node = node\n",
    "        explored.add(node.state)\n",
    "        #best_value = node.value \n",
    "        children = node.expand(items, fractions)\n",
    "        if children:\n",
    "            frontier.extend(child for child in children\n",
    "                            if child.state not in explored and\n",
    "                            child not in frontier)\n",
    "    return best_node"
   ]
  },
  {
   "cell_type": "code",
   "execution_count": 5,
   "metadata": {
    "collapsed": true,
    "deletable": true,
    "editable": true
   },
   "outputs": [],
   "source": [
    "def solve_bb_dfs(input_data):\n",
    "    # Modify this code to run your optimization algorithm\n",
    "    \n",
    "    def compute_fractions(value_densities, capacity, items):\n",
    "        \n",
    "        sorted_indices = sorted(range(len(value_densities)), \n",
    "                                key=lambda k: value_densities[k], reverse=True)\n",
    "        fractions, k = [0]*len(items), capacity\n",
    "        estimate = 0\n",
    "        for idx in sorted_indices:\n",
    "            if k - items[idx].weight >= 0:\n",
    "                fractions[idx] = 1\n",
    "                estimate = estimate + items[idx].value\n",
    "            elif k > 0:\n",
    "                fraction = float(k)/float(items[idx].weight) \n",
    "                fractions[idx] = fraction\n",
    "                estimate = estimate + fraction*items[idx].value\n",
    "            k = k-items[idx].weight\n",
    "            \n",
    "        return estimate, fractions\n",
    "    \n",
    "    # parse the input\n",
    "    lines = input_data.split('\\n')\n",
    "    firstLine = lines[0].split()\n",
    "    item_count = int(firstLine[0])\n",
    "    capacity = int(firstLine[1])\n",
    "\n",
    "    items = []\n",
    "    value_densities = []\n",
    "    for i in range(1, item_count+1):\n",
    "        line = lines[i]\n",
    "        parts = line.split()\n",
    "        items.append(Item(i-1, int(parts[0]), int(parts[1])))\n",
    "        value_densities.append(float(parts[0])/float(parts[1]))\n",
    "    \n",
    "    estimate, fractions = compute_fractions(value_densities, capacity, items)\n",
    "    \n",
    "    best_node = depth_first_search(fractions, items, capacity, estimate)\n",
    "    best_value = best_node.solution()[0]\n",
    "    best_x_path = best_node.solution()[1]+[0]*(len(items)-len(best_node.solution()[1]))\n",
    "\n",
    "    # prepare the solution in the specified output format\n",
    "    output_data = str(best_value) + ' ' + str(0) + '\\n'\n",
    "    output_data += ' '.join(map(str, best_x_path))\n",
    "    return output_data"
   ]
  },
  {
   "cell_type": "code",
   "execution_count": null,
   "metadata": {
    "collapsed": false,
    "deletable": true,
    "editable": true
   },
   "outputs": [
    {
     "data": {
      "text/plain": [
       "'18 0\\n1 1 0 0'"
      ]
     },
     "execution_count": 6,
     "metadata": {},
     "output_type": "execute_result"
    }
   ],
   "source": [
    "file_location = 'C:/D/coursera/discrete_opt/knapsack/data\\\\ks_4_0'\n",
    "with open(file_location, 'r') as input_data_file:\n",
    "    input_data = input_data_file.read()\n",
    "solve_bb_dfs(input_data)"
   ]
  },
  {
   "cell_type": "code",
   "execution_count": null,
   "metadata": {
    "collapsed": false,
    "deletable": true,
    "editable": true
   },
   "outputs": [],
   "source": [
    "file_location = 'C:/D/coursera/discrete_opt/knapsack/data\\\\ks_45_0'\n",
    "with open(file_location, 'r') as input_data_file:\n",
    "    input_data = input_data_file.read()\n",
    "solve_bb_dfs(input_data)"
   ]
  },
  {
   "cell_type": "code",
   "execution_count": null,
   "metadata": {
    "collapsed": false,
    "deletable": true,
    "editable": true
   },
   "outputs": [],
   "source": [
    "file_location = 'C:/D/coursera/discrete_opt/knapsack/data\\\\ks_10000_0'\n",
    "with open(file_location, 'r') as input_data_file:\n",
    "    input_data = input_data_file.read()\n",
    "solve_bb_dfs(input_data)"
   ]
  },
  {
   "cell_type": "code",
   "execution_count": null,
   "metadata": {
    "collapsed": true,
    "deletable": true,
    "editable": true
   },
   "outputs": [],
   "source": []
  },
  {
   "cell_type": "code",
   "execution_count": null,
   "metadata": {
    "collapsed": true,
    "deletable": true,
    "editable": true
   },
   "outputs": [],
   "source": [
    "def solve_greedy_it(input_data):\n",
    "    # Modify this code to run your optimization algorithm\n",
    "\n",
    "    # parse the input\n",
    "    lines = input_data.split('\\n')\n",
    "    print('Line: {}\\n'.format(lines))\n",
    "    firstLine = lines[0].split()\n",
    "    item_count = int(firstLine[0])\n",
    "    capacity = int(firstLine[1])\n",
    "\n",
    "    items = []\n",
    "\n",
    "    for i in range(1, item_count+1):\n",
    "        line = lines[i]\n",
    "        parts = line.split()\n",
    "        items.append(Item(i-1, int(parts[0]), int(parts[1])))\n",
    "    print('Items \\n', items)\n",
    "\n",
    "    # a trivial greedy algorithm for filling the knapsack\n",
    "    # it takes items in-order until the knapsack is full\n",
    "    value = 0\n",
    "    weight = 0\n",
    "    taken = [0]*len(items)\n",
    "\n",
    "    for item in items:\n",
    "        if weight + item.weight <= capacity:\n",
    "            taken[item.index] = 1\n",
    "            value += item.value\n",
    "            weight += item.weight\n",
    "    \n",
    "    # prepare the solution in the specified output format\n",
    "    output_data = str(value) + ' ' + str(0) + '\\n'\n",
    "    output_data += ' '.join(map(str, taken))\n",
    "    return output_data"
   ]
  },
  {
   "cell_type": "code",
   "execution_count": null,
   "metadata": {
    "collapsed": false,
    "deletable": true,
    "editable": true
   },
   "outputs": [],
   "source": [
    "file_location = 'C:/D/coursera/discrete_opt/knapsack/data\\\\ks_lecture_dp_3.txt'\n",
    "with open(file_location, 'r') as input_data_file:\n",
    "    input_data = input_data_file.read()\n",
    "solve_greedy_it(input_data)"
   ]
  },
  {
   "cell_type": "code",
   "execution_count": null,
   "metadata": {
    "collapsed": false,
    "deletable": true,
    "editable": true
   },
   "outputs": [],
   "source": []
  },
  {
   "cell_type": "code",
   "execution_count": null,
   "metadata": {
    "collapsed": false,
    "deletable": true,
    "editable": true
   },
   "outputs": [],
   "source": []
  },
  {
   "cell_type": "code",
   "execution_count": null,
   "metadata": {
    "collapsed": true,
    "deletable": true,
    "editable": true
   },
   "outputs": [],
   "source": []
  },
  {
   "cell_type": "code",
   "execution_count": null,
   "metadata": {
    "collapsed": false,
    "deletable": true,
    "editable": true
   },
   "outputs": [],
   "source": []
  },
  {
   "cell_type": "code",
   "execution_count": null,
   "metadata": {
    "collapsed": true,
    "deletable": true,
    "editable": true
   },
   "outputs": [],
   "source": []
  },
  {
   "cell_type": "code",
   "execution_count": null,
   "metadata": {
    "collapsed": false,
    "deletable": true,
    "editable": true
   },
   "outputs": [],
   "source": []
  },
  {
   "cell_type": "code",
   "execution_count": null,
   "metadata": {
    "collapsed": false,
    "deletable": true,
    "editable": true
   },
   "outputs": [],
   "source": []
  },
  {
   "cell_type": "code",
   "execution_count": null,
   "metadata": {
    "collapsed": false,
    "deletable": true,
    "editable": true
   },
   "outputs": [],
   "source": []
  },
  {
   "cell_type": "code",
   "execution_count": null,
   "metadata": {
    "collapsed": true,
    "deletable": true,
    "editable": true
   },
   "outputs": [],
   "source": []
  },
  {
   "cell_type": "code",
   "execution_count": null,
   "metadata": {
    "collapsed": true,
    "deletable": true,
    "editable": true
   },
   "outputs": [],
   "source": []
  },
  {
   "cell_type": "code",
   "execution_count": null,
   "metadata": {
    "collapsed": true,
    "deletable": true,
    "editable": true
   },
   "outputs": [],
   "source": []
  },
  {
   "cell_type": "code",
   "execution_count": null,
   "metadata": {
    "collapsed": false,
    "deletable": true,
    "editable": true
   },
   "outputs": [],
   "source": []
  },
  {
   "cell_type": "code",
   "execution_count": null,
   "metadata": {
    "collapsed": false,
    "deletable": true,
    "editable": true,
    "scrolled": true
   },
   "outputs": [],
   "source": []
  },
  {
   "cell_type": "code",
   "execution_count": null,
   "metadata": {
    "collapsed": false,
    "deletable": true,
    "editable": true
   },
   "outputs": [],
   "source": []
  },
  {
   "cell_type": "code",
   "execution_count": null,
   "metadata": {
    "collapsed": false,
    "deletable": true,
    "editable": true
   },
   "outputs": [],
   "source": []
  },
  {
   "cell_type": "code",
   "execution_count": null,
   "metadata": {
    "collapsed": false,
    "deletable": true,
    "editable": true
   },
   "outputs": [],
   "source": []
  }
 ],
 "metadata": {
  "anaconda-cloud": {},
  "kernelspec": {
   "display_name": "Python [conda env:aind-dlsk]",
   "language": "python",
   "name": "conda-env-aind-dlsk-py"
  },
  "language_info": {
   "codemirror_mode": {
    "name": "ipython",
    "version": 3
   },
   "file_extension": ".py",
   "mimetype": "text/x-python",
   "name": "python",
   "nbconvert_exporter": "python",
   "pygments_lexer": "ipython3",
   "version": "3.5.3"
  }
 },
 "nbformat": 4,
 "nbformat_minor": 2
}
