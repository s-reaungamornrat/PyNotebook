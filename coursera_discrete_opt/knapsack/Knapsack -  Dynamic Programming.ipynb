{
 "cells": [
  {
   "cell_type": "code",
   "execution_count": 2,
   "metadata": {
    "collapsed": true,
    "deletable": true,
    "editable": true
   },
   "outputs": [],
   "source": [
    "import os\n",
    "import sys\n",
    "import time # add\n",
    "import csv # add\n",
    "import itertools #import combinations ### added\n",
    "from collections import namedtuple"
   ]
  },
  {
   "cell_type": "code",
   "execution_count": 7,
   "metadata": {
    "collapsed": true,
    "deletable": true,
    "editable": true
   },
   "outputs": [],
   "source": [
    "Item = namedtuple(\"Item\", ['index', 'value', 'weight'])\n",
    "\n",
    "#### Dynamic programming\n",
    "\n",
    "def print_table(table):\n",
    "    for row in table:\n",
    "        print(row)  \n",
    "        \n",
    "def solve_dp(input_data):\n",
    "    # Modify this code to run your optimization algorithm\n",
    "    \n",
    "    def fill_table(items, capacity):\n",
    "        \"\"\"\n",
    "        Construct a DP table\n",
    "        \"\"\"\n",
    "        #initialize the table\n",
    "        w, h = len(items), capacity\n",
    "        table = [[0 for i in range(w+1)] for k in range(h+1)] \n",
    "\n",
    "        for item in items:\n",
    "            for k in range(1, capacity+1):\n",
    "                if item.weight <= k:\n",
    "                    remain_capacity = k-item.weight\n",
    "                    if table[k][item.index-1] < item.value+table[remain_capacity][item.index-1]:\n",
    "                        table[k][item.index] = item.value+table[remain_capacity][item.index-1]\n",
    "                    else:\n",
    "                        table[k][item.index] = table[k][item.index-1]\n",
    "                else:\n",
    "                    table[k][item.index] = table[k][item.index-1]\n",
    "\n",
    "        return table\n",
    "    \n",
    "    def trace_back(table,items):\n",
    "        \"\"\"\n",
    "        Trace back in the DP table to find selected items\n",
    "        \"\"\"        \n",
    "        capacity = len(table)-1\n",
    "        nitems = len(table[0])-1\n",
    "        \n",
    "        # optimal value\n",
    "        value = table[capacity][nitems]\n",
    "\n",
    "        # find selected items\n",
    "        k, i = capacity, nitems\n",
    "        selected_items = []\n",
    "        while k >= 1 and i >= 1:\n",
    "            if table[k][i-1] != table[k][i]:\n",
    "                selected_items.append(i)\n",
    "                # remaining weight\n",
    "                k = k-items[i-1].weight\n",
    "            i = i-1\n",
    "\n",
    "        return value, selected_items\n",
    "            \n",
    "    \n",
    "    # parse the input\n",
    "    lines = input_data.split('\\n')\n",
    "    firstLine = lines[0].split()\n",
    "    item_count = int(firstLine[0])\n",
    "    capacity = int(firstLine[1])\n",
    "\n",
    "    items = []\n",
    "\n",
    "    for i in range(1, item_count+1):\n",
    "        line = lines[i]\n",
    "        parts = line.split()\n",
    "        items.append(Item(i, int(parts[0]), int(parts[1]))) # count item from 1\n",
    "        \n",
    "    ##-- Dynamic programming\n",
    "    # construct table\n",
    "    table = fill_table(items, capacity)\n",
    "    # find selected items\n",
    "    value, selected_items = trace_back(table, items)\n",
    "    taken = [0]*len(items)\n",
    "    for idx, item in enumerate(items):\n",
    "        if item.index in selected_items: taken[idx] = 1\n",
    "\n",
    "    # prepare the solution in the specified output format\n",
    "    output_data = str(value) + ' ' + str(0) + '\\n'\n",
    "    output_data += ' '.join(map(str, taken))\n",
    "    return output_data"
   ]
  },
  {
   "cell_type": "code",
   "execution_count": 8,
   "metadata": {
    "collapsed": false,
    "deletable": true,
    "editable": true
   },
   "outputs": [
    {
     "data": {
      "text/plain": [
       "'19 0\\n0 0 1 1'"
      ]
     },
     "execution_count": 8,
     "metadata": {},
     "output_type": "execute_result"
    }
   ],
   "source": [
    "file_location = 'C:/D/coursera/discrete_opt/knapsack/data\\\\ks_4_0'\n",
    "with open(file_location, 'r') as input_data_file:\n",
    "    input_data = input_data_file.read()\n",
    "solve_dp(input_data)"
   ]
  },
  {
   "cell_type": "code",
   "execution_count": 2,
   "metadata": {
    "collapsed": false
   },
   "outputs": [
    {
     "data": {
      "text/plain": [
       "[10, 9, 8, 7, 6, 5, 4, 3, 2, 1, 0]"
      ]
     },
     "execution_count": 2,
     "metadata": {},
     "output_type": "execute_result"
    }
   ],
   "source": [
    "[ i for i in range(10, -1, -1)]"
   ]
  }
 ],
 "metadata": {
  "anaconda-cloud": {},
  "kernelspec": {
   "display_name": "Python [conda env:aind-dlsk]",
   "language": "python",
   "name": "conda-env-aind-dlsk-py"
  },
  "language_info": {
   "codemirror_mode": {
    "name": "ipython",
    "version": 3
   },
   "file_extension": ".py",
   "mimetype": "text/x-python",
   "name": "python",
   "nbconvert_exporter": "python",
   "pygments_lexer": "ipython3",
   "version": "3.5.3"
  }
 },
 "nbformat": 4,
 "nbformat_minor": 2
}
