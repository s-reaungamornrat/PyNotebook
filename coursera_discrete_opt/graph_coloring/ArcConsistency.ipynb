{
 "cells": [
  {
   "cell_type": "code",
   "execution_count": 10,
   "metadata": {
    "collapsed": true
   },
   "outputs": [],
   "source": [
    "import os\n",
    "from collections import deque"
   ]
  },
  {
   "cell_type": "code",
   "execution_count": 9,
   "metadata": {
    "collapsed": false
   },
   "outputs": [
    {
     "name": "stdout",
     "output_type": "stream",
     "text": [
      "[(1, 0), (1, 2), (1, 3), (1, 10), (1, 11), (1, 12), (0, 4), (2, 3), (2, 7), (2, 6), (2, 4), (4, 5), (5, 6), (5, 8), (3, 7), (7, 9)]\n"
     ]
    }
   ],
   "source": [
    "data_folder = 'C:/D/coursera/discrete_opt/coloring/data'\n",
    "filename = os.path.join(data_folder,'gc_11_16')\n",
    "\n",
    "with open(filename, 'r') as input_data_file:\n",
    "    input_data = input_data_file.read()\n",
    "\n",
    "lines = input_data.split('\\n')\n",
    "first_line = lines[0].split()\n",
    "node_count = int(first_line[0])\n",
    "edge_count = int(first_line[1])\n",
    "    \n",
    "edges = []\n",
    "for i in range(1, len(lines)):\n",
    "    vertices = lines[i].split()\n",
    "    edges.append((int(vertices[0]), int(vertices[1])))\n",
    "print(edges)"
   ]
  },
  {
   "cell_type": "code",
   "execution_count": 33,
   "metadata": {
    "collapsed": false
   },
   "outputs": [],
   "source": [
    "def revise(D1, D2):\n",
    "    \n",
    "    print('In Revise, D1 {}, D2 {}'.format(D1, D2))\n",
    "    def eligible(d1, D2):\n",
    "        eligible = False\n",
    "        for d2 in D2: \n",
    "            if d1 != d2: \n",
    "                eligible = True\n",
    "                break\n",
    "        return eligible\n",
    "                \n",
    "    change = False\n",
    "    revised_D1 = []\n",
    "    for d1 in D1:\n",
    "        if not eligible(d1, D2): \n",
    "            print('In Revise, D1 {}, D2 {}, remove d1 {}'.format(D1,D2,d1))\n",
    "            change = True\n",
    "        else:\n",
    "            revised_D1.append(d1)\n",
    "            \n",
    "    if change: print('In Revise, Return D1 {}'.format(revised_D1))\n",
    "    return change, revised_D1"
   ]
  },
  {
   "cell_type": "code",
   "execution_count": 27,
   "metadata": {
    "collapsed": false
   },
   "outputs": [],
   "source": [
    "def full_arc_consistency(edges, domains):\n",
    "    '''\n",
    "        domains = {v1:D1, v2:D2,...}\n",
    "    '''\n",
    "    print('In FAC, domains ', domains)\n",
    "    arc_que = deque()\n",
    "    for edge in edges:\n",
    "        arc_que.append(edge)\n",
    "        arc_que.append((edge[1], edge[0]))\n",
    "    print('In FAC, arc_que ', arc_que)\n",
    "\n",
    "    while arc_que:\n",
    "        arc = arc_que.popleft()\n",
    "        print('arc ', arc)\n",
    "        change, d = revise(domains[arc[0]], domains[arc[1]])\n",
    "        if change:\n",
    "            domains[arc[0]] = d\n",
    "            recheck_arc = [edge for edge in edges if edge[1]==arc[0] and edge[0] != arc[1] and edge[0] != arc[0]]+\\\n",
    "                        [(edge[1], edge[0]) for edge in edges if edge[0]==arc[0] and edge[1] != arc[1] and edge[1] != arc[0]]\n",
    "            arc_que.extend(recheck_arc)\n",
    "            \n",
    "    return domains # arg pass by reference so value of global domain changed automatically "
   ]
  },
  {
   "cell_type": "code",
   "execution_count": 12,
   "metadata": {
    "collapsed": false
   },
   "outputs": [
    {
     "name": "stdout",
     "output_type": "stream",
     "text": [
      "Edges  [(1, 0), (1, 2), (1, 3), (1, 10), (1, 11), (1, 12), (0, 4), (2, 3), (2, 7), (2, 6), (2, 4), (4, 5), (5, 6), (5, 8), (3, 7), (7, 9)]\n",
      "Vertices  {0, 1, 2, 3, 4, 5, 6, 7, 8, 9, 10, 11, 12}\n",
      "Domains  {0: [1, 2, 3], 1: [1, 2, 3], 2: [1, 2, 3], 3: [1, 2, 3], 4: [1, 2, 3], 5: [1, 2, 3], 6: [1, 2, 3], 7: [1, 2, 3], 8: [1, 2, 3], 9: [1, 2, 3], 10: [1, 2, 3], 11: [1, 2, 3], 12: [1, 2, 3]}\n"
     ]
    }
   ],
   "source": [
    "data_folder = 'C:/D/coursera/discrete_opt/coloring/data'\n",
    "filename = os.path.join(data_folder,'gc_11_16')\n",
    "\n",
    "with open(filename, 'r') as input_data_file:\n",
    "    input_data = input_data_file.read()\n",
    "\n",
    "lines = input_data.split('\\n')\n",
    "first_line = lines[0].split()\n",
    "node_count = int(first_line[0])\n",
    "edge_count = int(first_line[1])\n",
    "    \n",
    "edges = []\n",
    "for i in range(1, len(lines)):\n",
    "    vertices = lines[i].split()\n",
    "    edges.append((int(vertices[0]), int(vertices[1])))\n",
    "    \n",
    "vertices = set()\n",
    "for edge in edges:\n",
    "    vertices.add(edge[0])\n",
    "    vertices.add(edge[1])\n",
    "    \n",
    "domain = dict()\n",
    "init_domain = [1,2,3]\n",
    "for v in list(vertices):\n",
    "    domain[v] = init_domain\n",
    "print('Edges ', edges)\n",
    "print('Vertices ', vertices)\n",
    "print('Domains ', domain)"
   ]
  },
  {
   "cell_type": "code",
   "execution_count": 35,
   "metadata": {
    "collapsed": false
   },
   "outputs": [
    {
     "name": "stdout",
     "output_type": "stream",
     "text": [
      "In FAC, domains  {0: [2, 3], 1: [1], 2: [2, 3], 3: [2, 3], 4: [1, 2, 3], 5: [1, 2, 3], 6: [1, 2, 3], 7: [1, 2, 3], 8: [1, 2, 3], 9: [1, 2, 3], 10: [2, 3], 11: [2, 3], 12: [2, 3]}\n",
      "In FAC, arc_que  deque([(1, 0), (0, 1), (1, 2), (2, 1), (1, 3), (3, 1), (1, 10), (10, 1), (1, 11), (11, 1), (1, 12), (12, 1), (0, 4), (4, 0), (2, 3), (3, 2), (2, 7), (7, 2), (2, 6), (6, 2), (2, 4), (4, 2), (4, 5), (5, 4), (5, 6), (6, 5), (5, 8), (8, 5), (3, 7), (7, 3), (7, 9), (9, 7)])\n",
      "arc  (1, 0)\n",
      "In Revise, D1 [1], D2 [2, 3]\n",
      "arc  (0, 1)\n",
      "In Revise, D1 [2, 3], D2 [1]\n",
      "arc  (1, 2)\n",
      "In Revise, D1 [1], D2 [2, 3]\n",
      "arc  (2, 1)\n",
      "In Revise, D1 [2, 3], D2 [1]\n",
      "arc  (1, 3)\n",
      "In Revise, D1 [1], D2 [2, 3]\n",
      "arc  (3, 1)\n",
      "In Revise, D1 [2, 3], D2 [1]\n",
      "arc  (1, 10)\n",
      "In Revise, D1 [1], D2 [2, 3]\n",
      "arc  (10, 1)\n",
      "In Revise, D1 [2, 3], D2 [1]\n",
      "arc  (1, 11)\n",
      "In Revise, D1 [1], D2 [2, 3]\n",
      "arc  (11, 1)\n",
      "In Revise, D1 [2, 3], D2 [1]\n",
      "arc  (1, 12)\n",
      "In Revise, D1 [1], D2 [2, 3]\n",
      "arc  (12, 1)\n",
      "In Revise, D1 [2, 3], D2 [1]\n",
      "arc  (0, 4)\n",
      "In Revise, D1 [2, 3], D2 [1, 2, 3]\n",
      "arc  (4, 0)\n",
      "In Revise, D1 [1, 2, 3], D2 [2, 3]\n",
      "arc  (2, 3)\n",
      "In Revise, D1 [2, 3], D2 [2, 3]\n",
      "arc  (3, 2)\n",
      "In Revise, D1 [2, 3], D2 [2, 3]\n",
      "arc  (2, 7)\n",
      "In Revise, D1 [2, 3], D2 [1, 2, 3]\n",
      "arc  (7, 2)\n",
      "In Revise, D1 [1, 2, 3], D2 [2, 3]\n",
      "arc  (2, 6)\n",
      "In Revise, D1 [2, 3], D2 [1, 2, 3]\n",
      "arc  (6, 2)\n",
      "In Revise, D1 [1, 2, 3], D2 [2, 3]\n",
      "arc  (2, 4)\n",
      "In Revise, D1 [2, 3], D2 [1, 2, 3]\n",
      "arc  (4, 2)\n",
      "In Revise, D1 [1, 2, 3], D2 [2, 3]\n",
      "arc  (4, 5)\n",
      "In Revise, D1 [1, 2, 3], D2 [1, 2, 3]\n",
      "arc  (5, 4)\n",
      "In Revise, D1 [1, 2, 3], D2 [1, 2, 3]\n",
      "arc  (5, 6)\n",
      "In Revise, D1 [1, 2, 3], D2 [1, 2, 3]\n",
      "arc  (6, 5)\n",
      "In Revise, D1 [1, 2, 3], D2 [1, 2, 3]\n",
      "arc  (5, 8)\n",
      "In Revise, D1 [1, 2, 3], D2 [1, 2, 3]\n",
      "arc  (8, 5)\n",
      "In Revise, D1 [1, 2, 3], D2 [1, 2, 3]\n",
      "arc  (3, 7)\n",
      "In Revise, D1 [2, 3], D2 [1, 2, 3]\n",
      "arc  (7, 3)\n",
      "In Revise, D1 [1, 2, 3], D2 [2, 3]\n",
      "arc  (7, 9)\n",
      "In Revise, D1 [1, 2, 3], D2 [1, 2, 3]\n",
      "arc  (9, 7)\n",
      "In Revise, D1 [1, 2, 3], D2 [1, 2, 3]\n",
      "Domains  {0: [2, 3], 1: [1], 2: [2, 3], 3: [2, 3], 4: [1, 2, 3], 5: [1, 2, 3], 6: [1, 2, 3], 7: [1, 2, 3], 8: [1, 2, 3], 9: [1, 2, 3], 10: [2, 3], 11: [2, 3], 12: [2, 3]}\n"
     ]
    }
   ],
   "source": [
    "domain[1] = [1]\n",
    "full_arc_consistency(edges, domain)\n",
    "print('Domains ', domain)"
   ]
  }
 ],
 "metadata": {
  "kernelspec": {
   "display_name": "Python [conda env:aind-dlsk]",
   "language": "python",
   "name": "conda-env-aind-dlsk-py"
  },
  "language_info": {
   "codemirror_mode": {
    "name": "ipython",
    "version": 3
   },
   "file_extension": ".py",
   "mimetype": "text/x-python",
   "name": "python",
   "nbconvert_exporter": "python",
   "pygments_lexer": "ipython3",
   "version": "3.5.3"
  }
 },
 "nbformat": 4,
 "nbformat_minor": 2
}
