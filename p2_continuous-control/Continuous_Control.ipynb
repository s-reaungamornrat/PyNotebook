{
 "cells": [
  {
   "cell_type": "markdown",
   "metadata": {},
   "source": [
    "# Continuous Control\n",
    "\n",
    "---\n",
    "\n",
    "In this notebook, you will learn how to use the Unity ML-Agents environment for the second project of the [Deep Reinforcement Learning Nanodegree](https://www.udacity.com/course/deep-reinforcement-learning-nanodegree--nd893) program.\n",
    "\n",
    "### 1. Start the Environment\n",
    "\n",
    "We begin by importing the necessary packages.  If the code cell below returns an error, please revisit the project instructions to double-check that you have installed [Unity ML-Agents](https://github.com/Unity-Technologies/ml-agents/blob/master/docs/Installation.md) and [NumPy](http://www.numpy.org/)."
   ]
  },
  {
   "cell_type": "code",
   "execution_count": 1,
   "metadata": {
    "collapsed": true
   },
   "outputs": [],
   "source": [
    "from unityagents import UnityEnvironment\n",
    "import numpy as np"
   ]
  },
  {
   "cell_type": "markdown",
   "metadata": {},
   "source": [
    "Next, we will start the environment!  **_Before running the code cell below_**, change the `file_name` parameter to match the location of the Unity environment that you downloaded.\n",
    "\n",
    "- **Mac**: `\"path/to/Reacher.app\"`\n",
    "- **Windows** (x86): `\"path/to/Reacher_Windows_x86/Reacher.exe\"`\n",
    "- **Windows** (x86_64): `\"path/to/Reacher_Windows_x86_64/Reacher.exe\"`\n",
    "- **Linux** (x86): `\"path/to/Reacher_Linux/Reacher.x86\"`\n",
    "- **Linux** (x86_64): `\"path/to/Reacher_Linux/Reacher.x86_64\"`\n",
    "- **Linux** (x86, headless): `\"path/to/Reacher_Linux_NoVis/Reacher.x86\"`\n",
    "- **Linux** (x86_64, headless): `\"path/to/Reacher_Linux_NoVis/Reacher.x86_64\"`\n",
    "\n",
    "For instance, if you are using a Mac, then you downloaded `Reacher.app`.  If this file is in the same folder as the notebook, then the line below should appear as follows:\n",
    "```\n",
    "env = UnityEnvironment(file_name=\"Reacher.app\")\n",
    "```"
   ]
  },
  {
   "cell_type": "code",
   "execution_count": 19,
   "metadata": {},
   "outputs": [
    {
     "name": "stderr",
     "output_type": "stream",
     "text": [
      "INFO:unityagents:\n",
      "'Academy' started successfully!\n",
      "Unity Academy name: Academy\n",
      "        Number of Brains: 1\n",
      "        Number of External Brains : 1\n",
      "        Lesson number : 0\n",
      "        Reset Parameters :\n",
      "\t\tgoal_size -> 5.0\n",
      "\t\tgoal_speed -> 1.0\n",
      "Unity brain name: ReacherBrain\n",
      "        Number of Visual Observations (per agent): 0\n",
      "        Vector Observation space type: continuous\n",
      "        Vector Observation space size (per agent): 33\n",
      "        Number of stacked Vector Observation: 1\n",
      "        Vector Action space type: continuous\n",
      "        Vector Action space size (per agent): 4\n",
      "        Vector Action descriptions: , , , \n"
     ]
    }
   ],
   "source": [
    "env = UnityEnvironment(file_name='../Reacher_Windows_x86_64/Reacher.exe')"
   ]
  },
  {
   "cell_type": "markdown",
   "metadata": {},
   "source": [
    "Environments contain **_brains_** which are responsible for deciding the actions of their associated agents. Here we check for the first brain available, and set it as the default brain we will be controlling from Python."
   ]
  },
  {
   "cell_type": "code",
   "execution_count": 20,
   "metadata": {
    "collapsed": true
   },
   "outputs": [],
   "source": [
    "# get the default brain\n",
    "brain_name = env.brain_names[0]\n",
    "brain = env.brains[brain_name]"
   ]
  },
  {
   "cell_type": "markdown",
   "metadata": {},
   "source": [
    "### 2. Examine the State and Action Spaces\n",
    "\n",
    "In this environment, a double-jointed arm can move to target locations. A reward of `+0.1` is provided for each step that the agent's hand is in the goal location. Thus, the goal of your agent is to maintain its position at the target location for as many time steps as possible.\n",
    "\n",
    "The observation space consists of `33` variables corresponding to position, rotation, velocity, and angular velocities of the arm.  Each action is a vector with four numbers, corresponding to torque applicable to two joints.  Every entry in the action vector must be a number between `-1` and `1`.\n",
    "\n",
    "Run the code cell below to print some information about the environment."
   ]
  },
  {
   "cell_type": "code",
   "execution_count": 22,
   "metadata": {},
   "outputs": [
    {
     "name": "stdout",
     "output_type": "stream",
     "text": [
      "Number of agents: 20\n",
      "Size of each action: 4\n",
      "There are 20 agents. Each observes a state with length: 33\n",
      "The state for the first agent looks like: [ 0.00000000e+00 -4.00000000e+00  0.00000000e+00  1.00000000e+00\n",
      " -0.00000000e+00 -0.00000000e+00 -4.37113883e-08  0.00000000e+00\n",
      "  0.00000000e+00  0.00000000e+00  0.00000000e+00  0.00000000e+00\n",
      "  0.00000000e+00  0.00000000e+00 -1.00000000e+01  0.00000000e+00\n",
      "  1.00000000e+00 -0.00000000e+00 -0.00000000e+00 -4.37113883e-08\n",
      "  0.00000000e+00  0.00000000e+00  0.00000000e+00  0.00000000e+00\n",
      "  0.00000000e+00  0.00000000e+00  7.90150833e+00 -1.00000000e+00\n",
      "  1.25147629e+00  0.00000000e+00  1.00000000e+00  0.00000000e+00\n",
      " -5.22214413e-01]\n"
     ]
    }
   ],
   "source": [
    "# reset the environment\n",
    "env_info = env.reset(train_mode=True)[brain_name]\n",
    "\n",
    "# number of agents\n",
    "num_agents = len(env_info.agents)\n",
    "print('Number of agents:', num_agents)\n",
    "\n",
    "# size of each action\n",
    "action_size = brain.vector_action_space_size\n",
    "print('Size of each action:', action_size)\n",
    "\n",
    "# examine the state space \n",
    "states = env_info.vector_observations\n",
    "state_size = states.shape[1]\n",
    "print('There are {} agents. Each observes a state with length: {}'.format(states.shape[0], state_size))\n",
    "print('The state for the first agent looks like:', states[0])"
   ]
  },
  {
   "cell_type": "code",
   "execution_count": 23,
   "metadata": {},
   "outputs": [
    {
     "name": "stdout",
     "output_type": "stream",
     "text": [
      "<class 'numpy.ndarray'> (20, 4)\n"
     ]
    }
   ],
   "source": [
    "actions = np.random.randn(num_agents, action_size)\n",
    "print(type(actions), actions.shape)"
   ]
  },
  {
   "cell_type": "markdown",
   "metadata": {},
   "source": [
    "### 3. Take Random Actions in the Environment\n",
    "\n",
    "In the next code cell, you will learn how to use the Python API to control the agent and receive feedback from the environment.\n",
    "\n",
    "Once this cell is executed, you will watch the agent's performance, if it selects an action at random with each time step.  A window should pop up that allows you to observe the agent, as it moves through the environment.  \n",
    "\n",
    "Of course, as part of the project, you'll have to change the code so that the agent is able to use its experience to gradually choose better actions when interacting with the environment!"
   ]
  },
  {
   "cell_type": "code",
   "execution_count": 13,
   "metadata": {},
   "outputs": [
    {
     "name": "stdout",
     "output_type": "stream",
     "text": [
      "Total score (averaged over agents) this episode: 0.13799999691545964\n"
     ]
    }
   ],
   "source": [
    "env_info = env.reset(train_mode=False)[brain_name]     # reset the environment    \n",
    "states = env_info.vector_observations                  # get the current state (for each agent)\n",
    "scores = np.zeros(num_agents)                          # initialize the score (for each agent)\n",
    "while True:\n",
    "    actions = np.random.randn(num_agents, action_size) # select an action (for each agent)\n",
    "    actions = np.clip(actions, -1, 1)                  # all actions between -1 and 1\n",
    "    env_info = env.step(actions)[brain_name]           # send all actions to tne environment\n",
    "    next_states = env_info.vector_observations         # get next state (for each agent)\n",
    "    rewards = env_info.rewards                         # get reward (for each agent)\n",
    "    dones = env_info.local_done                        # see if episode finished\n",
    "    scores += env_info.rewards                         # update the score (for each agent)\n",
    "    states = next_states                               # roll over states to next time step\n",
    "    if np.any(dones):                                  # exit loop if episode finished\n",
    "        break\n",
    "print('Total score (averaged over agents) this episode: {}'.format(np.mean(scores)))"
   ]
  },
  {
   "cell_type": "markdown",
   "metadata": {},
   "source": [
    "When finished, you can close the environment."
   ]
  },
  {
   "cell_type": "code",
   "execution_count": 14,
   "metadata": {
    "collapsed": true
   },
   "outputs": [],
   "source": [
    "env.close()"
   ]
  },
  {
   "cell_type": "code",
   "execution_count": 13,
   "metadata": {
    "collapsed": true
   },
   "outputs": [],
   "source": [
    "env_step = lambda actions: env.step(actions)[brain_name]\n",
    "\n",
    "env_info = env.reset(train_mode=False)[brain_name]     # reset the environment    \n",
    "states = env_info.vector_observations                  # get the current state (for each agent)\n",
    " \n",
    "actions = np.random.randn(num_agents, action_size) \n",
    "actions = np.clip(actions, -1, 1)                  # all actions between -1 and 1\n",
    "env_info1 = env.step(actions)[brain_name]           # send all actions to tne environment\n",
    "\n",
    "env_info2 = env_step(actions)"
   ]
  },
  {
   "cell_type": "code",
   "execution_count": 14,
   "metadata": {},
   "outputs": [
    {
     "name": "stdout",
     "output_type": "stream",
     "text": [
      "<class 'numpy.ndarray'> (20, 33)\n",
      "[[-6.47201538e-02 -3.99803162e+00  1.20651245e-01  9.99855042e-01\n",
      "  -8.04913417e-03  1.02381775e-04  1.50081562e-02 -5.98646820e-01\n",
      "  -5.57847321e-03 -3.08783233e-01 -1.24151468e+00  5.57997525e-02\n",
      "   2.40595150e+00 -3.05023193e-02 -9.99087429e+00  1.65672302e-02\n",
      "   9.99381363e-01  1.37335043e-02  1.02206471e-03 -3.23639624e-02\n",
      "   1.29174900e+00 -5.69269918e-02  5.24914920e-01  1.78653345e-01\n",
      "   3.61195594e-01 -1.54479659e+00  7.11806488e+00 -1.00000000e+00\n",
      "  -3.65145874e+00  0.00000000e+00  1.00000000e+00  0.00000000e+00\n",
      "   3.92812490e-02]\n",
      " [-1.79775238e-01 -3.99524236e+00  1.09401703e-01  9.99657273e-01\n",
      "  -2.23607384e-02  2.64480361e-04  1.36137670e-02 -4.75487024e-01\n",
      "  -1.50353266e-02 -8.46784472e-01 -3.40369010e+00  1.28692985e-01\n",
      "   1.90895736e+00 -5.52368164e-02 -9.98088932e+00  6.98623657e-02\n",
      "   9.98863518e-01  4.30935398e-02  2.06415495e-03 -2.02578176e-02\n",
      "   6.91070616e-01 -1.14419281e-01  1.64023089e+00  1.36701000e+00\n",
      "   6.97844148e-01  2.86301792e-01  5.44112778e+00 -1.00000000e+00\n",
      "   5.86465073e+00  0.00000000e+00  1.00000000e+00  0.00000000e+00\n",
      "   9.63666677e-01]]\n",
      "[0.0, 0.0]\n",
      "[False, False]\n",
      "\n",
      "[[-2.11799622e-01 -3.97471261e+00  4.08138275e-01  9.98358011e-01\n",
      "  -2.63185166e-02  1.28568208e-03  5.08640632e-02 -1.05514729e+00\n",
      "  -4.35624234e-02 -5.36227345e-01 -2.16132236e+00  4.33959156e-01\n",
      "   4.21763086e+00 -1.01001740e-01 -9.87512589e+00  5.02357483e-02\n",
      "   9.92716074e-01  4.37720083e-02  1.28733246e-02 -1.11503854e-01\n",
      "   2.37558246e+00 -4.34449106e-01  8.49615633e-01  2.86051571e-01\n",
      "   2.88373518e+00 -2.90036345e+00  7.10802460e+00 -1.00000000e+00\n",
      "  -3.67096710e+00  0.00000000e+00  1.00000000e+00  0.00000000e+00\n",
      "   3.92812490e-02]\n",
      " [-5.61061859e-01 -3.95045710e+00  3.09291840e-01  9.96799290e-01\n",
      "  -6.98788166e-02  2.62347283e-03  3.87465246e-02 -7.08871007e-01\n",
      "  -8.70284066e-02 -1.36166918e+00 -5.45213509e+00  7.99777091e-01\n",
      "   2.78720927e+00 -1.63024902e-01 -9.78954887e+00  2.16060638e-01\n",
      "   9.88817453e-01  1.36192873e-01  2.08857339e-02 -5.70571274e-02\n",
      "   1.08810675e+00 -6.87518179e-01  2.68303800e+00  2.38737392e+00\n",
      "   4.46034813e+00  8.22760820e-01  5.82307434e+00 -1.00000000e+00\n",
      "   5.48559952e+00  0.00000000e+00  1.00000000e+00  0.00000000e+00\n",
      "   9.63666677e-01]]\n",
      "[0.0, 0.0]\n",
      "[False, False]\n"
     ]
    }
   ],
   "source": [
    "print(type(env_info1.vector_observations), env_info1.vector_observations.shape)\n",
    "print('{}\\n{}\\n{}'.format(env_info1.vector_observations[:2], env_info1.rewards[:2], env_info1.local_done[:2]))\n",
    "\n",
    "\n",
    "print('\\n{}\\n{}\\n{}'.format(env_info2.vector_observations[:2], env_info2.rewards[:2], env_info2.local_done[:2]))"
   ]
  },
  {
   "cell_type": "code",
   "execution_count": 15,
   "metadata": {},
   "outputs": [],
   "source": [
    "env.close()"
   ]
  },
  {
   "cell_type": "markdown",
   "metadata": {},
   "source": [
    "### 4. It's Your Turn!\n",
    "\n",
    "Now it's your turn to train your own agent to solve the environment!  When training the environment, set `train_mode=True`, so that the line for resetting the environment looks like the following:\n",
    "```python\n",
    "env_info = env.reset(train_mode=True)[brain_name]\n",
    "```"
   ]
  },
  {
   "cell_type": "code",
   "execution_count": 6,
   "metadata": {},
   "outputs": [
    {
     "name": "stdout",
     "output_type": "stream",
     "text": [
      "The autoreload extension is already loaded. To reload it, use:\n",
      "  %reload_ext autoreload\n"
     ]
    }
   ],
   "source": [
    "%load_ext autoreload\n",
    "%autoreload 2\n",
    "    \n",
    "from networks import * "
   ]
  },
  {
   "cell_type": "code",
   "execution_count": 17,
   "metadata": {},
   "outputs": [
    {
     "data": {
      "text/plain": [
       "tensor([[1., 1., 1., 1.]])"
      ]
     },
     "execution_count": 17,
     "metadata": {},
     "output_type": "execute_result"
    }
   ],
   "source": [
    "import numpy as np\n",
    "from collections import namedtuple, deque\n",
    "\n",
    "    \n",
    "class PPOAgent():\n",
    "    \n",
    "    def __init__(self, network_fn, optimizer_fn, action_size, batch_size, old_trajectory_reuse_freq=4, \n",
    "                 rollout_length=10, num_workers=20,):\n",
    "\n",
    "        self.network = network_fn()\n",
    "        self.opt = optimizer_fn(self.network.parameters())\n",
    "        self.total_steps = 0\n",
    "        self.online_rewards = np.zeros(num_workers)\n",
    "        self.episode_rewards = []\n",
    "        self.rollout_length = rollout_length\n",
    "        self.num_workers = num_workers\n",
    "        \n",
    "        # replay memory\n",
    "        self.memory = ReplayBuffer(action_size, self.rollout_length, batch_size)\n",
    "        \n",
    "    def step(self, states, actions, rewards, next_states, dones):\n",
    "        # save experience in replay memory\n",
    "        self.memory.add(states, actions, rewards, next_states, dones)\n",
    "        \n",
    "        if len(self.memory) == self.rollout_length:\n",
    "            # learn\n",
    "        \n",
    "            self.memory.memory.clear()\n",
    "            \n",
    "    def \n",
    "        advantages = tensor(np.zeros((num_workers, 1)))\n",
    "        returns = pending_value.detach()\n",
    "        for i in reversed(range(len(rollout) - 1)):\n",
    "            states, value, actions, log_probs, rewards, terminals = rollout[i]\n",
    "            terminals = tensor(terminals).unsqueeze(1)\n",
    "            rewards = tensor(rewards).unsqueeze(1)\n",
    "            actions = tensor(actions)\n",
    "            states = tensor(states)\n",
    "            next_value = rollout[i + 1][1]\n",
    "            returns = rewards + config.discount * terminals * returns\n",
    "            if not config.use_gae:\n",
    "                advantages = returns - value.detach()\n",
    "            else:\n",
    "                td_error = rewards + config.discount * terminals * next_value.detach() - value.detach()\n",
    "                advantages = advantages * config.gae_tau * config.discount * terminals + td_error\n",
    "            processed_rollout[i] = [states, actions, log_probs, returns, advantages]\n",
    "        \n",
    "# # Learn every UPDATE_EVERY time steps.\n",
    "#         self.t_step = (self.t_step + 1) % UPDATE_EVERY\n",
    "#         if self.t_step == 0:\n",
    "#             # If enough samples are available in memory, get random subset and learn\n",
    "#             if len(self.memory) > BATCH_SIZE:\n",
    "#                 experiences = self.memory.sample()\n",
    "#                 self.learn(experiences, GAMMA)\n",
    "\n",
    "        \n",
    "    def step_(self, states, actions, rewards, next_states, dones, beta):\n",
    "\n",
    "        rollout = []\n",
    "        for _ in range(self.rollout_length):\n",
    "            actions, log_probs, _, values = self.network(states)\n",
    "            next_states, rewards, terminals, _ = self.task.step(actions.cpu().detach().numpy())\n",
    "            self.online_rewards += rewards\n",
    "            rewards = config.reward_normalizer(rewards)\n",
    "            for i, terminal in enumerate(terminals):\n",
    "                if terminals[i]:\n",
    "                    self.episode_rewards.append(self.online_rewards[i])\n",
    "                    self.online_rewards[i] = 0\n",
    "            next_states = config.state_normalizer(next_states)\n",
    "            rollout.append([states, values.detach(), actions.detach(), log_probs.detach(), rewards, 1 - terminals])\n",
    "            states = next_states\n",
    "\n",
    "        self.states = states\n",
    "        pending_value = self.network(states)[-1]\n",
    "        rollout.append([states, pending_value, None, None, None, None])\n",
    "\n",
    "        processed_rollout = [None] * (len(rollout) - 1)\n",
    "        advantages = tensor(np.zeros((config.num_workers, 1)))\n",
    "        returns = pending_value.detach()\n",
    "        for i in reversed(range(len(rollout) - 1)):\n",
    "            states, value, actions, log_probs, rewards, terminals = rollout[i]\n",
    "            terminals = tensor(terminals).unsqueeze(1)\n",
    "            rewards = tensor(rewards).unsqueeze(1)\n",
    "            actions = tensor(actions)\n",
    "            states = tensor(states)\n",
    "            next_value = rollout[i + 1][1]\n",
    "            returns = rewards + config.discount * terminals * returns\n",
    "            if not config.use_gae:\n",
    "                advantages = returns - value.detach()\n",
    "            else:\n",
    "                td_error = rewards + config.discount * terminals * next_value.detach() - value.detach()\n",
    "                advantages = advantages * config.gae_tau * config.discount * terminals + td_error\n",
    "            processed_rollout[i] = [states, actions, log_probs, returns, advantages]\n",
    "\n",
    "        states, actions, log_probs_old, returns, advantages = map(lambda x: torch.cat(x, dim=0), zip(*processed_rollout))\n",
    "        advantages = (advantages - advantages.mean()) / advantages.std()\n",
    "\n",
    "        batcher = Batcher(states.size(0) // config.num_mini_batches, [np.arange(states.size(0))])\n",
    "        for _ in range(config.optimization_epochs):\n",
    "            batcher.shuffle()\n",
    "            while not batcher.end():\n",
    "                batch_indices = batcher.next_batch()[0]\n",
    "                batch_indices = tensor(batch_indices).long()\n",
    "                sampled_states = states[batch_indices]\n",
    "                sampled_actions = actions[batch_indices]\n",
    "                sampled_log_probs_old = log_probs_old[batch_indices]\n",
    "                sampled_returns = returns[batch_indices]\n",
    "                sampled_advantages = advantages[batch_indices]\n",
    "\n",
    "                _, log_probs, entropy_loss, values = self.network(sampled_states, sampled_actions)\n",
    "                ratio = (log_probs - sampled_log_probs_old).exp()\n",
    "                obj = ratio * sampled_advantages\n",
    "                obj_clipped = ratio.clamp(1.0 - self.config.ppo_ratio_clip,\n",
    "                                          1.0 + self.config.ppo_ratio_clip) * sampled_advantages\n",
    "                policy_loss = -torch.min(obj, obj_clipped).mean(0) - config.entropy_weight * entropy_loss.mean()\n",
    "\n",
    "                value_loss = 0.5 * (sampled_returns - values).pow(2).mean()\n",
    "\n",
    "                self.opt.zero_grad()\n",
    "                (policy_loss + value_loss).backward()\n",
    "                nn.utils.clip_grad_norm_(self.network.parameters(), config.gradient_clip)\n",
    "                self.opt.step()\n",
    "\n",
    "        steps = config.rollout_length * config.num_workers\n",
    "        self.total_steps += steps"
   ]
  },
  {
   "cell_type": "code",
   "execution_count": null,
   "metadata": {
    "collapsed": true
   },
   "outputs": [],
   "source": [
    "network_fn = lambda: GaussianActorCriticNet(device, state_size, action_size, actor_body=FCBody(state_size), \n",
    "                                            critic_body=FCBody(state_size), phi_body=None)\n",
    "optimizer_fn = lambda params: torch.optim.Adam(params, 3e-4, eps=1e-5)"
   ]
  },
  {
   "cell_type": "markdown",
   "metadata": {},
   "source": [
    "## Collect "
   ]
  },
  {
   "cell_type": "code",
   "execution_count": 16,
   "metadata": {},
   "outputs": [
    {
     "name": "stdout",
     "output_type": "stream",
     "text": [
      "A est torch.Size([20, 128]) v est torch.Size([20, 128])\n",
      "Mean size  torch.Size([20, 4])\n"
     ]
    }
   ],
   "source": [
    "device = torch.device(\"cuda:0\" if torch.cuda.is_available() else \"cpu\")\n",
    "actor_critic_net = GaussianActorCriticNet(device, state_size, action_size, FCBody(state_size), FCBody(state_size), phi_body=None)\n",
    "action, log_prob, what, v = actor_critic_net(torch_states)"
   ]
  },
  {
   "cell_type": "code",
   "execution_count": 83,
   "metadata": {},
   "outputs": [],
   "source": [
    "from collections import namedtuple, deque\n",
    "rollout_length = 10\n",
    "\n",
    "experiences = []\n",
    "\n",
    "experience = namedtuple(\"Experience\", field_names=[\"states\", \"actions\", \"rewards\", \"next_states\", \"dones\", \"log_probs\", \"values\"])\n",
    "env_info = env.reset(train_mode=True)[brain_name]     # reset the environment    \n",
    "states = env_info.vector_observations                  # get the current state (for each agent)                       \n",
    "for _ in range(rollout_length):\n",
    "    states = np.vstack(states)\n",
    "    actions, log_probs, _, values = actor_critic_net(torch.from_numpy(states).float()) # select an action (for each agent)\n",
    "    actions = np.clip(actions.cpu().detach().numpy(), -1, 1)                  # all actions between -1 and 1\n",
    "    env_info = env.step(actions)[brain_name]           # send all actions to tne environment\n",
    "    next_states = env_info.vector_observations         # get next state (for each agent)\n",
    "    rewards = np.asarray(env_info.rewards, dtype=np.float32)                         # get reward (for each agent)\n",
    "    dones = np.asarray(env_info.local_done, dtype=np.uint8).astype(np.float32)   # see if episode finished\n",
    "    experiences.append(experience(states, actions, rewards, next_states, dones, log_probs.detach().cpu().numpy(),\n",
    "                                 values.detach().cpu().numpy()))\n",
    "    states = next_states                          # roll over states to next time step\n",
    "    if np.any(dones):                                  # exit loop if episode finished\n",
    "        break\n",
    "        \n",
    "pending_value = actor_critic_net(torch.from_numpy(np.vstack(states)).float())[-1]\n",
    "experiences.append(experience(states, None, None, None, None, None, pending_value.detach().cpu().numpy()))"
   ]
  },
  {
   "cell_type": "code",
   "execution_count": 84,
   "metadata": {},
   "outputs": [
    {
     "data": {
      "text/plain": [
       "array([0., 0., 0., 0., 0., 0., 0., 0., 0., 0., 0., 0., 0., 0., 0., 0., 0.,\n",
       "       0., 0., 0.], dtype=float32)"
      ]
     },
     "execution_count": 84,
     "metadata": {},
     "output_type": "execute_result"
    }
   ],
   "source": [
    "dones"
   ]
  },
  {
   "cell_type": "code",
   "execution_count": 81,
   "metadata": {},
   "outputs": [
    {
     "name": "stdout",
     "output_type": "stream",
     "text": [
      "None [[-0.462941  ]\n",
      " [-0.5638881 ]\n",
      " [-0.6661989 ]\n",
      " [-0.7665816 ]\n",
      " [-1.0214715 ]\n",
      " [-0.2643922 ]\n",
      " [-1.6101503 ]\n",
      " [-0.59643865]\n",
      " [ 0.10435203]\n",
      " [-0.3910293 ]\n",
      " [-0.6474537 ]\n",
      " [-0.07122004]\n",
      " [-0.9696152 ]\n",
      " [-0.0911597 ]\n",
      " [-0.4812882 ]\n",
      " [-0.12599069]\n",
      " [-0.47137606]\n",
      " [-0.60430366]\n",
      " [-0.9753622 ]\n",
      " [-0.4045094 ]]\n"
     ]
    }
   ],
   "source": [
    "print(experiences[10].actions, experiences[10].values)"
   ]
  },
  {
   "cell_type": "code",
   "execution_count": 115,
   "metadata": {},
   "outputs": [],
   "source": [
    "num_workers = 20\n",
    "discount = 0.995\n",
    "gae_tau = 0.96\n",
    "use_gae = True\n",
    "rollout = experiences\n",
    "processed_rollout = [None] * (len(rollout) - 1)\n",
    "advantages = torch.tensor(np.zeros((num_workers, 1))).float()\n",
    "returns = torch.from_numpy(rollout[-1].values).float()\n",
    "for i in reversed(range(len(rollout)-1)): # compute returns backward\n",
    "    states = torch.from_numpy(rollout[i].states).float()\n",
    "    dones = torch.from_numpy(rollout[i].dones).float().unsqueeze(1)\n",
    "    rewards = torch.from_numpy(rollout[i].rewards).float().unsqueeze(1)\n",
    "    actions = torch.from_numpy(rollout[i].actions).float()\n",
    "    log_probs = torch.from_numpy(rollout[i].log_probs).float()\n",
    "    values = torch.from_numpy(rollout[i].values).float()\n",
    "    next_values = torch.from_numpy(rollout[i + 1].values).float()\n",
    "    returns = rewards + discount * (1.-dones) * returns # compute returns backward\n",
    "    if not use_gae:\n",
    "        advantages = returns - values\n",
    "    else:\n",
    "        # value at current state computed based on reward and value of the next state\n",
    "        td_error = rewards + discount * (1.-dones) * next_values - values\n",
    "        advantages = advantages * gae_tau * discount * (1.-dones) + td_error\n",
    "    processed_rollout[i] = [states, actions, log_probs, returns, advantages]\n",
    "    \n",
    "states_, actions_, log_probs_old, returns_, advantages_ = map(lambda x: torch.cat(x, dim=0), zip(*processed_rollout))\n",
    "advantages = (advantages - advantages.mean()) / advantages.std()"
   ]
  },
  {
   "cell_type": "code",
   "execution_count": 112,
   "metadata": {},
   "outputs": [
    {
     "name": "stdout",
     "output_type": "stream",
     "text": [
      "[9, 8, 7, 6, 5, 4, 3, 2, 1, 0]\n"
     ]
    }
   ],
   "source": []
  },
  {
   "cell_type": "code",
   "execution_count": null,
   "metadata": {},
   "outputs": [],
   "source": []
  },
  {
   "cell_type": "code",
   "execution_count": null,
   "metadata": {
    "collapsed": true
   },
   "outputs": [],
   "source": [
    "batcher = Batcher(states.size(0) // config.num_mini_batches, [np.arange(states.size(0))])\n",
    "for _ in range(config.optimization_epochs):\n",
    "    batcher.shuffle()\n",
    "    while not batcher.end():\n",
    "        batch_indices = batcher.next_batch()[0]\n",
    "        batch_indices = tensor(batch_indices).long()\n",
    "        sampled_states = states[batch_indices]\n",
    "        sampled_actions = actions[batch_indices]\n",
    "        sampled_log_probs_old = log_probs_old[batch_indices]\n",
    "        sampled_returns = returns[batch_indices]\n",
    "        sampled_advantages = advantages[batch_indices]\n",
    "\n",
    "        _, log_probs, entropy_loss, values = self.network(sampled_states, sampled_actions)\n",
    "        ratio = (log_probs - sampled_log_probs_old).exp()\n",
    "        obj = ratio * sampled_advantages\n",
    "        obj_clipped = ratio.clamp(1.0 - self.config.ppo_ratio_clip,\n",
    "                                  1.0 + self.config.ppo_ratio_clip) * sampled_advantages\n",
    "        policy_loss = -torch.min(obj, obj_clipped).mean(0) - config.entropy_weight * entropy_loss.mean()\n",
    "\n",
    "        value_loss = 0.5 * (sampled_returns - values).pow(2).mean()\n",
    "\n",
    "        self.opt.zero_grad()\n",
    "        (policy_loss + value_loss).backward()\n",
    "        nn.utils.clip_grad_norm_(self.network.parameters(), config.gradient_clip)\n",
    "        self.opt.step()\n",
    "\n",
    "steps = config.rollout_length * config.num_workers\n",
    "self.total_steps += steps"
   ]
  },
  {
   "cell_type": "code",
   "execution_count": 48,
   "metadata": {},
   "outputs": [
    {
     "name": "stdout",
     "output_type": "stream",
     "text": [
      "(20, 4) (20,) (20,) (20, 33)\n"
     ]
    },
    {
     "data": {
      "text/plain": [
       "array([[-0.7854995 ],\n",
       "       [-0.32664633],\n",
       "       [ 0.06921536],\n",
       "       [ 0.07971919],\n",
       "       [-0.18812484],\n",
       "       [-0.75048244],\n",
       "       [-0.63976485],\n",
       "       [-0.9276898 ],\n",
       "       [-0.36199975],\n",
       "       [ 0.11163509],\n",
       "       [-0.89272094],\n",
       "       [-0.552886  ],\n",
       "       [-0.39660156],\n",
       "       [ 0.01381528],\n",
       "       [-0.22096801],\n",
       "       [-0.20652503],\n",
       "       [-0.42636907],\n",
       "       [-0.7495433 ],\n",
       "       [-0.85351694],\n",
       "       [-1.0061417 ]], dtype=float32)"
      ]
     },
     "execution_count": 48,
     "metadata": {},
     "output_type": "execute_result"
    }
   ],
   "source": [
    "class ReplayBuffer:\n",
    "    \"\"\"Fixed-size buffer to store experience tuples.\"\"\"\n",
    "\n",
    "    def __init__(self, action_size, buffer_size=int(1e5)):\n",
    "        \"\"\"Initialize a ReplayBuffer object.\n",
    "        Params\n",
    "        ======\n",
    "            action_size (int): dimension of each action\n",
    "            buffer_size (int): maximum size of buffer\n",
    "            batch_size (int): size of each training batch\n",
    "            seed (int): random seed\n",
    "        \"\"\"\n",
    "        self.action_size = action_size\n",
    "        self.memory = deque(maxlen=buffer_size)  \n",
    "        self.batch_size = batch_size\n",
    "        self.experience = namedtuple(\"Experience\", field_names=[\"state\", \"action\", \"reward\", \"next_state\", \"done\",\n",
    "                                                               \"log_prob\", \"values\"])\n",
    "    \n",
    "    def add(self, states, actions, rewards, next_states, dones, log_probs, values):\n",
    "        \"\"\"Add a new experience to memory.\"\"\"\n",
    "        e = self.experience(states, actions, rewards, next_states, dones, log_probs, values)\n",
    "        self.memory.append(e)\n",
    "    \n",
    "    def sample(self):\n",
    "        \"\"\"Randomly sample a batch of experiences from memory.\"\"\"\n",
    "        experiences = random.sample(self.memory, k=self.batch_size)\n",
    "\n",
    "        states = torch.from_numpy(np.vstack([e.state for e in experiences if e is not None])).float().to(device)\n",
    "        actions = torch.from_numpy(np.vstack([e.action for e in experiences if e is not None])).float().to(device)\n",
    "        rewards = torch.from_numpy(np.vstack([e.reward for e in experiences if e is not None])).float().to(device)\n",
    "        next_states = torch.from_numpy(np.vstack([e.next_state for e in experiences if e is not None])).float().to(device)\n",
    "        dones = torch.from_numpy(np.vstack([e.done for e in experiences if e is not None]).astype(np.uint8)).float().to(device)\n",
    "  \n",
    "        return (states, actions, rewards, next_states, dones)\n",
    "\n",
    "    def __len__(self):\n",
    "        \"\"\"Return the current size of internal memory.\"\"\"\n",
    "        return len(self.memory)"
   ]
  }
 ],
 "metadata": {
  "kernelspec": {
   "display_name": "Python [conda env:drlnd]",
   "language": "python",
   "name": "conda-env-drlnd-py"
  },
  "language_info": {
   "codemirror_mode": {
    "name": "ipython",
    "version": 3
   },
   "file_extension": ".py",
   "mimetype": "text/x-python",
   "name": "python",
   "nbconvert_exporter": "python",
   "pygments_lexer": "ipython3",
   "version": "3.6.6"
  }
 },
 "nbformat": 4,
 "nbformat_minor": 2
}
