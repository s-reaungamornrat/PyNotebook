{
 "cells": [
  {
   "cell_type": "code",
   "execution_count": 6,
   "metadata": {
    "collapsed": true
   },
   "outputs": [],
   "source": [
    "import numpy as np\n",
    "import csv\n",
    "import os\n",
    "import vtk"
   ]
  },
  {
   "cell_type": "code",
   "execution_count": 27,
   "metadata": {},
   "outputs": [
    {
     "name": "stdout",
     "output_type": "stream",
     "text": [
      "MIND pairs \n",
      " [('1', '2'), ('1', '5'), ('2', '5'), ('3', '6'), ('4', '6'), ('5', '6'), ('3', '4'), ('1', '4'), ('2', '3'), ('7', '5'), ('7', '6'), ('8', '9'), ('8', '10'), ('7', '8')] \n",
      " MIND offset\n",
      " {'10': array([ 0., -1.,  0.], dtype=float32), '5': array([ 1.,  0.,  0.], dtype=float32), '2': array([ 0.5  , -0.866,  0.   ], dtype=float32), '7': array([ 0.,  0., -1.], dtype=float32), '9': array([ 0.,  1.,  0.], dtype=float32), '1': array([ 0.5  ,  0.866,  0.   ], dtype=float32), '3': array([-0.5  ,  0.866,  0.   ], dtype=float32), '4': array([-0.5  , -0.866,  0.   ], dtype=float32), '6': array([-1.,  0.,  0.], dtype=float32), '8': array([ 0.,  0.,  1.], dtype=float32)}\n"
     ]
    }
   ],
   "source": [
    "folder = 'C:/D/dev/Xnorm/reg_api/filters/include'\n",
    "mind_pair_filename = os.path.join(folder, 'mind_pairs.csv')\n",
    "mind_offset_filename = os.path.join(folder, 'mind_offsets.csv')\n",
    "\n",
    "mind_pairs = []\n",
    "with open(mind_pair_filename) as csvfile:\n",
    "    csvreader = csv.reader(csvfile, delimiter=',')\n",
    "    for row in csvreader:\n",
    "        mind_pairs.append((row[0], row[1]))\n",
    "        \n",
    "\n",
    "mind_offset = dict()\n",
    "with open(mind_offset_filename) as csvfile:\n",
    "    csvreader = csv.reader(csvfile, delimiter=',')\n",
    "    for row in csvreader:\n",
    "        mind_offset[row[0]]=np.asarray(row[1:], dtype=np.float32)\n",
    "\n",
    "print('MIND pairs \\n', mind_pairs, '\\n MIND offset\\n', mind_offset)"
   ]
  },
  {
   "cell_type": "code",
   "execution_count": 19,
   "metadata": {
    "collapsed": true
   },
   "outputs": [],
   "source": [
    "def create_a_line_polydata(p0, p1):\n",
    "    \n",
    "    points = vtk.vtkPoints()\n",
    "    points.InsertNextPoint(p0)\n",
    "    points.InsertNextPoint(p1)\n",
    "    \n",
    "    line = vtk.vtkLine()\n",
    "    line.GetPointIds().SetId(0,0)\n",
    "    line.GetPointIds().SetId(1,1)\n",
    "    \n",
    "    line_cell_array = vtk.vtkCellArray()\n",
    "    line_cell_array.InsertNextCell(line)\n",
    "    #for i in range(1):\n",
    "    #    line = vtk.vtkLine()\n",
    "    #    line.GetPointIds().SetId(0,i)\n",
    "    #    line.GetPointIds().SetId(1, i+1)\n",
    "    #    line_cell_array.InsertNextCell(line)    \n",
    "        \n",
    "    line_polydata = vtk.vtkPolyData()\n",
    "    line_polydata.SetPoints(points)\n",
    "    line_polydata.SetLines(line_cell_array)\n",
    "    \n",
    "    return line_polydata\n",
    "\n",
    "def write_polydata_vtp(filename, polydata):\n",
    "    \n",
    "    writer = vtk.vtkXMLPolyDataWriter()\n",
    "    writer.SetFileName(filename)\n",
    "    if vtk.VTK_MAJOR_VERSION <= 5:\n",
    "        writer.SetInput(polydata)\n",
    "    else:\n",
    "        writer.SetInputData(polydata)\n",
    "    writer.Write()"
   ]
  },
  {
   "cell_type": "code",
   "execution_count": 23,
   "metadata": {
    "collapsed": true
   },
   "outputs": [],
   "source": [
    "def create_cube(center, bound):\n",
    "    bounds =[]\n",
    "    for i in range(3):\n",
    "        bounds += [0, bound]\n",
    "        \n",
    "    cube = vtk.vtkCubeSource()\n",
    "    cube.SetCenter(center)\n",
    "    cube.SetBounds(bounds)\n",
    "    cube.Update()\n",
    "    \n",
    "    return cube"
   ]
  },
  {
   "cell_type": "code",
   "execution_count": 21,
   "metadata": {},
   "outputs": [],
   "source": [
    "folder = 'C:/Users/Ja/Google Drive/20180107_vtkline'\n",
    "\n",
    "for indx, pair in enumerate(mind_pairs):\n",
    "    if indx == 0 or indx == 6: continue\n",
    "    p0, p1 = mind_offset[pair[0]], mind_offset[pair[1]]\n",
    "    \n",
    "    filename = os.path.join(folder, 'line_polydata%d.vtp' % indx)\n",
    "    #filename = os.path.join(folder, 'line_polydata{}.vtp'.format(indx))\n",
    "    line_polydata = create_a_line_polydata(p0, p1)\n",
    "    write_polydata_vtp(filename, line_polydata)\n",
    "\n",
    "    #print('Point p0, p1: ({}), ({})'.format(p0, p1)  )"
   ]
  },
  {
   "cell_type": "code",
   "execution_count": 29,
   "metadata": {},
   "outputs": [],
   "source": [
    "for key, points in mind_offset.items():\n",
    "    \n",
    "    filename = os.path.join(folder, 'cube_polydata%s.vtp' % key)\n",
    "    #print(points)\n",
    "    cube = create_cube(points, bound=0.5)\n",
    "    write_polydata_vtp(filename, cube.GetOutput())"
   ]
  },
  {
   "cell_type": "code",
   "execution_count": null,
   "metadata": {
    "collapsed": true
   },
   "outputs": [],
   "source": []
  }
 ],
 "metadata": {
  "kernelspec": {
   "display_name": "Python 3",
   "language": "python",
   "name": "python3"
  },
  "language_info": {
   "codemirror_mode": {
    "name": "ipython",
    "version": 3
   },
   "file_extension": ".py",
   "mimetype": "text/x-python",
   "name": "python",
   "nbconvert_exporter": "python",
   "pygments_lexer": "ipython3",
   "version": "3.5.4"
  }
 },
 "nbformat": 4,
 "nbformat_minor": 2
}
