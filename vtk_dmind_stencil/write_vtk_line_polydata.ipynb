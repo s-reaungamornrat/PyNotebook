{
 "cells": [
  {
   "cell_type": "code",
   "execution_count": 13,
   "metadata": {},
   "outputs": [
    {
     "data": {
      "text/plain": [
       "[0, 0.5, 0, 0.5, 0, 0.5]"
      ]
     },
     "execution_count": 13,
     "metadata": {},
     "output_type": "execute_result"
    }
   ],
   "source": [
    "import vtk\n",
    "\n",
    "bound =[]\n",
    "for i in range(3):\n",
    "    bound += [0, 0.5]\n",
    "bound"
   ]
  },
  {
   "cell_type": "code",
   "execution_count": 5,
   "metadata": {
    "collapsed": true
   },
   "outputs": [],
   "source": [
    "# create a rendering window and renderer\n",
    "ren = vtk.vtkRenderer()\n",
    "renWin = vtk.vtkRenderWindow()\n",
    "renWin.AddRenderer(ren)\n",
    "\n",
    "# create a renderwindowinteractor\n",
    "iren = vtk.vtkRenderWindowInteractor()\n",
    "iren.SetRenderWindow(renWin)\n",
    "\n",
    "\n",
    "# create source\n",
    "center = [0,0,0]\n",
    "bounds = [0.5]*6\n",
    "source = vtk.vtkCubeSource()\n",
    "source.SetCenter(center)\n",
    "source.SetBounds(bounds)\n",
    "source.Update()\n",
    "\n",
    "# mapper\n",
    "mapper = vtk.vtkPolyDataMapper()\n",
    "mapper.SetInputConnection(source.GetOutputPort())\n",
    "\n",
    "# actor\n",
    "actor = vtk.vtkActor()\n",
    "actor.SetMapper(mapper)\n",
    "\n",
    "# color actor\n",
    "actor.GetProperty().SetColor(1, 0, 1)\n",
    "\n",
    "# assign actor to the renderer\n",
    "ren.AddActor(actor)\n",
    "\n",
    "# enable user interface interactor\n",
    "iren.Initialize()\n",
    "renWin.Render()\n",
    "iren.Start()"
   ]
  },
  {
   "cell_type": "code",
   "execution_count": 14,
   "metadata": {
    "collapsed": true
   },
   "outputs": [],
   "source": [
    "ren = vtk.vtkRenderer()\n",
    "renWin = vtk.vtkRenderWindow()\n",
    "renWin.AddRenderer(ren)\n",
    "\n",
    "# create a renderwindowinteractor\n",
    "iren = vtk.vtkRenderWindowInteractor()\n",
    "iren.SetRenderWindow(renWin)\n",
    "\n",
    "# create cube\n",
    "center = [0,0,0]\n",
    "bound = 0.5\n",
    "bounds =[]\n",
    "for i in range(3):\n",
    "    bounds += [0, bound]\n",
    "\n",
    "cube = vtk.vtkCubeSource()\n",
    "cube.SetCenter(center)\n",
    "cube.SetBounds(bounds)\n",
    "cube.Update()\n",
    "\n",
    "# mapper\n",
    "cubeMapper = vtk.vtkPolyDataMapper()\n",
    "cubeMapper.SetInputData(cube.GetOutput())\n",
    "\n",
    "# actor\n",
    "cubeActor = vtk.vtkActor()\n",
    "cubeActor.SetMapper(cubeMapper)\n",
    "\n",
    "# assign actor to the renderer\n",
    "ren.AddActor(cubeActor)\n",
    "\n",
    "# enable user interface interactor\n",
    "iren.Initialize()\n",
    "renWin.Render()\n",
    "iren.Start()"
   ]
  },
  {
   "cell_type": "code",
   "execution_count": 3,
   "metadata": {},
   "outputs": [
    {
     "data": {
      "text/plain": [
       "1"
      ]
     },
     "execution_count": 3,
     "metadata": {},
     "output_type": "execute_result"
    }
   ],
   "source": [
    "filename = \"test.stl\"\n",
    "\n",
    "# Write the stl file to disk\n",
    "stlWriter = vtk.vtkSTLWriter()\n",
    "stlWriter.SetFileName(filename)\n",
    "stlWriter.SetInputConnection(source.GetOutputPort())\n",
    "stlWriter.Write()\n"
   ]
  },
  {
   "cell_type": "code",
   "execution_count": 4,
   "metadata": {},
   "outputs": [
    {
     "data": {
      "text/plain": [
       "1"
      ]
     },
     "execution_count": 4,
     "metadata": {},
     "output_type": "execute_result"
    }
   ],
   "source": [
    "filename = \"writeply.ply\"\n",
    "\n",
    "plyWriter = vtk.vtkPLYWriter()\n",
    "plyWriter.SetFileName(filename)\n",
    "plyWriter.SetInputConnection(source.GetOutputPort())\n",
    "plyWriter.Write()"
   ]
  },
  {
   "cell_type": "code",
   "execution_count": 5,
   "metadata": {},
   "outputs": [
    {
     "data": {
      "text/plain": [
       "1"
      ]
     },
     "execution_count": 5,
     "metadata": {},
     "output_type": "execute_result"
    }
   ],
   "source": [
    "Points = vtk.vtkPoints()\n",
    "Triangles = vtk.vtkCellArray()\n",
    "Triangle = vtk.vtkTriangle()\n",
    "\n",
    "id = Points.InsertNextPoint(1.0, 0.0, 0.0)\n",
    "id = Points.InsertNextPoint(0.0, 0.0, 0.0)\n",
    "id = Points.InsertNextPoint(0.0, 1.0, 0.0)\n",
    "\n",
    "Triangle.GetPointIds().SetId(0, 0)\n",
    "Triangle.GetPointIds().SetId(1, 1)\n",
    "Triangle.GetPointIds().SetId(2, 2)\n",
    "Triangles.InsertNextCell(Triangle)\n",
    "\n",
    "\n",
    "polydata = vtk.vtkPolyData()\n",
    "polydata.SetPoints(Points)\n",
    "polydata.SetPolys(Triangles)\n",
    "polydata.Modified()\n",
    "if vtk.VTK_MAJOR_VERSION <= 5:\n",
    "    polydata.Update()\n",
    "\n",
    "writer = vtk.vtkXMLPolyDataWriter()\n",
    "writer.SetFileName(\"Triangle.vtp\")\n",
    "if vtk.VTK_MAJOR_VERSION <= 5:\n",
    "    writer.SetInput(polydata)\n",
    "else:\n",
    "    writer.SetInputData(polydata)\n",
    "writer.Write()"
   ]
  },
  {
   "cell_type": "code",
   "execution_count": 9,
   "metadata": {},
   "outputs": [
    {
     "name": "stdout",
     "output_type": "stream",
     "text": [
      "i:  0 i+1:  1\n",
      "i:  1 i+1:  2\n",
      "i:  2 i+1:  3\n"
     ]
    }
   ],
   "source": [
    "for i in range(3):\n",
    "    print('i: ', i, 'i+1: ', i+1)"
   ]
  },
  {
   "cell_type": "code",
   "execution_count": 2,
   "metadata": {
    "collapsed": true
   },
   "outputs": [],
   "source": [
    "import vtk\n",
    "\n",
    "# Create five points.\n",
    "origin = [0.0, 0.0, 0.0]\n",
    "p0 = [1.0, 0.0, 0.0]\n",
    "p1 = [0.0, 1.0, 0.0]\n",
    "p2 = [0.0, 1.0, 2.0]\n",
    "p3 = [1.0, 2.0, 3.0]\n",
    "\n",
    "# Create a vtkPoints object and store the points in it\n",
    "points = vtk.vtkPoints()\n",
    "points.InsertNextPoint(origin)\n",
    "points.InsertNextPoint(p0)\n",
    "points.InsertNextPoint(p1)\n",
    "points.InsertNextPoint(p2)\n",
    "points.InsertNextPoint(p3)\n",
    "\n",
    "# Create a cell array to store the lines in and add the lines to it\n",
    "lines = vtk.vtkCellArray()\n",
    "\n",
    "for i in range(3):\n",
    "    line = vtk.vtkLine()\n",
    "    line.GetPointIds().SetId(0, i)\n",
    "    line.GetPointIds().SetId(1, i + 1)\n",
    "    lines.InsertNextCell(line)\n",
    "\n",
    "# Create a polydata to store everything in\n",
    "linesPolyData = vtk.vtkPolyData()\n",
    "\n",
    "# Add the points to the dataset\n",
    "linesPolyData.SetPoints(points)\n",
    "\n",
    "# Add the lines to the dataset\n",
    "linesPolyData.SetLines(lines)\n",
    "\n",
    "writer = vtk.vtkXMLPolyDataWriter()\n",
    "writer.SetFileName(\"Lines.vtp\")\n",
    "if vtk.VTK_MAJOR_VERSION <= 5:\n",
    "    writer.SetInput(linesPolyData)\n",
    "else:\n",
    "    writer.SetInputData(linesPolyData)\n",
    "writer.Write()\n",
    "\n",
    "# Setup actor and mapper\n",
    "mapper = vtk.vtkPolyDataMapper()\n",
    "if vtk.VTK_MAJOR_VERSION <= 5:\n",
    "    mapper.SetInput(linesPolyData)\n",
    "else:\n",
    "    mapper.SetInputData(linesPolyData)\n",
    "\n",
    "actor = vtk.vtkActor()\n",
    "actor.SetMapper(mapper)\n",
    "\n",
    "# Setup render window, renderer, and interactor\n",
    "renderer = vtk.vtkRenderer()\n",
    "renderWindow = vtk.vtkRenderWindow()\n",
    "renderWindow.AddRenderer(renderer)\n",
    "renderWindowInteractor = vtk.vtkRenderWindowInteractor()\n",
    "renderWindowInteractor.SetRenderWindow(renderWindow)\n",
    "renderer.AddActor(actor)\n",
    "\n",
    "renderWindow.Render()\n",
    "renderWindowInteractor.Start()"
   ]
  },
  {
   "cell_type": "code",
   "execution_count": 17,
   "metadata": {
    "collapsed": true
   },
   "outputs": [],
   "source": [
    "def create_a_line_polydata(p0, p1):\n",
    "    \n",
    "    points = vtk.vtkPoints()\n",
    "    points.InsertNextPoint(p0)\n",
    "    points.InsertNextPoint(p1)\n",
    "    \n",
    "    line = vtk.vtkLine()\n",
    "    line.GetPointIds().SetId(0,0)\n",
    "    line.GetPointIds().SetId(1,1)\n",
    "    \n",
    "    line_cell_array = vtk.vtkCellArray()\n",
    "    line_cell_array.InsertNextCell(line)\n",
    "    #for i in range(1):\n",
    "    #    line = vtk.vtkLine()\n",
    "    #    line.GetPointIds().SetId(0,i)\n",
    "    #    line.GetPointIds().SetId(1, i+1)\n",
    "    #    line_cell_array.InsertNextCell(line)    \n",
    "        \n",
    "    line_polydata = vtk.vtkPolyData()\n",
    "    line_polydata.SetPoints(points)\n",
    "    line_polydata.SetLines(line_cell_array)\n",
    "    \n",
    "    return line_polydata\n",
    "\n",
    "def write_polydata_vtp(filename, polydata):\n",
    "    \n",
    "    writer = vtk.vtkXMLPolyDataWriter()\n",
    "    writer.SetFileName(filename)\n",
    "    if vtk.VTK_MAJOR_VERSION <= 5:\n",
    "        writer.SetInput(polydata)\n",
    "    else:\n",
    "        writer.SetInputData(polydata)\n",
    "    writer.Write()"
   ]
  },
  {
   "cell_type": "code",
   "execution_count": 18,
   "metadata": {
    "collapsed": true
   },
   "outputs": [],
   "source": [
    "p0 = [0,0,0]\n",
    "p1 = [0.5,0.8660,0.0]\n",
    "\n",
    "filename = 'line_in_file.vtp'\n",
    "line_polydata = create_a_line_polydata(p0, p1)\n",
    "write_polydata_vtp(filename, line_polydata)\n",
    "\n",
    "# Setup actor and mapper\n",
    "mapper0 = vtk.vtkPolyDataMapper()\n",
    "if vtk.VTK_MAJOR_VERSION <= 5:\n",
    "    mapper0.SetInput(line_polydata)\n",
    "else:\n",
    "    mapper0.SetInputData(line_polydata)\n",
    "\n",
    "actor0 = vtk.vtkActor()\n",
    "actor0.SetMapper(mapper0)\n",
    "\n",
    "# Setup render window, renderer, and interactor\n",
    "renderer = vtk.vtkRenderer()\n",
    "renderWindow = vtk.vtkRenderWindow()\n",
    "renderWindow.AddRenderer(renderer)\n",
    "renderWindowInteractor = vtk.vtkRenderWindowInteractor()\n",
    "renderWindowInteractor.SetRenderWindow(renderWindow)\n",
    "#renderer.AddActor(actor)\n",
    "renderer.AddActor(actor0)\n",
    "\n",
    "renderWindow.Render()\n",
    "renderWindowInteractor.Start()"
   ]
  },
  {
   "cell_type": "code",
   "execution_count": 8,
   "metadata": {
    "collapsed": true
   },
   "outputs": [],
   "source": [
    "import vtk \n",
    " \n",
    "p0 = [0,0,0]\n",
    "p1 = [0.5,0.8660,0.0]\n",
    "points_l0 = vtk.vtkPoints()\n",
    "points_l0.InsertNextPoint(p0)\n",
    "points_l0.InsertNextPoint(p1)\n",
    "#points_l0.InsertNextPoint(0,0,0)\n",
    "#points_l0.InsertNextPoint(0.5,0.8660,0.0)\n",
    "#points_l0.InsertNextPoint(1.0,0.0,0.0)\n",
    "#points_l0.InsertNextPoint(0.5,0.8660,0.0)\n",
    "\n",
    "l0 = vtk.vtkCellArray()\n",
    "for i in range(1):\n",
    "    line = vtk.vtkLine()\n",
    "    line.GetPointIds().SetId(0,i)\n",
    "    line.GetPointIds().SetId(1, i+1)\n",
    "    l0.InsertNextCell(line)\n",
    "\n",
    "l0PolyData = vtk.vtkPolyData()\n",
    "l0PolyData.SetPoints(points_l0)\n",
    "l0PolyData.SetLines(l0)\n",
    "#linesPolyData.Modified()\n",
    "#if vtk.VTK_MAJOR_VERSION <= 5:\n",
    "#    linesPolyData.Update()\n",
    "    \n",
    "writer = vtk.vtkXMLPolyDataWriter()\n",
    "writer.SetFileName(\"aLine.vtp\")\n",
    "if vtk.VTK_MAJOR_VERSION <= 5:\n",
    "    writer.SetInput(l0PolyData)\n",
    "else:\n",
    "    writer.SetInputData(l0PolyData)\n",
    "writer.Write()\n",
    "\n",
    "\n",
    "# Setup actor and mapper\n",
    "mapper0 = vtk.vtkPolyDataMapper()\n",
    "if vtk.VTK_MAJOR_VERSION <= 5:\n",
    "    mapper0.SetInput(l0PolyData)\n",
    "else:\n",
    "    mapper0.SetInputData(l0PolyData)\n",
    "\n",
    "actor0 = vtk.vtkActor()\n",
    "actor0.SetMapper(mapper0)\n",
    "\n",
    "# Setup render window, renderer, and interactor\n",
    "renderer = vtk.vtkRenderer()\n",
    "renderWindow = vtk.vtkRenderWindow()\n",
    "renderWindow.AddRenderer(renderer)\n",
    "renderWindowInteractor = vtk.vtkRenderWindowInteractor()\n",
    "renderWindowInteractor.SetRenderWindow(renderWindow)\n",
    "#renderer.AddActor(actor)\n",
    "renderer.AddActor(actor0)\n",
    "\n",
    "renderWindow.Render()\n",
    "renderWindowInteractor.Start()"
   ]
  }
 ],
 "metadata": {
  "kernelspec": {
   "display_name": "Python 3",
   "language": "python",
   "name": "python3"
  },
  "language_info": {
   "codemirror_mode": {
    "name": "ipython",
    "version": 3
   },
   "file_extension": ".py",
   "mimetype": "text/x-python",
   "name": "python",
   "nbconvert_exporter": "python",
   "pygments_lexer": "ipython3",
   "version": "3.5.4"
  }
 },
 "nbformat": 4,
 "nbformat_minor": 2
}
