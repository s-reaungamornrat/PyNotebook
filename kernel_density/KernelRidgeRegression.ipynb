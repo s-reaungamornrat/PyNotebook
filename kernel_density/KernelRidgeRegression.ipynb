{
 "cells": [
  {
   "cell_type": "code",
   "execution_count": 1,
   "metadata": {},
   "outputs": [],
   "source": [
    "pid_index_range= [0, 1]\n",
    "number_of_atlas = 5;\n",
    "number_of_train_files = number_of_atlas - 1# having 5 for testing"
   ]
  },
  {
   "cell_type": "code",
   "execution_count": 2,
   "metadata": {},
   "outputs": [
    {
     "name": "stdout",
     "output_type": "stream",
     "text": [
      "PID: ['P1067763439', 'P1092977057', 'P1103182673', 'P1103946697', 'P1132308285', 'P1210931577']\n",
      "ImagePrefixes:['P1067763439_Macular Cube 512x128_9-15-2011_15-48-40_OD_sn5701_cube_z', 'P1092977057_Macular Cube 512x128_2-15-2012_16-13-29_OS_sn10264_cube_z', 'P1103182673_Macular Cube 512x128_9-15-2011_10-10-55_OD_sn5737_cube_z', 'P1103946697_Macular Cube 512x128_10-20-2011_13-27-42_OD_sn4534_cube_z', 'P1132308285_Macular Cube 512x128_4-21-2010_8-58-53_OD_sn10122_cube_z', 'P1210931577_Macular Cube 512x128_2-20-2012_12-2-34_OD_sn11344_cube_z']\n",
      "Atlas folders:['/iacl/pg17/ja/data/20170712_oct_ms_calabresi/CC_0003', '/iacl/pg17/ja/data/20170712_oct_ms_calabresi/CC_0005', '/iacl/pg17/ja/data/20170712_oct_ms_calabresi/CC_0006_', '/iacl/pg17/ja/data/20170712_oct_ms_calabresi/CC_0009', '/iacl/pg17/ja/data/20170712_oct_ms_calabresi/CC_0010', '/iacl/pg17/ja/data/20170712_oct_ms_calabresi/CC_0011', '/iacl/pg17/ja/data/20170712_oct_ms_calabresi/CC_0012', '/iacl/pg17/ja/data/20170712_oct_ms_calabresi/CC_0013', '/iacl/pg17/ja/data/20170712_oct_ms_calabresi/CC_0014', '/iacl/pg17/ja/data/20170712_oct_ms_calabresi/CC_0016', '/iacl/pg17/ja/data/20170712_oct_ms_calabresi/CC_0017', '/iacl/pg17/ja/data/20170712_oct_ms_calabresi/CC_0018', '/iacl/pg17/ja/data/20170712_oct_ms_calabresi/CC_0019', '/iacl/pg17/ja/data/20170712_oct_ms_calabresi/CC_0020', '/iacl/pg17/ja/data/20170712_oct_ms_calabresi/CC_0050', '/iacl/pg17/ja/data/20170712_oct_ms_calabresi/CC_0052', '/iacl/pg17/ja/data/20170712_oct_ms_calabresi/CC_0053', '/iacl/pg17/ja/data/20170712_oct_ms_calabresi/CC_0054', '/iacl/pg17/ja/data/20170712_oct_ms_calabresi/CC_0056', '/iacl/pg17/ja/data/20170712_oct_ms_calabresi/CC_0057', '/iacl/pg17/ja/data/20170712_oct_ms_calabresi/CC_0058', '/iacl/pg17/ja/data/20170712_oct_ms_calabresi/CC_0060', '/iacl/pg17/ja/data/20170712_oct_ms_calabresi/CC_0061', '/iacl/pg17/ja/data/20170712_oct_ms_calabresi/CC_0062', '/iacl/pg17/ja/data/20170712_oct_ms_calabresi/CC_0051', '/iacl/pg17/ja/data/20170712_oct_ms_calabresi/xHR_0001', '/iacl/pg17/ja/data/20170712_oct_ms_calabresi/xHR_0002', '/iacl/pg17/ja/data/20170712_oct_ms_calabresi/CC_0002', '/iacl/pg17/ja/data/20170712_oct_ms_calabresi/CC_0001', '/iacl/pg17/ja/data/20170712_oct_ms_calabresi/CC_0008', '/iacl/pg17/ja/data/20170712_oct_ms_calabresi/CC_0015']\n",
      "Atlas subfolders:['CC_0003', 'CC_0005', 'CC_0006_', 'CC_0009', 'CC_0010', 'CC_0011', 'CC_0012', 'CC_0013', 'CC_0014', 'CC_0016', 'CC_0017', 'CC_0018', 'CC_0019', 'CC_0020', 'CC_0050', 'CC_0052', 'CC_0053', 'CC_0054', 'CC_0056', 'CC_0057', 'CC_0058', 'CC_0060', 'CC_0061', 'CC_0062', 'CC_0051', 'xHR_0001', 'xHR_0002', 'CC_0002', 'CC_0001', 'CC_0008', 'CC_0015']\n"
     ]
    }
   ],
   "source": [
    "import read_atlas_layer_points as rlp\n",
    "\n",
    "main_folder = '/iacl/pg17/ja/data/20171205_cirrus_manual_results/'\n",
    "\n",
    "#filename = 'C:/D/dev/Xnorm/experiments/oct/20171204_manual_segmentation/filenames.txt'\n",
    "filename = '/home/ja/dev/Xnorm/experiments/oct/20171204_manual_segmentation/filenames.txt'\n",
    "pids, image_prefixes = rlp.read_manual_segmentation_oct_files(filename)\n",
    "\n",
    "#filename = 'C:/D/dev/Xnorm/experiments/oct/20170830_large_healthy_data_proc/cirrus_od_altas_folder_linux_iacl.txt'\n",
    "filename = '/home/ja/dev/Xnorm/experiments/oct/20170830_large_healthy_data_proc/cirrus_od_altas_folder_linux_iacl.txt'\n",
    "atlas_folders, atlas_subfolders = rlp.read_atlas_images_files(filename)\n",
    "\n",
    "print('PID: {}\\nImagePrefixes:{}'.format(pids, image_prefixes))\n",
    "print('Atlas folders:{}\\nAtlas subfolders:{}'.format(atlas_folders, atlas_subfolders))"
   ]
  },
  {
   "cell_type": "code",
   "execution_count": 3,
   "metadata": {},
   "outputs": [
    {
     "name": "stdout",
     "output_type": "stream",
     "text": [
      "Number  0  pid  P1067763439\n",
      "Using 5 atlases\n",
      "Using 5 atlases\n",
      "Number  1  pid  P1092977057\n",
      "Using 5 atlases\n",
      "Using 5 atlases\n"
     ]
    },
    {
     "data": {
      "text/plain": [
       "{'1': array([[ 8.05157e-01, -1.60219e-03, -3.55315e-01],\n",
       "        [ 8.04476e-01,  1.00966e-02, -3.55312e-01],\n",
       "        [ 8.03831e-01,  2.17955e-02, -3.55309e-01],\n",
       "        ...,\n",
       "        [ 7.11695e-01,  5.97935e+00,  5.89792e+00],\n",
       "        [ 6.85760e-01,  5.99105e+00,  5.89792e+00],\n",
       "        [ 6.85903e-01,  6.00275e+00,  5.89792e+00]], dtype=float32),\n",
       " '2': array([[ 8.21524e-01, -1.57339e-03, -3.55299e-01],\n",
       "        [ 8.20814e-01,  1.01254e-02, -3.55296e-01],\n",
       "        [ 8.20201e-01,  2.18243e-02, -3.55293e-01],\n",
       "        ...,\n",
       "        [ 8.05479e-01,  5.97934e+00,  5.89805e+00],\n",
       "        [ 7.92858e-01,  5.99104e+00,  5.89806e+00],\n",
       "        [ 7.92951e-01,  6.00274e+00,  5.89806e+00]], dtype=float32),\n",
       " '3': array([[ 8.66533e-01, -1.49419e-03, -3.55257e-01],\n",
       "        [ 8.66043e-01,  1.02050e-02, -3.55254e-01],\n",
       "        [ 8.65389e-01,  2.19038e-02, -3.55251e-01],\n",
       "        ...,\n",
       "        [ 8.47341e-01,  5.97934e+00,  5.89812e+00],\n",
       "        [ 8.44323e-01,  5.99104e+00,  5.89812e+00],\n",
       "        [ 8.44443e-01,  6.00274e+00,  5.89812e+00]], dtype=float32),\n",
       " '4': array([[ 8.95447e-01, -1.44331e-03, -3.55229e-01],\n",
       "        [ 8.95379e-01,  1.02566e-02, -3.55226e-01],\n",
       "        [ 8.95313e-01,  2.19565e-02, -3.55222e-01],\n",
       "        ...,\n",
       "        [ 8.75236e-01,  5.97933e+00,  5.89816e+00],\n",
       "        [ 8.72762e-01,  5.99103e+00,  5.89816e+00],\n",
       "        [ 8.72900e-01,  6.00273e+00,  5.89816e+00]], dtype=float32),\n",
       " '5': array([[ 9.12112e-01, -1.41399e-03, -3.55214e-01],\n",
       "        [ 9.12389e-01,  1.02865e-02, -3.55210e-01],\n",
       "        [ 9.12557e-01,  2.19868e-02, -3.55206e-01],\n",
       "        ...,\n",
       "        [ 8.88147e-01,  5.97933e+00,  5.89817e+00],\n",
       "        [ 8.85544e-01,  5.99103e+00,  5.89817e+00],\n",
       "        [ 8.85515e-01,  6.00273e+00,  5.89817e+00]], dtype=float32),\n",
       " '6': array([[ 9.64867e-01, -1.32116e-03, -3.55164e-01],\n",
       "        [ 9.65456e-01,  1.03799e-02, -3.55160e-01],\n",
       "        [ 9.65978e-01,  2.20808e-02, -3.55156e-01],\n",
       "        ...,\n",
       "        [ 9.34874e-01,  5.97932e+00,  5.89824e+00],\n",
       "        [ 9.41567e-01,  5.99102e+00,  5.89825e+00],\n",
       "        [ 9.41519e-01,  6.00273e+00,  5.89825e+00]], dtype=float32),\n",
       " '7': array([[ 9.86943e-01, -1.28231e-03, -3.55143e-01],\n",
       "        [ 9.86875e-01,  1.04176e-02, -3.55140e-01],\n",
       "        [ 9.86795e-01,  2.21175e-02, -3.55136e-01],\n",
       "        ...,\n",
       "        [ 9.63229e-01,  5.97932e+00,  5.89827e+00],\n",
       "        [ 9.61552e-01,  5.99102e+00,  5.89827e+00],\n",
       "        [ 9.61516e-01,  6.00272e+00,  5.89827e+00]], dtype=float32),\n",
       " '8': array([[ 1.01094e+00, -1.24008e-03, -3.55120e-01],\n",
       "        [ 1.01088e+00,  1.04598e-02, -3.55117e-01],\n",
       "        [ 1.01080e+00,  2.21597e-02, -3.55114e-01],\n",
       "        ...,\n",
       "        [ 1.00225e+00,  5.97932e+00,  5.89830e+00],\n",
       "        [ 9.85552e-01,  5.99102e+00,  5.89830e+00],\n",
       "        [ 9.85516e-01,  6.00272e+00,  5.89830e+00]], dtype=float32),\n",
       " '9': array([[ 1.03945e+00, -1.18992e-03, -3.55094e-01],\n",
       "        [ 1.03938e+00,  1.05100e-02, -3.55090e-01],\n",
       "        [ 1.03931e+00,  2.22099e-02, -3.55087e-01],\n",
       "        ...,\n",
       "        [ 1.02392e+00,  5.97932e+00,  5.89834e+00],\n",
       "        [ 1.01797e+00,  5.99102e+00,  5.89834e+00],\n",
       "        [ 1.01769e+00,  6.00272e+00,  5.89834e+00]], dtype=float32)}"
      ]
     },
     "execution_count": 3,
     "metadata": {},
     "output_type": "execute_result"
    }
   ],
   "source": [
    "import os\n",
    "\n",
    "deformed_layer_pnt_filename = 'deformed_layer_points.csv';\n",
    "# each patient having dict of label as a key & a list of points as a value\n",
    "deformed_layer_points_per_pid = dict()\n",
    "\n",
    "for number, pid in enumerate(pids):\n",
    "    if number not in pid_index_range: continue\n",
    "    print('Number ', number, ' pid ', pid)\n",
    "    filenames = []\n",
    "    for indx, atlas_subfolder in enumerate(atlas_subfolders):\n",
    "        if indx >= number_of_atlas: \n",
    "            print('Using %d atlases' % indx)\n",
    "            break;\n",
    "        filename = '/'.join([pid, atlas_subfolder, deformed_layer_pnt_filename])\n",
    "        filename = os.path.join(main_folder, filename)\n",
    "        filenames.append(filename)\n",
    "    print('Using %d atlases' % len(filenames))\n",
    "    deformed_layer_points_per_pid[pid] = rlp.get_atlas_layer_points(filenames)\n",
    "    \n",
    "deformed_layer_points_per_pid[pids[pid_index_range[0]]]"
   ]
  },
  {
   "cell_type": "code",
   "execution_count": 6,
   "metadata": {},
   "outputs": [
    {
     "name": "stdout",
     "output_type": "stream",
     "text": [
      "Data shape:  (327680, 3)  number of points:  2031616\n",
      "Data shape:  (327680, 3)  number of points:  2031616\n"
     ]
    }
   ],
   "source": [
    "for pid, atlas_layer_points in deformed_layer_points_per_pid.items(): \n",
    "    print('Data shape: ', atlas_layer_points['1'].shape, ' number of points: ', 512*128*len(atlas_subfolders))"
   ]
  },
  {
   "cell_type": "code",
   "execution_count": 9,
   "metadata": {},
   "outputs": [
    {
     "name": "stdout",
     "output_type": "stream",
     "text": [
      "\n",
      "-----------------PID: P1092977057, Label:9----------------------\n",
      "Fitting 5 folds for each of 80 candidates, totalling 400 fits\n",
      "[CV] kernel=Matern(length_scale=0.001, nu=2.5), alpha=1.0 ............\n"
     ]
    },
    {
     "ename": "MemoryError",
     "evalue": "",
     "output_type": "error",
     "traceback": [
      "\u001b[0;31m---------------------------------------------------------------------------\u001b[0m",
      "\u001b[0;31mMemoryError\u001b[0m                               Traceback (most recent call last)",
      "\u001b[0;32m<ipython-input-9-767d01eaabc3>\u001b[0m in \u001b[0;36m<module>\u001b[0;34m()\u001b[0m\n\u001b[1;32m     31\u001b[0m         \u001b[0;31m# fit kernel to data\u001b[0m\u001b[0;34m\u001b[0m\u001b[0;34m\u001b[0m\u001b[0m\n\u001b[1;32m     32\u001b[0m         \u001b[0mt0\u001b[0m \u001b[0;34m=\u001b[0m \u001b[0mtime\u001b[0m\u001b[0;34m.\u001b[0m\u001b[0mtime\u001b[0m\u001b[0;34m(\u001b[0m\u001b[0;34m)\u001b[0m\u001b[0;34m\u001b[0m\u001b[0m\n\u001b[0;32m---> 33\u001b[0;31m         \u001b[0mkr\u001b[0m\u001b[0;34m.\u001b[0m\u001b[0mfit\u001b[0m\u001b[0;34m(\u001b[0m\u001b[0mX_train\u001b[0m\u001b[0;34m,\u001b[0m \u001b[0my_train\u001b[0m\u001b[0;34m)\u001b[0m\u001b[0;34m\u001b[0m\u001b[0m\n\u001b[0m\u001b[1;32m     34\u001b[0m         \u001b[0mfit_time\u001b[0m \u001b[0;34m=\u001b[0m \u001b[0mtime\u001b[0m\u001b[0;34m.\u001b[0m\u001b[0mtime\u001b[0m\u001b[0;34m(\u001b[0m\u001b[0;34m)\u001b[0m \u001b[0;34m-\u001b[0m \u001b[0mt0\u001b[0m\u001b[0;34m\u001b[0m\u001b[0m\n\u001b[1;32m     35\u001b[0m         \u001b[0mprint\u001b[0m\u001b[0;34m(\u001b[0m\u001b[0;34m'KRR complexity and bandwidth selected and model fitted in %.3f s'\u001b[0m \u001b[0;34m%\u001b[0m \u001b[0;34m(\u001b[0m\u001b[0mtime\u001b[0m\u001b[0;34m.\u001b[0m\u001b[0mtime\u001b[0m\u001b[0;34m(\u001b[0m\u001b[0;34m)\u001b[0m \u001b[0;34m-\u001b[0m \u001b[0mt0\u001b[0m\u001b[0;34m)\u001b[0m\u001b[0;34m)\u001b[0m\u001b[0;34m\u001b[0m\u001b[0m\n",
      "\u001b[0;32m~/miniconda3/envs/sklearn-oct/lib/python3.5/site-packages/sklearn/model_selection/_search.py\u001b[0m in \u001b[0;36mfit\u001b[0;34m(self, X, y, groups, **fit_params)\u001b[0m\n\u001b[1;32m    637\u001b[0m                                   error_score=self.error_score)\n\u001b[1;32m    638\u001b[0m           for parameters, (train, test) in product(candidate_params,\n\u001b[0;32m--> 639\u001b[0;31m                                                    cv.split(X, y, groups)))\n\u001b[0m\u001b[1;32m    640\u001b[0m \u001b[0;34m\u001b[0m\u001b[0m\n\u001b[1;32m    641\u001b[0m         \u001b[0;31m# if one choose to see train score, \"out\" will contain train score info\u001b[0m\u001b[0;34m\u001b[0m\u001b[0;34m\u001b[0m\u001b[0m\n",
      "\u001b[0;32m~/miniconda3/envs/sklearn-oct/lib/python3.5/site-packages/sklearn/externals/joblib/parallel.py\u001b[0m in \u001b[0;36m__call__\u001b[0;34m(self, iterable)\u001b[0m\n\u001b[1;32m    777\u001b[0m             \u001b[0;31m# was dispatched. In particular this covers the edge\u001b[0m\u001b[0;34m\u001b[0m\u001b[0;34m\u001b[0m\u001b[0m\n\u001b[1;32m    778\u001b[0m             \u001b[0;31m# case of Parallel used with an exhausted iterator.\u001b[0m\u001b[0;34m\u001b[0m\u001b[0;34m\u001b[0m\u001b[0m\n\u001b[0;32m--> 779\u001b[0;31m             \u001b[0;32mwhile\u001b[0m \u001b[0mself\u001b[0m\u001b[0;34m.\u001b[0m\u001b[0mdispatch_one_batch\u001b[0m\u001b[0;34m(\u001b[0m\u001b[0miterator\u001b[0m\u001b[0;34m)\u001b[0m\u001b[0;34m:\u001b[0m\u001b[0;34m\u001b[0m\u001b[0m\n\u001b[0m\u001b[1;32m    780\u001b[0m                 \u001b[0mself\u001b[0m\u001b[0;34m.\u001b[0m\u001b[0m_iterating\u001b[0m \u001b[0;34m=\u001b[0m \u001b[0;32mTrue\u001b[0m\u001b[0;34m\u001b[0m\u001b[0m\n\u001b[1;32m    781\u001b[0m             \u001b[0;32melse\u001b[0m\u001b[0;34m:\u001b[0m\u001b[0;34m\u001b[0m\u001b[0m\n",
      "\u001b[0;32m~/miniconda3/envs/sklearn-oct/lib/python3.5/site-packages/sklearn/externals/joblib/parallel.py\u001b[0m in \u001b[0;36mdispatch_one_batch\u001b[0;34m(self, iterator)\u001b[0m\n\u001b[1;32m    623\u001b[0m                 \u001b[0;32mreturn\u001b[0m \u001b[0;32mFalse\u001b[0m\u001b[0;34m\u001b[0m\u001b[0m\n\u001b[1;32m    624\u001b[0m             \u001b[0;32melse\u001b[0m\u001b[0;34m:\u001b[0m\u001b[0;34m\u001b[0m\u001b[0m\n\u001b[0;32m--> 625\u001b[0;31m                 \u001b[0mself\u001b[0m\u001b[0;34m.\u001b[0m\u001b[0m_dispatch\u001b[0m\u001b[0;34m(\u001b[0m\u001b[0mtasks\u001b[0m\u001b[0;34m)\u001b[0m\u001b[0;34m\u001b[0m\u001b[0m\n\u001b[0m\u001b[1;32m    626\u001b[0m                 \u001b[0;32mreturn\u001b[0m \u001b[0;32mTrue\u001b[0m\u001b[0;34m\u001b[0m\u001b[0m\n\u001b[1;32m    627\u001b[0m \u001b[0;34m\u001b[0m\u001b[0m\n",
      "\u001b[0;32m~/miniconda3/envs/sklearn-oct/lib/python3.5/site-packages/sklearn/externals/joblib/parallel.py\u001b[0m in \u001b[0;36m_dispatch\u001b[0;34m(self, batch)\u001b[0m\n\u001b[1;32m    586\u001b[0m         \u001b[0mdispatch_timestamp\u001b[0m \u001b[0;34m=\u001b[0m \u001b[0mtime\u001b[0m\u001b[0;34m.\u001b[0m\u001b[0mtime\u001b[0m\u001b[0;34m(\u001b[0m\u001b[0;34m)\u001b[0m\u001b[0;34m\u001b[0m\u001b[0m\n\u001b[1;32m    587\u001b[0m         \u001b[0mcb\u001b[0m \u001b[0;34m=\u001b[0m \u001b[0mBatchCompletionCallBack\u001b[0m\u001b[0;34m(\u001b[0m\u001b[0mdispatch_timestamp\u001b[0m\u001b[0;34m,\u001b[0m \u001b[0mlen\u001b[0m\u001b[0;34m(\u001b[0m\u001b[0mbatch\u001b[0m\u001b[0;34m)\u001b[0m\u001b[0;34m,\u001b[0m \u001b[0mself\u001b[0m\u001b[0;34m)\u001b[0m\u001b[0;34m\u001b[0m\u001b[0m\n\u001b[0;32m--> 588\u001b[0;31m         \u001b[0mjob\u001b[0m \u001b[0;34m=\u001b[0m \u001b[0mself\u001b[0m\u001b[0;34m.\u001b[0m\u001b[0m_backend\u001b[0m\u001b[0;34m.\u001b[0m\u001b[0mapply_async\u001b[0m\u001b[0;34m(\u001b[0m\u001b[0mbatch\u001b[0m\u001b[0;34m,\u001b[0m \u001b[0mcallback\u001b[0m\u001b[0;34m=\u001b[0m\u001b[0mcb\u001b[0m\u001b[0;34m)\u001b[0m\u001b[0;34m\u001b[0m\u001b[0m\n\u001b[0m\u001b[1;32m    589\u001b[0m         \u001b[0mself\u001b[0m\u001b[0;34m.\u001b[0m\u001b[0m_jobs\u001b[0m\u001b[0;34m.\u001b[0m\u001b[0mappend\u001b[0m\u001b[0;34m(\u001b[0m\u001b[0mjob\u001b[0m\u001b[0;34m)\u001b[0m\u001b[0;34m\u001b[0m\u001b[0m\n\u001b[1;32m    590\u001b[0m \u001b[0;34m\u001b[0m\u001b[0m\n",
      "\u001b[0;32m~/miniconda3/envs/sklearn-oct/lib/python3.5/site-packages/sklearn/externals/joblib/_parallel_backends.py\u001b[0m in \u001b[0;36mapply_async\u001b[0;34m(self, func, callback)\u001b[0m\n\u001b[1;32m    109\u001b[0m     \u001b[0;32mdef\u001b[0m \u001b[0mapply_async\u001b[0m\u001b[0;34m(\u001b[0m\u001b[0mself\u001b[0m\u001b[0;34m,\u001b[0m \u001b[0mfunc\u001b[0m\u001b[0;34m,\u001b[0m \u001b[0mcallback\u001b[0m\u001b[0;34m=\u001b[0m\u001b[0;32mNone\u001b[0m\u001b[0;34m)\u001b[0m\u001b[0;34m:\u001b[0m\u001b[0;34m\u001b[0m\u001b[0m\n\u001b[1;32m    110\u001b[0m         \u001b[0;34m\"\"\"Schedule a func to be run\"\"\"\u001b[0m\u001b[0;34m\u001b[0m\u001b[0m\n\u001b[0;32m--> 111\u001b[0;31m         \u001b[0mresult\u001b[0m \u001b[0;34m=\u001b[0m \u001b[0mImmediateResult\u001b[0m\u001b[0;34m(\u001b[0m\u001b[0mfunc\u001b[0m\u001b[0;34m)\u001b[0m\u001b[0;34m\u001b[0m\u001b[0m\n\u001b[0m\u001b[1;32m    112\u001b[0m         \u001b[0;32mif\u001b[0m \u001b[0mcallback\u001b[0m\u001b[0;34m:\u001b[0m\u001b[0;34m\u001b[0m\u001b[0m\n\u001b[1;32m    113\u001b[0m             \u001b[0mcallback\u001b[0m\u001b[0;34m(\u001b[0m\u001b[0mresult\u001b[0m\u001b[0;34m)\u001b[0m\u001b[0;34m\u001b[0m\u001b[0m\n",
      "\u001b[0;32m~/miniconda3/envs/sklearn-oct/lib/python3.5/site-packages/sklearn/externals/joblib/_parallel_backends.py\u001b[0m in \u001b[0;36m__init__\u001b[0;34m(self, batch)\u001b[0m\n\u001b[1;32m    330\u001b[0m         \u001b[0;31m# Don't delay the application, to avoid keeping the input\u001b[0m\u001b[0;34m\u001b[0m\u001b[0;34m\u001b[0m\u001b[0m\n\u001b[1;32m    331\u001b[0m         \u001b[0;31m# arguments in memory\u001b[0m\u001b[0;34m\u001b[0m\u001b[0;34m\u001b[0m\u001b[0m\n\u001b[0;32m--> 332\u001b[0;31m         \u001b[0mself\u001b[0m\u001b[0;34m.\u001b[0m\u001b[0mresults\u001b[0m \u001b[0;34m=\u001b[0m \u001b[0mbatch\u001b[0m\u001b[0;34m(\u001b[0m\u001b[0;34m)\u001b[0m\u001b[0;34m\u001b[0m\u001b[0m\n\u001b[0m\u001b[1;32m    333\u001b[0m \u001b[0;34m\u001b[0m\u001b[0m\n\u001b[1;32m    334\u001b[0m     \u001b[0;32mdef\u001b[0m \u001b[0mget\u001b[0m\u001b[0;34m(\u001b[0m\u001b[0mself\u001b[0m\u001b[0;34m)\u001b[0m\u001b[0;34m:\u001b[0m\u001b[0;34m\u001b[0m\u001b[0m\n",
      "\u001b[0;32m~/miniconda3/envs/sklearn-oct/lib/python3.5/site-packages/sklearn/externals/joblib/parallel.py\u001b[0m in \u001b[0;36m__call__\u001b[0;34m(self)\u001b[0m\n\u001b[1;32m    129\u001b[0m \u001b[0;34m\u001b[0m\u001b[0m\n\u001b[1;32m    130\u001b[0m     \u001b[0;32mdef\u001b[0m \u001b[0m__call__\u001b[0m\u001b[0;34m(\u001b[0m\u001b[0mself\u001b[0m\u001b[0;34m)\u001b[0m\u001b[0;34m:\u001b[0m\u001b[0;34m\u001b[0m\u001b[0m\n\u001b[0;32m--> 131\u001b[0;31m         \u001b[0;32mreturn\u001b[0m \u001b[0;34m[\u001b[0m\u001b[0mfunc\u001b[0m\u001b[0;34m(\u001b[0m\u001b[0;34m*\u001b[0m\u001b[0margs\u001b[0m\u001b[0;34m,\u001b[0m \u001b[0;34m**\u001b[0m\u001b[0mkwargs\u001b[0m\u001b[0;34m)\u001b[0m \u001b[0;32mfor\u001b[0m \u001b[0mfunc\u001b[0m\u001b[0;34m,\u001b[0m \u001b[0margs\u001b[0m\u001b[0;34m,\u001b[0m \u001b[0mkwargs\u001b[0m \u001b[0;32min\u001b[0m \u001b[0mself\u001b[0m\u001b[0;34m.\u001b[0m\u001b[0mitems\u001b[0m\u001b[0;34m]\u001b[0m\u001b[0;34m\u001b[0m\u001b[0m\n\u001b[0m\u001b[1;32m    132\u001b[0m \u001b[0;34m\u001b[0m\u001b[0m\n\u001b[1;32m    133\u001b[0m     \u001b[0;32mdef\u001b[0m \u001b[0m__len__\u001b[0m\u001b[0;34m(\u001b[0m\u001b[0mself\u001b[0m\u001b[0;34m)\u001b[0m\u001b[0;34m:\u001b[0m\u001b[0;34m\u001b[0m\u001b[0m\n",
      "\u001b[0;32m~/miniconda3/envs/sklearn-oct/lib/python3.5/site-packages/sklearn/externals/joblib/parallel.py\u001b[0m in \u001b[0;36m<listcomp>\u001b[0;34m(.0)\u001b[0m\n\u001b[1;32m    129\u001b[0m \u001b[0;34m\u001b[0m\u001b[0m\n\u001b[1;32m    130\u001b[0m     \u001b[0;32mdef\u001b[0m \u001b[0m__call__\u001b[0m\u001b[0;34m(\u001b[0m\u001b[0mself\u001b[0m\u001b[0;34m)\u001b[0m\u001b[0;34m:\u001b[0m\u001b[0;34m\u001b[0m\u001b[0m\n\u001b[0;32m--> 131\u001b[0;31m         \u001b[0;32mreturn\u001b[0m \u001b[0;34m[\u001b[0m\u001b[0mfunc\u001b[0m\u001b[0;34m(\u001b[0m\u001b[0;34m*\u001b[0m\u001b[0margs\u001b[0m\u001b[0;34m,\u001b[0m \u001b[0;34m**\u001b[0m\u001b[0mkwargs\u001b[0m\u001b[0;34m)\u001b[0m \u001b[0;32mfor\u001b[0m \u001b[0mfunc\u001b[0m\u001b[0;34m,\u001b[0m \u001b[0margs\u001b[0m\u001b[0;34m,\u001b[0m \u001b[0mkwargs\u001b[0m \u001b[0;32min\u001b[0m \u001b[0mself\u001b[0m\u001b[0;34m.\u001b[0m\u001b[0mitems\u001b[0m\u001b[0;34m]\u001b[0m\u001b[0;34m\u001b[0m\u001b[0m\n\u001b[0m\u001b[1;32m    132\u001b[0m \u001b[0;34m\u001b[0m\u001b[0m\n\u001b[1;32m    133\u001b[0m     \u001b[0;32mdef\u001b[0m \u001b[0m__len__\u001b[0m\u001b[0;34m(\u001b[0m\u001b[0mself\u001b[0m\u001b[0;34m)\u001b[0m\u001b[0;34m:\u001b[0m\u001b[0;34m\u001b[0m\u001b[0m\n",
      "\u001b[0;32m~/miniconda3/envs/sklearn-oct/lib/python3.5/site-packages/sklearn/model_selection/_validation.py\u001b[0m in \u001b[0;36m_fit_and_score\u001b[0;34m(estimator, X, y, scorer, train, test, verbose, parameters, fit_params, return_train_score, return_parameters, return_n_test_samples, return_times, error_score)\u001b[0m\n\u001b[1;32m    456\u001b[0m             \u001b[0mestimator\u001b[0m\u001b[0;34m.\u001b[0m\u001b[0mfit\u001b[0m\u001b[0;34m(\u001b[0m\u001b[0mX_train\u001b[0m\u001b[0;34m,\u001b[0m \u001b[0;34m**\u001b[0m\u001b[0mfit_params\u001b[0m\u001b[0;34m)\u001b[0m\u001b[0;34m\u001b[0m\u001b[0m\n\u001b[1;32m    457\u001b[0m         \u001b[0;32melse\u001b[0m\u001b[0;34m:\u001b[0m\u001b[0;34m\u001b[0m\u001b[0m\n\u001b[0;32m--> 458\u001b[0;31m             \u001b[0mestimator\u001b[0m\u001b[0;34m.\u001b[0m\u001b[0mfit\u001b[0m\u001b[0;34m(\u001b[0m\u001b[0mX_train\u001b[0m\u001b[0;34m,\u001b[0m \u001b[0my_train\u001b[0m\u001b[0;34m,\u001b[0m \u001b[0;34m**\u001b[0m\u001b[0mfit_params\u001b[0m\u001b[0;34m)\u001b[0m\u001b[0;34m\u001b[0m\u001b[0m\n\u001b[0m\u001b[1;32m    459\u001b[0m \u001b[0;34m\u001b[0m\u001b[0m\n\u001b[1;32m    460\u001b[0m     \u001b[0;32mexcept\u001b[0m \u001b[0mException\u001b[0m \u001b[0;32mas\u001b[0m \u001b[0me\u001b[0m\u001b[0;34m:\u001b[0m\u001b[0;34m\u001b[0m\u001b[0m\n",
      "\u001b[0;32m~/miniconda3/envs/sklearn-oct/lib/python3.5/site-packages/sklearn/kernel_ridge.py\u001b[0m in \u001b[0;36mfit\u001b[0;34m(self, X, y, sample_weight)\u001b[0m\n\u001b[1;32m    149\u001b[0m             \u001b[0msample_weight\u001b[0m \u001b[0;34m=\u001b[0m \u001b[0mcheck_array\u001b[0m\u001b[0;34m(\u001b[0m\u001b[0msample_weight\u001b[0m\u001b[0;34m,\u001b[0m \u001b[0mensure_2d\u001b[0m\u001b[0;34m=\u001b[0m\u001b[0;32mFalse\u001b[0m\u001b[0;34m)\u001b[0m\u001b[0;34m\u001b[0m\u001b[0m\n\u001b[1;32m    150\u001b[0m \u001b[0;34m\u001b[0m\u001b[0m\n\u001b[0;32m--> 151\u001b[0;31m         \u001b[0mK\u001b[0m \u001b[0;34m=\u001b[0m \u001b[0mself\u001b[0m\u001b[0;34m.\u001b[0m\u001b[0m_get_kernel\u001b[0m\u001b[0;34m(\u001b[0m\u001b[0mX\u001b[0m\u001b[0;34m)\u001b[0m\u001b[0;34m\u001b[0m\u001b[0m\n\u001b[0m\u001b[1;32m    152\u001b[0m         \u001b[0malpha\u001b[0m \u001b[0;34m=\u001b[0m \u001b[0mnp\u001b[0m\u001b[0;34m.\u001b[0m\u001b[0matleast_1d\u001b[0m\u001b[0;34m(\u001b[0m\u001b[0mself\u001b[0m\u001b[0;34m.\u001b[0m\u001b[0malpha\u001b[0m\u001b[0;34m)\u001b[0m\u001b[0;34m\u001b[0m\u001b[0m\n\u001b[1;32m    153\u001b[0m \u001b[0;34m\u001b[0m\u001b[0m\n",
      "\u001b[0;32m~/miniconda3/envs/sklearn-oct/lib/python3.5/site-packages/sklearn/kernel_ridge.py\u001b[0m in \u001b[0;36m_get_kernel\u001b[0;34m(self, X, Y)\u001b[0m\n\u001b[1;32m    119\u001b[0m                       \"coef0\": self.coef0}\n\u001b[1;32m    120\u001b[0m         return pairwise_kernels(X, Y, metric=self.kernel,\n\u001b[0;32m--> 121\u001b[0;31m                                 filter_params=True, **params)\n\u001b[0m\u001b[1;32m    122\u001b[0m \u001b[0;34m\u001b[0m\u001b[0m\n\u001b[1;32m    123\u001b[0m     \u001b[0;34m@\u001b[0m\u001b[0mproperty\u001b[0m\u001b[0;34m\u001b[0m\u001b[0m\n",
      "\u001b[0;32m~/miniconda3/envs/sklearn-oct/lib/python3.5/site-packages/sklearn/metrics/pairwise.py\u001b[0m in \u001b[0;36mpairwise_kernels\u001b[0;34m(X, Y, metric, filter_params, n_jobs, **kwds)\u001b[0m\n\u001b[1;32m   1403\u001b[0m         \u001b[0;32mraise\u001b[0m \u001b[0mValueError\u001b[0m\u001b[0;34m(\u001b[0m\u001b[0;34m\"Unknown kernel %r\"\u001b[0m \u001b[0;34m%\u001b[0m \u001b[0mmetric\u001b[0m\u001b[0;34m)\u001b[0m\u001b[0;34m\u001b[0m\u001b[0m\n\u001b[1;32m   1404\u001b[0m \u001b[0;34m\u001b[0m\u001b[0m\n\u001b[0;32m-> 1405\u001b[0;31m     \u001b[0;32mreturn\u001b[0m \u001b[0m_parallel_pairwise\u001b[0m\u001b[0;34m(\u001b[0m\u001b[0mX\u001b[0m\u001b[0;34m,\u001b[0m \u001b[0mY\u001b[0m\u001b[0;34m,\u001b[0m \u001b[0mfunc\u001b[0m\u001b[0;34m,\u001b[0m \u001b[0mn_jobs\u001b[0m\u001b[0;34m,\u001b[0m \u001b[0;34m**\u001b[0m\u001b[0mkwds\u001b[0m\u001b[0;34m)\u001b[0m\u001b[0;34m\u001b[0m\u001b[0m\n\u001b[0m",
      "\u001b[0;32m~/miniconda3/envs/sklearn-oct/lib/python3.5/site-packages/sklearn/metrics/pairwise.py\u001b[0m in \u001b[0;36m_parallel_pairwise\u001b[0;34m(X, Y, func, n_jobs, **kwds)\u001b[0m\n\u001b[1;32m   1088\u001b[0m     \u001b[0;32mif\u001b[0m \u001b[0mn_jobs\u001b[0m \u001b[0;34m==\u001b[0m \u001b[0;36m1\u001b[0m\u001b[0;34m:\u001b[0m\u001b[0;34m\u001b[0m\u001b[0m\n\u001b[1;32m   1089\u001b[0m         \u001b[0;31m# Special case to avoid picklability checks in delayed\u001b[0m\u001b[0;34m\u001b[0m\u001b[0;34m\u001b[0m\u001b[0m\n\u001b[0;32m-> 1090\u001b[0;31m         \u001b[0;32mreturn\u001b[0m \u001b[0mfunc\u001b[0m\u001b[0;34m(\u001b[0m\u001b[0mX\u001b[0m\u001b[0;34m,\u001b[0m \u001b[0mY\u001b[0m\u001b[0;34m,\u001b[0m \u001b[0;34m**\u001b[0m\u001b[0mkwds\u001b[0m\u001b[0;34m)\u001b[0m\u001b[0;34m\u001b[0m\u001b[0m\n\u001b[0m\u001b[1;32m   1091\u001b[0m \u001b[0;34m\u001b[0m\u001b[0m\n\u001b[1;32m   1092\u001b[0m     \u001b[0;31m# TODO: in some cases, backend='threading' may be appropriate\u001b[0m\u001b[0;34m\u001b[0m\u001b[0;34m\u001b[0m\u001b[0m\n",
      "\u001b[0;32m~/miniconda3/envs/sklearn-oct/lib/python3.5/site-packages/sklearn/gaussian_process/kernels.py\u001b[0m in \u001b[0;36m__call__\u001b[0;34m(self, X, Y, eval_gradient)\u001b[0m\n\u001b[1;32m   1322\u001b[0m                     \"Gradient can only be evaluated when Y is None.\")\n\u001b[1;32m   1323\u001b[0m             dists = cdist(X / length_scale, Y / length_scale,\n\u001b[0;32m-> 1324\u001b[0;31m                           metric='euclidean')\n\u001b[0m\u001b[1;32m   1325\u001b[0m \u001b[0;34m\u001b[0m\u001b[0m\n\u001b[1;32m   1326\u001b[0m         \u001b[0;32mif\u001b[0m \u001b[0mself\u001b[0m\u001b[0;34m.\u001b[0m\u001b[0mnu\u001b[0m \u001b[0;34m==\u001b[0m \u001b[0;36m0.5\u001b[0m\u001b[0;34m:\u001b[0m\u001b[0;34m\u001b[0m\u001b[0m\n",
      "\u001b[0;32m~/miniconda3/envs/sklearn-oct/lib/python3.5/site-packages/scipy/spatial/distance.py\u001b[0m in \u001b[0;36mcdist\u001b[0;34m(XA, XB, metric, *args, **kwargs)\u001b[0m\n\u001b[1;32m   2379\u001b[0m     \u001b[0mout\u001b[0m \u001b[0;34m=\u001b[0m \u001b[0mkwargs\u001b[0m\u001b[0;34m.\u001b[0m\u001b[0mpop\u001b[0m\u001b[0;34m(\u001b[0m\u001b[0;34m\"out\"\u001b[0m\u001b[0;34m,\u001b[0m \u001b[0;32mNone\u001b[0m\u001b[0;34m)\u001b[0m\u001b[0;34m\u001b[0m\u001b[0m\n\u001b[1;32m   2380\u001b[0m     \u001b[0;32mif\u001b[0m \u001b[0mout\u001b[0m \u001b[0;32mis\u001b[0m \u001b[0;32mNone\u001b[0m\u001b[0;34m:\u001b[0m\u001b[0;34m\u001b[0m\u001b[0m\n\u001b[0;32m-> 2381\u001b[0;31m         \u001b[0mdm\u001b[0m \u001b[0;34m=\u001b[0m \u001b[0mnp\u001b[0m\u001b[0;34m.\u001b[0m\u001b[0mempty\u001b[0m\u001b[0;34m(\u001b[0m\u001b[0;34m(\u001b[0m\u001b[0mmA\u001b[0m\u001b[0;34m,\u001b[0m \u001b[0mmB\u001b[0m\u001b[0;34m)\u001b[0m\u001b[0;34m,\u001b[0m \u001b[0mdtype\u001b[0m\u001b[0;34m=\u001b[0m\u001b[0mnp\u001b[0m\u001b[0;34m.\u001b[0m\u001b[0mdouble\u001b[0m\u001b[0;34m)\u001b[0m\u001b[0;34m\u001b[0m\u001b[0m\n\u001b[0m\u001b[1;32m   2382\u001b[0m     \u001b[0;32melse\u001b[0m\u001b[0;34m:\u001b[0m\u001b[0;34m\u001b[0m\u001b[0m\n\u001b[1;32m   2383\u001b[0m         \u001b[0;32mif\u001b[0m \u001b[0mout\u001b[0m\u001b[0;34m.\u001b[0m\u001b[0mshape\u001b[0m \u001b[0;34m!=\u001b[0m \u001b[0;34m(\u001b[0m\u001b[0mmA\u001b[0m\u001b[0;34m,\u001b[0m \u001b[0mmB\u001b[0m\u001b[0;34m)\u001b[0m\u001b[0;34m:\u001b[0m\u001b[0;34m\u001b[0m\u001b[0m\n",
      "\u001b[0;31mMemoryError\u001b[0m: "
     ]
    }
   ],
   "source": [
    "import time\n",
    "import numpy as np\n",
    "\n",
    "from sklearn.externals import joblib\n",
    "from sklearn.kernel_ridge import KernelRidge\n",
    "from sklearn.model_selection import GridSearchCV\n",
    "from sklearn.gaussian_process.kernels import Matern\n",
    "\n",
    "number_of_points_per_file = 512*128\n",
    "\n",
    "# fit the kernel for each reference image, i.e., ref pid\n",
    "for pid, atlas_layer_points in deformed_layer_points_per_pid.items(): \n",
    "    \n",
    "    logfilename = os.path.join(main_folder, pid, 'kernel_estimate_log.txt')\n",
    "    \n",
    "    # fit the kernel to each layer boundary\n",
    "    for label, layer_points in atlas_layer_points.items():\n",
    "        print('\\n-----------------PID: {}, Label:{}----------------------'.format(pid, label))\n",
    "        X_train = layer_points[:number_of_train_files*number_of_points_per_file, 1:]\n",
    "        y_train = layer_points[:number_of_train_files*number_of_points_per_file, 0]\n",
    "        \n",
    "        X_test = layer_points[number_of_train_files*number_of_points_per_file:, 1:]\n",
    "        y_test = layer_points[number_of_train_files*number_of_points_per_file:, 0]\n",
    "        \n",
    "        # set up hyperparameter selection \n",
    "        param_grid = {\"alpha\": [1e0, 1e-1, 1e-2, 1e-3],\n",
    "                      \"kernel\": [Matern(length_scale=l, nu=2.5) for l in np.logspace(-3, 0, 20)]}\n",
    "        kr = GridSearchCV(KernelRidge(), cv=5, param_grid=param_grid, n_jobs=1, \n",
    "                  verbose=100, return_train_score=False)\n",
    "        \n",
    "        # fit kernel to data \n",
    "        t0 = time.time()\n",
    "        kr.fit(X_train, y_train)\n",
    "        fit_time = time.time() - t0\n",
    "        print('KRR complexity and bandwidth selected and model fitted in %.3f s' % (time.time() - t0))\n",
    "        \n",
    "        #save the fitted kernel \n",
    "        print('Save kernel %s' % pid)\n",
    "        filename = 'matern_kernel_label{}.pkl'.format(label)\n",
    "        filename = os.path.join(main_folder, pid, filename)\n",
    "        joblib.dump(kr, filename)  # to load, kr = joblib.load(filename) \n",
    "        \n",
    "        # accuracy on test data\n",
    "        accuracy_on_test_data = kr.score(X_test, y_test)\n",
    "        \n",
    "        log_info = ('PID: %s, Label: %s\\n' % (pid, label)) +\\\n",
    "                   ('\\tBest training score: %.4f\\n' %  kr.best_score_)+\\\n",
    "                   ('\\tBest test score: %.4f\\n' % accuracy_on_test_data)+\\\n",
    "                   ('\\tBest kernel: %s\\n' %  kr.best_estimator_.kernel)+\\\n",
    "                    ('\\tBest length scale: %.4f\\n' %  kr.best_estimator_.length_scale)+\\\n",
    "                   '\\tBest length scale bound: {}\\n'.format(kr.best_estimator_.length_scale_bounds)\n",
    "                \n",
    "        with open(logfilename, mode='a', encoding='utf-8') as afile:\n",
    "            afile.write(log_info)\n",
    "        \n",
    "        "
   ]
  },
  {
   "cell_type": "code",
   "execution_count": null,
   "metadata": {
    "collapsed": true
   },
   "outputs": [],
   "source": []
  },
  {
   "cell_type": "code",
   "execution_count": null,
   "metadata": {
    "collapsed": true
   },
   "outputs": [],
   "source": []
  },
  {
   "cell_type": "code",
   "execution_count": null,
   "metadata": {
    "collapsed": true
   },
   "outputs": [],
   "source": []
  },
  {
   "cell_type": "code",
   "execution_count": null,
   "metadata": {
    "collapsed": true
   },
   "outputs": [],
   "source": []
  },
  {
   "cell_type": "code",
   "execution_count": null,
   "metadata": {
    "collapsed": true
   },
   "outputs": [],
   "source": []
  }
 ],
 "metadata": {
  "anaconda-cloud": {},
  "kernelspec": {
   "display_name": "Python 3",
   "language": "python",
   "name": "python3"
  },
  "language_info": {
   "codemirror_mode": {
    "name": "ipython",
    "version": 3
   },
   "file_extension": ".py",
   "mimetype": "text/x-python",
   "name": "python",
   "nbconvert_exporter": "python",
   "pygments_lexer": "ipython3",
   "version": "3.5.4"
  }
 },
 "nbformat": 4,
 "nbformat_minor": 2
}
