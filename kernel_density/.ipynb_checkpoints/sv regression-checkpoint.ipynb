{
 "cells": [
  {
   "cell_type": "code",
   "execution_count": 1,
   "metadata": {
    "collapsed": false,
    "deletable": true,
    "editable": true
   },
   "outputs": [
    {
     "name": "stdout",
     "output_type": "stream",
     "text": [
      "Filenames:  ['C:/D/dev/data/20171205_cirrus_manual_results\\\\CC_0003\\\\deformed_layer_points.csv', 'C:/D/dev/data/20171205_cirrus_manual_results\\\\CC_0005\\\\deformed_layer_points.csv', 'C:/D/dev/data/20171205_cirrus_manual_results\\\\CC_0006_\\\\deformed_layer_points.csv', 'C:/D/dev/data/20171205_cirrus_manual_results\\\\CC_0008\\\\deformed_layer_points.csv']\n"
     ]
    }
   ],
   "source": [
    "%load_ext autoreload\n",
    "%autoreload 1\n",
    "%aimport read_atlas_layer_points \n",
    "#import read_atlas_layer_points as rlp\n",
    "\n",
    "main_folder = 'C:/D/dev/data/20171205_cirrus_manual_results'\n",
    "subfolders = ['CC_0003', 'CC_0005', 'CC_0006_', 'CC_0008']\n",
    "\n",
    "filenames = read_atlas_layer_points.get_filenames(main_folder, subfolders)\n",
    "print('Filenames: ', filenames)"
   ]
  },
  {
   "cell_type": "code",
   "execution_count": 19,
   "metadata": {
    "collapsed": false,
    "deletable": true,
    "editable": true
   },
   "outputs": [],
   "source": [
    "atlas_layer_points = read_atlas_layer_points.get_atlas_layer_points(filenames, False)"
   ]
  },
  {
   "cell_type": "code",
   "execution_count": 20,
   "metadata": {
    "collapsed": false,
    "deletable": true,
    "editable": true
   },
   "outputs": [
    {
     "data": {
      "text/plain": [
       "array([[ 0.80723101,  0.0212754 , -0.162653  ],\n",
       "       [ 0.80721098,  0.0329755 , -0.16265599],\n",
       "       [ 0.80716699,  0.0446755 , -0.162659  ],\n",
       "       ..., \n",
       "       [ 0.79012698,  5.97806978,  5.83027983],\n",
       "       [ 0.78479397,  5.98976994,  5.83027983],\n",
       "       [ 0.78482199,  6.00147009,  5.83026981]], dtype=float32)"
      ]
     },
     "execution_count": 20,
     "metadata": {},
     "output_type": "execute_result"
    }
   ],
   "source": [
    "atlas_layer_points['2']"
   ]
  },
  {
   "cell_type": "code",
   "execution_count": 8,
   "metadata": {
    "collapsed": false,
    "deletable": true,
    "editable": true
   },
   "outputs": [],
   "source": [
    "import numpy as np"
   ]
  },
  {
   "cell_type": "code",
   "execution_count": 29,
   "metadata": {
    "collapsed": false,
    "scrolled": true
   },
   "outputs": [
    {
     "name": "stdout",
     "output_type": "stream",
     "text": [
      "Scale  0.00959443437696  centroid  [ 0.73104119  3.01141167  2.83376455]\n"
     ]
    }
   ],
   "source": [
    "# compute normalization factor for points in each layer\n",
    "\n",
    "def normalization_transform(points, verbose=False):\n",
    "    \"\"\"\n",
    "        points is an numpy ndarray of size n x dim\n",
    "        return \n",
    "            scale : scalar value\n",
    "            centroid : 1 x 3 ndarray\n",
    "    \"\"\"\n",
    "    n_pnts = points.shape[0]\n",
    "    # find centroid\n",
    "    if verbose: print(type(points))\n",
    "    centroid = np.sum(points, axis = 0)/n_pnts\n",
    "    # find scale\n",
    "    distance2centroid = lambda pnt: pnt-centroid\n",
    "    deviation = np.apply_along_axis(distance2centroid, axis=1, arr=points)\n",
    "    scale = np.linalg.norm(deviation, ord='fro')/n_pnts\n",
    "    if verbose: print(scale)\n",
    "        \n",
    "    return scale, centroid\n",
    "\n",
    "label1_points = atlas_layer_points['1']\n",
    "scale, centroid = normalization_transform(label1_points)\n",
    "print('Scale ', scale, ' centroid ', centroid)"
   ]
  },
  {
   "cell_type": "code",
   "execution_count": 32,
   "metadata": {
    "collapsed": false
   },
   "outputs": [
    {
     "name": "stdout",
     "output_type": "stream",
     "text": [
      "Original \n",
      " [[ 0.77255499  0.0212982  -0.16264901]\n",
      " [ 0.772753    0.032998   -0.162652  ]] \n",
      "Denorm \n",
      " [[ 0.77255499  0.0212982  -0.16264901]\n",
      " [ 0.772753    0.032998   -0.162652  ]]\n",
      "Norm \n",
      " [[   4.32686274 -311.65083313 -312.30747337]\n",
      " [   4.3475004  -310.43139705 -312.30778555]]\n"
     ]
    }
   ],
   "source": [
    "#apply normalization\n",
    "def normalize_points(points, scale, centroid):\n",
    "    relative2centroid = lambda pnt: pnt-centroid\n",
    "    local_points = np.apply_along_axis(relative2centroid, axis=1, arr=points)\n",
    "    normalized_points = local_points/scale\n",
    "    return normalized_points\n",
    "\n",
    "def denormalize_points(normalized_point, scale, centroid):\n",
    "    points = normalized_point*scale\n",
    "    relative2world = lambda pnt: pnt+centroid\n",
    "    points = np.apply_along_axis(relative2world, axis=1, arr=points)\n",
    "    return points\n",
    "\n",
    "norm_l1_points = normalize_points(label1_points, scale, centroid)\n",
    "denorm_l1_points = denormalize_points(norm_l1_points, scale, centroid)\n",
    "\n",
    "print('Original \\n', label1_points[:2, :], '\\nDenorm \\n', denorm_l1_points[:2, :])\n",
    "print('Norm \\n', norm_l1_points[:2, :])"
   ]
  },
  {
   "cell_type": "code",
   "execution_count": 46,
   "metadata": {
    "collapsed": false
   },
   "outputs": [
    {
     "name": "stdout",
     "output_type": "stream",
     "text": [
      "  0.0010\n",
      "  0.0014\n",
      "  0.0021\n",
      "  0.0030\n",
      "  0.0043\n",
      "  0.0062\n",
      "  0.0089\n",
      "  0.0127\n",
      "  0.0183\n",
      "  0.0264\n",
      "  0.0379\n",
      "  0.0546\n",
      "  0.0785\n",
      "  0.1129\n",
      "  0.1624\n",
      "  0.2336\n",
      "  0.3360\n",
      "  0.4833\n",
      "  0.6952\n",
      "  1.0000\n"
     ]
    }
   ],
   "source": [
    "grid = np.logspace(-3, 0, 20)\n",
    "for l in grid: print('%8.4f' % l)"
   ]
  },
  {
   "cell_type": "code",
   "execution_count": null,
   "metadata": {
    "collapsed": false
   },
   "outputs": [],
   "source": [
    "import time\n",
    "from sklearn.externals import joblib\n",
    "from sklearn.kernel_ridge import KernelRidge\n",
    "from sklearn.model_selection import GridSearchCV\n",
    "\n",
    "param_grid = {\"alpha\": [1e0, 1e-1, 1e-2, 1e-3],\n",
    "              \"kernel\": [Matern(l, p, nu=2.5) for l in np.logspace(-3, 0, 20)]}\n",
    "kr = GridSearchCV(KernelRidge(), cv=5, param_grid=param_grid, n_jobs=-1, \n",
    "                  verbose=100, return_train_score=False)"
   ]
  },
  {
   "cell_type": "code",
   "execution_count": 47,
   "metadata": {
    "collapsed": false
   },
   "outputs": [
    {
     "ename": "SyntaxError",
     "evalue": "invalid syntax (<ipython-input-47-c0acf861c48b>, line 8)",
     "output_type": "error",
     "traceback": [
      "\u001b[1;36m  File \u001b[1;32m\"<ipython-input-47-c0acf861c48b>\"\u001b[1;36m, line \u001b[1;32m8\u001b[0m\n\u001b[1;33m    print(, length_scale_bounds)\u001b[0m\n\u001b[1;37m          ^\u001b[0m\n\u001b[1;31mSyntaxError\u001b[0m\u001b[1;31m:\u001b[0m invalid syntax\n"
     ]
    }
   ],
   "source": [
    "import os\n",
    "\n",
    "\n",
    "t0 = time.time()\n",
    "kr.fit(X[:train_size], y[:train_size])\n",
    "print('KRR complexity and bandwidth selected and model fitted in %.3f s' % (time.time() - t0))\n",
    "\n",
    "#save kernel\n",
    "#filepath = os.path.join(main_folder, subfolder)\n",
    "filename = os.path.join(main_folder, 'krr.pkl')\n",
    "joblib.dump(kr, filename) \n",
    "# clf = joblib.load('filename.pkl') \n",
    "\n",
    "print('Best Kernel:',kr.best_estimator_.kernel)\n",
    "print('Best length scale:',kr.best_estimator_.length_scale)\n",
    "print('Best length scale bound:',kr.best_estimator_.length_scale_bounds)\n",
    "\n"
   ]
  },
  {
   "cell_type": "code",
   "execution_count": null,
   "metadata": {
    "collapsed": true
   },
   "outputs": [],
   "source": []
  }
 ],
 "metadata": {
  "kernelspec": {
   "display_name": "Python [conda env:aind-dl]",
   "language": "python",
   "name": "conda-env-aind-dl-py"
  },
  "language_info": {
   "codemirror_mode": {
    "name": "ipython",
    "version": 3
   },
   "file_extension": ".py",
   "mimetype": "text/x-python",
   "name": "python",
   "nbconvert_exporter": "python",
   "pygments_lexer": "ipython3",
   "version": "3.5.3"
  }
 },
 "nbformat": 4,
 "nbformat_minor": 2
}
