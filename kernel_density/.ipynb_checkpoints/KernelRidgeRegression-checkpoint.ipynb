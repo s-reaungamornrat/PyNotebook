{
 "cells": [
  {
   "cell_type": "code",
   "execution_count": 90,
   "metadata": {
    "collapsed": true
   },
   "outputs": [],
   "source": [
    "import read_atlas_layer_points as rlp\n",
    "\n",
    "pid_index_range= [4, 5]\n",
    "\n",
    "main_folder = '/iacl/pg17/ja/data/20171205_cirrus_manual_results/'\n",
    "\n",
    "filename = 'C:/D/dev/Xnorm/experiments/oct/20171204_manual_segmentation/filenames.txt'\n",
    "#filename = '/home/ja/dev/Xnorm/experiments/oct/20171204_manual_segmentation/filenames.txt'\n",
    "pids, image_prefixes = rlp.read_manual_segmentation_oct_files(filename)\n",
    "\n",
    "filename = 'C:/D/dev/Xnorm/experiments/oct/20170830_large_healthy_data_proc/cirrus_od_altas_folder_linux_iacl.txt'\n",
    "#filename = '/home/ja/dev/Xnorm/experiments/oct/20170830_large_healthy_data_proc/cirrus_od_altas_folder_linux_iacl.txt'\n",
    "atlas_folders, atlas_subfolders = rlp.read_atlas_images_files(filename)\n",
    "\n",
    "#print('PID: {}\\nImagePrefixes:{}'.format(pids, image_prefixes))\n",
    "#print('Atlas folders:{}\\nAtlas subfolders:{}'.format(atlas_folders, atlas_subfolders))"
   ]
  },
  {
   "cell_type": "code",
   "execution_count": 91,
   "metadata": {
    "collapsed": false
   },
   "outputs": [
    {
     "name": "stdout",
     "output_type": "stream",
     "text": [
      "Number  4  pid  P1132308285\n",
      "Number  5  pid  P1210931577\n"
     ]
    }
   ],
   "source": [
    "deformed_layer_pnt_filename = 'deformed_layer_points.csv';\n",
    "# each patient having dict of label as a key & a list of points as a value\n",
    "deformed_layer_points_per_pid = dict()\n",
    "\n",
    "for number, pid in enumerate(pids):\n",
    "    if number not in pid_index_range: continue\n",
    "    print('Number ', number, ' pid ', pid)\n",
    "    filenames = []\n",
    "    for atlas_subfolder in atlas_subfolders:\n",
    "        filename = '/'.join([pid, atlas_subfolder, deformed_layer_pnt_filename])\n",
    "        filename = os.path.join(main_folder, filename)\n",
    "        filenames.append(filename)\n",
    "    deformed_layer_points_per_pid[pid] = rlp.get_atlas_layer_points(filenames)\n",
    "    \n",
    "deformed_layer_points_per_pid[pids[0]]"
   ]
  },
  {
   "cell_type": "code",
   "execution_count": 43,
   "metadata": {
    "collapsed": false
   },
   "outputs": [
    {
     "data": {
      "text/plain": [
       "'P1067763439'"
      ]
     },
     "execution_count": 43,
     "metadata": {},
     "output_type": "execute_result"
    }
   ],
   "source": [
    "for pid, atlas_layer_points in deformed_layer_points_per_pid.items(): \n",
    "    print('Data shape: ', atlas_layer_points['1'].shape, ' number of points: ', 512*128*len(atlas_subfolders))"
   ]
  },
  {
   "cell_type": "code",
   "execution_count": null,
   "metadata": {
    "collapsed": false
   },
   "outputs": [],
   "source": [
    "import time\n",
    "import os\n",
    "\n",
    "from sklearn.externals import joblib\n",
    "from sklearn.kernel_ridge import KernelRidge\n",
    "from sklearn.model_selection import GridSearchCV\n",
    "from sklearn.gaussian_process.kernels import Matern\n",
    "\n",
    "number_of_train_files = 26 # having 5 for testing\n",
    "number_of_points_per_file = 512*128\n",
    "\n",
    "# fit the kernel for each reference image, i.e., ref pid\n",
    "for pid, atlas_layer_points in deformed_layer_points_per_pid.items(): \n",
    "    \n",
    "    logfilename = os.path.join(main_folder, pid, 'kernel_estimate_log.txt')\n",
    "    \n",
    "    # fit the kernel to each layer boundary\n",
    "    for label, layer_points in atlas_layer_points.items():\n",
    "        print('\\n-----------------PID: {}, Label:{}----------------------'.format(pid, label))\n",
    "        X_train = layer_points[:26*number_of_points_per_file, 1:]\n",
    "        y_train = layer_points[:26*number_of_points_per_file, 0]\n",
    "        \n",
    "        X_test = layer_points[26*number_of_points_per_file:, 1:]\n",
    "        y_test = layer_points[26*number_of_points_per_file:, 0]\n",
    "        \n",
    "        # set up hyperparameter selection \n",
    "        param_grid = {\"alpha\": [1e0, 1e-1, 1e-2, 1e-3],\n",
    "                      \"kernel\": [Matern(length_scale=l, nu=2.5) for l in np.logspace(-3, 0, 20)]}\n",
    "        kr = GridSearchCV(KernelRidge(), cv=5, param_grid=param_grid, n_jobs=-1, \n",
    "                  verbose=100, return_train_score=False)\n",
    "        \n",
    "        # fit kernel to data \n",
    "        t0 = time.time()\n",
    "        kr.fit(X_train, y_train)\n",
    "        fit_time = time.time() - t0\n",
    "        #print('KRR complexity and bandwidth selected and model fitted in %.3f s' % (time.time() - t0))\n",
    "        \n",
    "        #save the fitted kernel \n",
    "        filename = 'matern_kernel_label{}.pkl'.format(label)\n",
    "        filename = os.path.join(main_folder, pid, filename)\n",
    "        joblib.dump(kr, filename)  # to load, kr = joblib.load(filename) \n",
    "        \n",
    "        # accuracy on test data\n",
    "        accuracy_on_test_data = kr.score(X_test, y_test)\n",
    "        \n",
    "        log_info = ('PID: %s, Label: %s\\n' % (pid, label)) +\\\n",
    "                   ('\\tBest training score: %.4f\\n' %  kr.best_score_)+\\\n",
    "                   ('\\tBest test score: %.4f\\n' % accuracy_on_test_data)+\\\n",
    "                   ('\\tBest kernel: %s\\n' %  kr.best_estimator_.kernel)+\\\n",
    "                    ('\\tBest length scale: %.4f\\n' %  kr.best_estimator_.length_scale)+\\\n",
    "                   '\\tBest length scale bound: {}\\n'.format(kr.best_estimator_.length_scale_bounds)\n",
    "                \n",
    "        with open(logfilename, mode='a', encoding='utf-8') as afile:\n",
    "            afile.write(log_info)\n",
    "        \n",
    "        "
   ]
  },
  {
   "cell_type": "code",
   "execution_count": null,
   "metadata": {
    "collapsed": false
   },
   "outputs": [],
   "source": []
  },
  {
   "cell_type": "code",
   "execution_count": null,
   "metadata": {
    "collapsed": false
   },
   "outputs": [],
   "source": []
  },
  {
   "cell_type": "code",
   "execution_count": null,
   "metadata": {
    "collapsed": false
   },
   "outputs": [],
   "source": []
  },
  {
   "cell_type": "code",
   "execution_count": null,
   "metadata": {
    "collapsed": false
   },
   "outputs": [],
   "source": []
  },
  {
   "cell_type": "code",
   "execution_count": null,
   "metadata": {
    "collapsed": false
   },
   "outputs": [],
   "source": []
  }
 ],
 "metadata": {
  "anaconda-cloud": {},
  "kernelspec": {
   "display_name": "Python [conda env:aind-dl]",
   "language": "python",
   "name": "conda-env-aind-dl-py"
  },
  "language_info": {
   "codemirror_mode": {
    "name": "ipython",
    "version": 3
   },
   "file_extension": ".py",
   "mimetype": "text/x-python",
   "name": "python",
   "nbconvert_exporter": "python",
   "pygments_lexer": "ipython3",
   "version": "3.5.3"
  }
 },
 "nbformat": 4,
 "nbformat_minor": 2
}
