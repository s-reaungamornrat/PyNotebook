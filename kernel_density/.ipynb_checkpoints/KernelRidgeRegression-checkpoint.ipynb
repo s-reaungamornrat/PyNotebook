{
 "cells": [
  {
   "cell_type": "code",
   "execution_count": 4,
   "metadata": {},
   "outputs": [
    {
     "name": "stdout",
     "output_type": "stream",
     "text": [
      "PID: ['P1067763439', 'P1092977057', 'P1103182673', 'P1103946697', 'P1132308285', 'P1210931577']\n",
      "ImagePrefixes:['P1067763439_Macular Cube 512x128_9-15-2011_15-48-40_OD_sn5701_cube_z', 'P1092977057_Macular Cube 512x128_2-15-2012_16-13-29_OS_sn10264_cube_z', 'P1103182673_Macular Cube 512x128_9-15-2011_10-10-55_OD_sn5737_cube_z', 'P1103946697_Macular Cube 512x128_10-20-2011_13-27-42_OD_sn4534_cube_z', 'P1132308285_Macular Cube 512x128_4-21-2010_8-58-53_OD_sn10122_cube_z', 'P1210931577_Macular Cube 512x128_2-20-2012_12-2-34_OD_sn11344_cube_z']\n",
      "Atlas folders:['/iacl/pg17/ja/data/20170712_oct_ms_calabresi/CC_0003', '/iacl/pg17/ja/data/20170712_oct_ms_calabresi/CC_0005', '/iacl/pg17/ja/data/20170712_oct_ms_calabresi/CC_0006_', '/iacl/pg17/ja/data/20170712_oct_ms_calabresi/CC_0009', '/iacl/pg17/ja/data/20170712_oct_ms_calabresi/CC_0010', '/iacl/pg17/ja/data/20170712_oct_ms_calabresi/CC_0011', '/iacl/pg17/ja/data/20170712_oct_ms_calabresi/CC_0012', '/iacl/pg17/ja/data/20170712_oct_ms_calabresi/CC_0013', '/iacl/pg17/ja/data/20170712_oct_ms_calabresi/CC_0014', '/iacl/pg17/ja/data/20170712_oct_ms_calabresi/CC_0016', '/iacl/pg17/ja/data/20170712_oct_ms_calabresi/CC_0017', '/iacl/pg17/ja/data/20170712_oct_ms_calabresi/CC_0018', '/iacl/pg17/ja/data/20170712_oct_ms_calabresi/CC_0019', '/iacl/pg17/ja/data/20170712_oct_ms_calabresi/CC_0020', '/iacl/pg17/ja/data/20170712_oct_ms_calabresi/CC_0050', '/iacl/pg17/ja/data/20170712_oct_ms_calabresi/CC_0052', '/iacl/pg17/ja/data/20170712_oct_ms_calabresi/CC_0053', '/iacl/pg17/ja/data/20170712_oct_ms_calabresi/CC_0054', '/iacl/pg17/ja/data/20170712_oct_ms_calabresi/CC_0056', '/iacl/pg17/ja/data/20170712_oct_ms_calabresi/CC_0057', '/iacl/pg17/ja/data/20170712_oct_ms_calabresi/CC_0058', '/iacl/pg17/ja/data/20170712_oct_ms_calabresi/CC_0060', '/iacl/pg17/ja/data/20170712_oct_ms_calabresi/CC_0061', '/iacl/pg17/ja/data/20170712_oct_ms_calabresi/CC_0062', '/iacl/pg17/ja/data/20170712_oct_ms_calabresi/CC_0051', '/iacl/pg17/ja/data/20170712_oct_ms_calabresi/xHR_0001', '/iacl/pg17/ja/data/20170712_oct_ms_calabresi/xHR_0002', '/iacl/pg17/ja/data/20170712_oct_ms_calabresi/CC_0002', '/iacl/pg17/ja/data/20170712_oct_ms_calabresi/CC_0001', '/iacl/pg17/ja/data/20170712_oct_ms_calabresi/CC_0008', '/iacl/pg17/ja/data/20170712_oct_ms_calabresi/CC_0015']\n",
      "Atlas subfolders:['CC_0003', 'CC_0005', 'CC_0006_', 'CC_0009', 'CC_0010', 'CC_0011', 'CC_0012', 'CC_0013', 'CC_0014', 'CC_0016', 'CC_0017', 'CC_0018', 'CC_0019', 'CC_0020', 'CC_0050', 'CC_0052', 'CC_0053', 'CC_0054', 'CC_0056', 'CC_0057', 'CC_0058', 'CC_0060', 'CC_0061', 'CC_0062', 'CC_0051', 'xHR_0001', 'xHR_0002', 'CC_0002', 'CC_0001', 'CC_0008', 'CC_0015']\n"
     ]
    }
   ],
   "source": [
    "import read_atlas_layer_points as rlp\n",
    "\n",
    "pid_index_range= [0, 1]\n",
    "\n",
    "main_folder = '/iacl/pg17/ja/data/20171205_cirrus_manual_results/'\n",
    "\n",
    "#filename = 'C:/D/dev/Xnorm/experiments/oct/20171204_manual_segmentation/filenames.txt'\n",
    "filename = '/home/ja/dev/Xnorm/experiments/oct/20171204_manual_segmentation/filenames.txt'\n",
    "pids, image_prefixes = rlp.read_manual_segmentation_oct_files(filename)\n",
    "\n",
    "#filename = 'C:/D/dev/Xnorm/experiments/oct/20170830_large_healthy_data_proc/cirrus_od_altas_folder_linux_iacl.txt'\n",
    "filename = '/home/ja/dev/Xnorm/experiments/oct/20170830_large_healthy_data_proc/cirrus_od_altas_folder_linux_iacl.txt'\n",
    "atlas_folders, atlas_subfolders = rlp.read_atlas_images_files(filename)\n",
    "\n",
    "print('PID: {}\\nImagePrefixes:{}'.format(pids, image_prefixes))\n",
    "print('Atlas folders:{}\\nAtlas subfolders:{}'.format(atlas_folders, atlas_subfolders))"
   ]
  },
  {
   "cell_type": "code",
   "execution_count": 5,
   "metadata": {},
   "outputs": [
    {
     "name": "stdout",
     "output_type": "stream",
     "text": [
      "Number  0  pid  P1067763439\n",
      "Number  1  pid  P1092977057\n"
     ]
    },
    {
     "data": {
      "text/plain": [
       "{'1': array([[ 8.05157e-01, -1.60219e-03, -3.55315e-01],\n",
       "        [ 8.04476e-01,  1.00966e-02, -3.55312e-01],\n",
       "        [ 8.03831e-01,  2.17955e-02, -3.55309e-01],\n",
       "        ...,\n",
       "        [ 6.97468e-01,  5.78936e+00,  5.90056e+00],\n",
       "        [ 6.96985e-01,  5.80106e+00,  5.90056e+00],\n",
       "        [ 6.96479e-01,  5.81276e+00,  5.90056e+00]], dtype=float32),\n",
       " '2': array([[ 8.21524e-01, -1.57339e-03, -3.55299e-01],\n",
       "        [ 8.20814e-01,  1.01254e-02, -3.55296e-01],\n",
       "        [ 8.20201e-01,  2.18243e-02, -3.55293e-01],\n",
       "        ...,\n",
       "        [ 8.03126e-01,  5.78918e+00,  5.90066e+00],\n",
       "        [ 8.02849e-01,  5.80088e+00,  5.90066e+00],\n",
       "        [ 8.02608e-01,  5.81258e+00,  5.90066e+00]], dtype=float32),\n",
       " '3': array([[ 8.66533e-01, -1.49419e-03, -3.55257e-01],\n",
       "        [ 8.66043e-01,  1.02050e-02, -3.55254e-01],\n",
       "        [ 8.65389e-01,  2.19038e-02, -3.55251e-01],\n",
       "        ...,\n",
       "        [ 8.44320e-01,  5.78912e+00,  5.90069e+00],\n",
       "        [ 8.44315e-01,  5.80082e+00,  5.90070e+00],\n",
       "        [ 8.44343e-01,  5.81252e+00,  5.90070e+00]], dtype=float32),\n",
       " '4': array([[ 8.95447e-01, -1.44331e-03, -3.55229e-01],\n",
       "        [ 8.95379e-01,  1.02566e-02, -3.55226e-01],\n",
       "        [ 8.95313e-01,  2.19565e-02, -3.55222e-01],\n",
       "        ...,\n",
       "        [ 8.72099e-01,  5.78908e+00,  5.90072e+00],\n",
       "        [ 8.71599e-01,  5.80078e+00,  5.90072e+00],\n",
       "        [ 8.71231e-01,  5.81248e+00,  5.90072e+00]], dtype=float32),\n",
       " '5': array([[ 9.12112e-01, -1.41399e-03, -3.55214e-01],\n",
       "        [ 9.12389e-01,  1.02865e-02, -3.55210e-01],\n",
       "        [ 9.12557e-01,  2.19868e-02, -3.55206e-01],\n",
       "        ...,\n",
       "        [ 8.84740e-01,  5.78906e+00,  5.90073e+00],\n",
       "        [ 8.84614e-01,  5.80076e+00,  5.90073e+00],\n",
       "        [ 8.84582e-01,  5.81246e+00,  5.90073e+00]], dtype=float32),\n",
       " '6': array([[ 9.64867e-01, -1.32116e-03, -3.55164e-01],\n",
       "        [ 9.65456e-01,  1.03799e-02, -3.55160e-01],\n",
       "        [ 9.65978e-01,  2.20808e-02, -3.55156e-01],\n",
       "        ...,\n",
       "        [ 9.41742e-01,  5.78897e+00,  5.90078e+00],\n",
       "        [ 9.41885e-01,  5.80067e+00,  5.90078e+00],\n",
       "        [ 9.42043e-01,  5.81237e+00,  5.90078e+00]], dtype=float32),\n",
       " '7': array([[ 9.86943e-01, -1.28231e-03, -3.55143e-01],\n",
       "        [ 9.86875e-01,  1.04176e-02, -3.55140e-01],\n",
       "        [ 9.86795e-01,  2.21175e-02, -3.55136e-01],\n",
       "        ...,\n",
       "        [ 9.61200e-01,  5.78895e+00,  5.90079e+00],\n",
       "        [ 9.61194e-01,  5.80065e+00,  5.90079e+00],\n",
       "        [ 9.61177e-01,  5.81235e+00,  5.90079e+00]], dtype=float32),\n",
       " '8': array([[ 1.01094e+00, -1.24008e-03, -3.55120e-01],\n",
       "        [ 1.01088e+00,  1.04598e-02, -3.55117e-01],\n",
       "        [ 1.01080e+00,  2.21597e-02, -3.55114e-01],\n",
       "        ...,\n",
       "        [ 9.84837e-01,  5.78891e+00,  5.90081e+00],\n",
       "        [ 9.84699e-01,  5.80061e+00,  5.90081e+00],\n",
       "        [ 9.84601e-01,  5.81231e+00,  5.90081e+00]], dtype=float32),\n",
       " '9': array([[ 1.03945e+00, -1.18992e-03, -3.55094e-01],\n",
       "        [ 1.03938e+00,  1.05100e-02, -3.55090e-01],\n",
       "        [ 1.03931e+00,  2.22099e-02, -3.55087e-01],\n",
       "        ...,\n",
       "        [ 1.01819e+00,  5.78886e+00,  5.90084e+00],\n",
       "        [ 1.01816e+00,  5.80056e+00,  5.90084e+00],\n",
       "        [ 1.01818e+00,  5.81226e+00,  5.90084e+00]], dtype=float32)}"
      ]
     },
     "execution_count": 5,
     "metadata": {},
     "output_type": "execute_result"
    }
   ],
   "source": [
    "import os\n",
    "\n",
    "deformed_layer_pnt_filename = 'deformed_layer_points.csv';\n",
    "# each patient having dict of label as a key & a list of points as a value\n",
    "deformed_layer_points_per_pid = dict()\n",
    "\n",
    "for number, pid in enumerate(pids):\n",
    "    if number not in pid_index_range: continue\n",
    "    print('Number ', number, ' pid ', pid)\n",
    "    filenames = []\n",
    "    for atlas_subfolder in atlas_subfolders:\n",
    "        filename = '/'.join([pid, atlas_subfolder, deformed_layer_pnt_filename])\n",
    "        filename = os.path.join(main_folder, filename)\n",
    "        filenames.append(filename)\n",
    "    deformed_layer_points_per_pid[pid] = rlp.get_atlas_layer_points(filenames)\n",
    "    \n",
    "deformed_layer_points_per_pid[pids[pid_index_range[0]]]"
   ]
  },
  {
   "cell_type": "code",
   "execution_count": 6,
   "metadata": {},
   "outputs": [
    {
     "name": "stdout",
     "output_type": "stream",
     "text": [
      "Data shape:  (2031616, 3)  number of points:  2031616\n",
      "Data shape:  (2031616, 3)  number of points:  2031616\n"
     ]
    }
   ],
   "source": [
    "for pid, atlas_layer_points in deformed_layer_points_per_pid.items(): \n",
    "    print('Data shape: ', atlas_layer_points['1'].shape, ' number of points: ', 512*128*len(atlas_subfolders))"
   ]
  },
  {
   "cell_type": "code",
   "execution_count": 7,
   "metadata": {},
   "outputs": [
    {
     "name": "stdout",
     "output_type": "stream",
     "text": [
      "\n",
      "-----------------PID: P1092977057, Label:2----------------------\n"
     ]
    },
    {
     "ename": "NameError",
     "evalue": "name 'np' is not defined",
     "output_type": "error",
     "traceback": [
      "\u001b[0;31m---------------------------------------------------------------------------\u001b[0m",
      "\u001b[0;31mNameError\u001b[0m                                 Traceback (most recent call last)",
      "\u001b[0;32m<ipython-input-7-91aaef626189>\u001b[0m in \u001b[0;36m<module>\u001b[0;34m()\u001b[0m\n\u001b[1;32m     25\u001b[0m         \u001b[0;31m# set up hyperparameter selection\u001b[0m\u001b[0;34m\u001b[0m\u001b[0;34m\u001b[0m\u001b[0m\n\u001b[1;32m     26\u001b[0m         param_grid = {\"alpha\": [1e0, 1e-1, 1e-2, 1e-3],\n\u001b[0;32m---> 27\u001b[0;31m                       \"kernel\": [Matern(length_scale=l, nu=2.5) for l in np.logspace(-3, 0, 20)]}\n\u001b[0m\u001b[1;32m     28\u001b[0m         kr = GridSearchCV(KernelRidge(), cv=5, param_grid=param_grid, n_jobs=-1, \n\u001b[1;32m     29\u001b[0m                   verbose=100, return_train_score=False)\n",
      "\u001b[0;31mNameError\u001b[0m: name 'np' is not defined"
     ]
    }
   ],
   "source": [
    "import time\n",
    "import numpy as np\n",
    "\n",
    "from sklearn.externals import joblib\n",
    "from sklearn.kernel_ridge import KernelRidge\n",
    "from sklearn.model_selection import GridSearchCV\n",
    "from sklearn.gaussian_process.kernels import Matern\n",
    "\n",
    "number_of_train_files = 26 # having 5 for testing\n",
    "number_of_points_per_file = 512*128\n",
    "\n",
    "# fit the kernel for each reference image, i.e., ref pid\n",
    "for pid, atlas_layer_points in deformed_layer_points_per_pid.items(): \n",
    "    \n",
    "    logfilename = os.path.join(main_folder, pid, 'kernel_estimate_log.txt')\n",
    "    \n",
    "    # fit the kernel to each layer boundary\n",
    "    for label, layer_points in atlas_layer_points.items():\n",
    "        print('\\n-----------------PID: {}, Label:{}----------------------'.format(pid, label))\n",
    "        X_train = layer_points[:26*number_of_points_per_file, 1:]\n",
    "        y_train = layer_points[:26*number_of_points_per_file, 0]\n",
    "        \n",
    "        X_test = layer_points[26*number_of_points_per_file:, 1:]\n",
    "        y_test = layer_points[26*number_of_points_per_file:, 0]\n",
    "        \n",
    "        # set up hyperparameter selection \n",
    "        param_grid = {\"alpha\": [1e0, 1e-1, 1e-2, 1e-3],\n",
    "                      \"kernel\": [Matern(length_scale=l, nu=2.5) for l in np.logspace(-3, 0, 20)]}\n",
    "        kr = GridSearchCV(KernelRidge(), cv=5, param_grid=param_grid, n_jobs=-1, \n",
    "                  verbose=100, return_train_score=False)\n",
    "        \n",
    "        # fit kernel to data \n",
    "        t0 = time.time()\n",
    "        kr.fit(X_train, y_train)\n",
    "        fit_time = time.time() - t0\n",
    "        #print('KRR complexity and bandwidth selected and model fitted in %.3f s' % (time.time() - t0))\n",
    "        \n",
    "        #save the fitted kernel \n",
    "        filename = 'matern_kernel_label{}.pkl'.format(label)\n",
    "        filename = os.path.join(main_folder, pid, filename)\n",
    "        joblib.dump(kr, filename)  # to load, kr = joblib.load(filename) \n",
    "        \n",
    "        # accuracy on test data\n",
    "        accuracy_on_test_data = kr.score(X_test, y_test)\n",
    "        \n",
    "        log_info = ('PID: %s, Label: %s\\n' % (pid, label)) +\\\n",
    "                   ('\\tBest training score: %.4f\\n' %  kr.best_score_)+\\\n",
    "                   ('\\tBest test score: %.4f\\n' % accuracy_on_test_data)+\\\n",
    "                   ('\\tBest kernel: %s\\n' %  kr.best_estimator_.kernel)+\\\n",
    "                    ('\\tBest length scale: %.4f\\n' %  kr.best_estimator_.length_scale)+\\\n",
    "                   '\\tBest length scale bound: {}\\n'.format(kr.best_estimator_.length_scale_bounds)\n",
    "                \n",
    "        with open(logfilename, mode='a', encoding='utf-8') as afile:\n",
    "            afile.write(log_info)\n",
    "        \n",
    "        "
   ]
  },
  {
   "cell_type": "code",
   "execution_count": null,
   "metadata": {},
   "outputs": [],
   "source": []
  },
  {
   "cell_type": "code",
   "execution_count": null,
   "metadata": {},
   "outputs": [],
   "source": []
  },
  {
   "cell_type": "code",
   "execution_count": null,
   "metadata": {},
   "outputs": [],
   "source": []
  },
  {
   "cell_type": "code",
   "execution_count": null,
   "metadata": {},
   "outputs": [],
   "source": []
  },
  {
   "cell_type": "code",
   "execution_count": null,
   "metadata": {},
   "outputs": [],
   "source": []
  }
 ],
 "metadata": {
  "anaconda-cloud": {},
  "kernelspec": {
   "display_name": "Python 3",
   "language": "python",
   "name": "python3"
  },
  "language_info": {
   "codemirror_mode": {
    "name": "ipython",
    "version": 3
   },
   "file_extension": ".py",
   "mimetype": "text/x-python",
   "name": "python",
   "nbconvert_exporter": "python",
   "pygments_lexer": "ipython3",
   "version": "3.5.4"
  }
 },
 "nbformat": 4,
 "nbformat_minor": 2
}
