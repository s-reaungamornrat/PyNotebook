{
 "cells": [
  {
   "cell_type": "code",
   "execution_count": 1,
   "metadata": {
    "collapsed": true,
    "deletable": true,
    "editable": true
   },
   "outputs": [],
   "source": [
    "import matplotlib.pyplot as plt\n",
    "import numpy as np"
   ]
  },
  {
   "cell_type": "code",
   "execution_count": 2,
   "metadata": {
    "collapsed": false,
    "deletable": true,
    "editable": true
   },
   "outputs": [],
   "source": [
    "#generate data\n",
    "rng = np.random.RandomState(0)\n",
    "X= 5*rng.rand(10000, 1)\n",
    "y = np.sin(X).ravel()\n",
    "\n",
    "#add noise to every 5th element [start:end:step]\n",
    "y[::5] +=3 *(0.5-rng.rand(X.shape[0] // 5))\n",
    "\n",
    "#data to be model\n",
    "X_plot = np.linspace(0,5,1000000)[:, None]"
   ]
  },
  {
   "cell_type": "code",
   "execution_count": 35,
   "metadata": {
    "collapsed": false,
    "deletable": true,
    "editable": true
   },
   "outputs": [],
   "source": [
    "from sklearn.kernel_ridge import KernelRidge\n",
    "from sklearn.model_selection import GridSearchCV\n",
    "from sklearn.gaussian_process.kernels import Matern\n",
    "\n",
    "#fit regression\n",
    "param_grid = {\"alpha\": [1e0, 1e-1, 1e-2, 1e-3],\n",
    "              \"kernel\": [Matern(length_scale=l, nu=2.5) for l in np.logspace(-2, 2, 5)]}\n",
    "kr = GridSearchCV(KernelRidge(), cv=5, param_grid=param_grid, n_jobs=-1, \n",
    "                  verbose=100, return_train_score=False)"
   ]
  },
  {
   "cell_type": "code",
   "execution_count": 36,
   "metadata": {
    "collapsed": false,
    "deletable": true,
    "editable": true
   },
   "outputs": [
    {
     "name": "stdout",
     "output_type": "stream",
     "text": [
      "Fitting 5 folds for each of 20 candidates, totalling 100 fits\n",
      "Pickling array (shape=(100, 1), dtype=float64).\n",
      "Pickling array (shape=(100,), dtype=float64).\n",
      "Pickling array (shape=(80,), dtype=int32).\n",
      "Pickling array (shape=(20,), dtype=int32).\n",
      "Pickling array (shape=(100, 1), dtype=float64).\n",
      "Pickling array (shape=(100,), dtype=float64).\n",
      "Pickling array (shape=(80,), dtype=int32).\n",
      "Pickling array (shape=(20,), dtype=int32).\n",
      "Pickling array (shape=(100, 1), dtype=float64).\n",
      "Pickling array (shape=(100,), dtype=float64).\n",
      "Pickling array (shape=(80,), dtype=int32).\n",
      "Pickling array (shape=(20,), dtype=int32).\n",
      "Pickling array (shape=(100, 1), dtype=float64).\n",
      "Pickling array (shape=(100,), dtype=float64).\n",
      "Pickling array (shape=(80,), dtype=int32).\n",
      "Pickling array (shape=(20,), dtype=int32).\n",
      "Pickling array (shape=(100, 1), dtype=float64).\n",
      "Pickling array (shape=(100,), dtype=float64).\n",
      "Pickling array (shape=(80,), dtype=int32).\n",
      "Pickling array (shape=(20,), dtype=int32).\n",
      "[Parallel(n_jobs=-1)]: Done   1 tasks      | elapsed:    1.4s\n",
      "Pickling array (shape=(100, 1), dtype=float64).\n",
      "Pickling array (shape=(100,), dtype=float64).\n",
      "Pickling array (shape=(80,), dtype=int32).\n",
      "Pickling array (shape=(20,), dtype=int32).\n",
      "[Parallel(n_jobs=-1)]: Done   2 tasks      | elapsed:    1.7s\n",
      "Pickling array (shape=(100, 1), dtype=float64).\n",
      "Pickling array (shape=(100,), dtype=float64).\n",
      "Pickling array (shape=(80,), dtype=int32).\n",
      "Pickling array (shape=(20,), dtype=int32).\n",
      "[Parallel(n_jobs=-1)]: Done   3 tasks      | elapsed:    2.0s\n",
      "Pickling array (shape=(100, 1), dtype=float64).\n",
      "Pickling array (shape=(100,), dtype=float64).\n",
      "Pickling array (shape=(80,), dtype=int32).\n",
      "Pickling array (shape=(20,), dtype=int32).\n",
      "Pickling array (shape=(100, 1), dtype=float64).\n",
      "Pickling array (shape=(100,), dtype=float64).\n",
      "Pickling array (shape=(80,), dtype=int32).\n",
      "Pickling array (shape=(20,), dtype=int32).\n",
      "Pickling array (shape=(100, 1), dtype=float64).\n",
      "Pickling array (shape=(100,), dtype=float64).\n",
      "Pickling array (shape=(80,), dtype=int32).\n",
      "Pickling array (shape=(20,), dtype=int32).\n",
      "[Parallel(n_jobs=-1)]: Done   4 tasks      | elapsed:    2.4s\n",
      "Pickling array (shape=(100, 1), dtype=float64).\n",
      "[Parallel(n_jobs=-1)]: Done   5 tasks      | elapsed:    2.4s\n",
      "Pickling array (shape=(100,), dtype=float64).[Parallel(n_jobs=-1)]: Done   6 tasks      | elapsed:    2.4s\n",
      "\n",
      "[Parallel(n_jobs=-1)]: Done   7 tasks      | elapsed:    2.4s\n",
      "Pickling array (shape=(80,), dtype=int32).[Parallel(n_jobs=-1)]: Done   8 tasks      | elapsed:    2.4s\n",
      "\n",
      "Pickling array (shape=(20,), dtype=int32).\n",
      "[Parallel(n_jobs=-1)]: Done   9 tasks      | elapsed:    2.4s\n",
      "Pickling array (shape=(100, 1), dtype=float64).[Parallel(n_jobs=-1)]: Done  10 tasks      | elapsed:    2.4s\n",
      "\n",
      "[Parallel(n_jobs=-1)]: Done  11 tasks      | elapsed:    2.4s\n",
      "Pickling array (shape=(100,), dtype=float64).\n",
      "Pickling array (shape=(80,), dtype=int32).\n",
      "Pickling array (shape=(20,), dtype=int32).\n",
      "Pickling array (shape=(100, 1), dtype=float64).[Parallel(n_jobs=-1)]: Done  12 tasks      | elapsed:    2.4s\n",
      "\n",
      "Pickling array (shape=(100,), dtype=float64).\n",
      "[Parallel(n_jobs=-1)]: Done  13 tasks      | elapsed:    2.4s\n",
      "Pickling array (shape=(80,), dtype=int32).\n",
      "Pickling array (shape=(20,), dtype=int32).\n",
      "Pickling array (shape=(100, 1), dtype=float64).\n",
      "Pickling array (shape=(100,), dtype=float64).\n",
      "[Parallel(n_jobs=-1)]: Done  14 tasks      | elapsed:    2.4s\n",
      "Pickling array (shape=(80,), dtype=int32).[Parallel(n_jobs=-1)]: Done  15 tasks      | elapsed:    2.4s\n",
      "\n",
      "[Parallel(n_jobs=-1)]: Done  16 tasks      | elapsed:    2.4s\n",
      "Pickling array (shape=(20,), dtype=int32).[Parallel(n_jobs=-1)]: Done  17 tasks      | elapsed:    2.4s\n",
      "\n",
      "[Parallel(n_jobs=-1)]: Done  18 tasks      | elapsed:    2.4s\n",
      "Pickling array (shape=(100, 1), dtype=float64).[Parallel(n_jobs=-1)]: Done  19 tasks      | elapsed:    2.4s\n",
      "\n",
      "[Parallel(n_jobs=-1)]: Done  20 tasks      | elapsed:    2.4s\n",
      "Pickling array (shape=(100,), dtype=float64).[Parallel(n_jobs=-1)]: Done  21 tasks      | elapsed:    2.4s\n",
      "\n",
      "[Parallel(n_jobs=-1)]: Batch computation too fast (0.1622s.) Setting batch_size=2.\n",
      "Pickling array (shape=(80,), dtype=int32).[Parallel(n_jobs=-1)]: Done  22 tasks      | elapsed:    2.4s\n",
      "\n",
      "[Parallel(n_jobs=-1)]: Done  23 tasks      | elapsed:    2.4s\n",
      "Pickling array (shape=(20,), dtype=int32).[Parallel(n_jobs=-1)]: Done  24 tasks      | elapsed:    2.4s\n",
      "\n",
      "[Parallel(n_jobs=-1)]: Done  25 tasks      | elapsed:    2.4s\n",
      "Pickling array (shape=(100, 1), dtype=float64).[Parallel(n_jobs=-1)]: Done  26 tasks      | elapsed:    2.4s\n",
      "\n",
      "[Parallel(n_jobs=-1)]: Done  27 tasks      | elapsed:    2.4s\n",
      "Pickling array (shape=(100,), dtype=float64).[Parallel(n_jobs=-1)]: Done  28 tasks      | elapsed:    2.4s\n",
      "\n",
      "Pickling array (shape=(80,), dtype=int32).\n",
      "Pickling array (shape=(20,), dtype=int32).\n",
      "Pickling array (shape=(100, 1), dtype=float64).\n",
      "Pickling array (shape=(100,), dtype=float64).\n",
      "Pickling array (shape=(80,), dtype=int32).\n",
      "Pickling array (shape=(20,), dtype=int32).\n",
      "Pickling array (shape=(100, 1), dtype=float64).\n",
      "Pickling array (shape=(100,), dtype=float64).\n",
      "Pickling array (shape=(80,), dtype=int32).\n",
      "Pickling array (shape=(20,), dtype=int32).\n",
      "Pickling array (shape=(100, 1), dtype=float64).\n",
      "Pickling array (shape=(100,), dtype=float64).\n",
      "Pickling array (shape=(80,), dtype=int32).\n",
      "Pickling array (shape=(20,), dtype=int32).\n",
      "Pickling array (shape=(100, 1), dtype=float64).\n",
      "Pickling array (shape=(100,), dtype=float64).\n",
      "Pickling array (shape=(80,), dtype=int32).\n",
      "Pickling array (shape=(20,), dtype=int32).\n",
      "Pickling array (shape=(100, 1), dtype=float64).\n",
      "Pickling array (shape=(100,), dtype=float64).\n",
      "Pickling array (shape=(80,), dtype=int32).\n",
      "Pickling array (shape=(20,), dtype=int32).\n",
      "Pickling array (shape=(100, 1), dtype=float64).\n",
      "Pickling array (shape=(100,), dtype=float64).\n",
      "Pickling array (shape=(80,), dtype=int32).\n",
      "Pickling array (shape=(20,), dtype=int32).\n",
      "Pickling array (shape=(100, 1), dtype=float64).\n",
      "Pickling array (shape=(100,), dtype=float64).\n",
      "Pickling array (shape=(80,), dtype=int32).\n",
      "[Parallel(n_jobs=-1)]: Done  30 tasks      | elapsed:    2.4s\n",
      "Pickling array (shape=(20,), dtype=int32).[Parallel(n_jobs=-1)]: Batch computation too fast (0.0184s.) Setting batch_size=42.\n",
      "\n",
      "[Parallel(n_jobs=-1)]: Done  32 tasks      | elapsed:    2.4s\n",
      "Pickling array (shape=(100, 1), dtype=float64).[Parallel(n_jobs=-1)]: Done  34 tasks      | elapsed:    2.4s\n",
      "\n",
      "Pickling array (shape=(100,), dtype=float64).\n",
      "Pickling array (shape=(80,), dtype=int32).\n",
      "Pickling array (shape=(20,), dtype=int32).\n",
      "Pickling array (shape=(100, 1), dtype=float64).\n",
      "Pickling array (shape=(100,), dtype=float64).\n",
      "Pickling array (shape=(80,), dtype=int32).\n",
      "Pickling array (shape=(20,), dtype=int32).\n",
      "Pickling array (shape=(100, 1), dtype=float64).\n",
      "Pickling array (shape=(100,), dtype=float64).\n",
      "Pickling array (shape=(80,), dtype=int32).\n",
      "Pickling array (shape=(20,), dtype=int32).\n",
      "Pickling array (shape=(100, 1), dtype=float64).\n",
      "Pickling array (shape=(100,), dtype=float64).\n",
      "Pickling array (shape=(80,), dtype=int32).\n",
      "Pickling array (shape=(20,), dtype=int32).\n",
      "Pickling array (shape=(100, 1), dtype=float64).\n",
      "Pickling array (shape=(100,), dtype=float64).\n",
      "Pickling array (shape=(80,), dtype=int32).\n",
      "Pickling array (shape=(20,), dtype=int32).\n",
      "Pickling array (shape=(100, 1), dtype=float64).\n",
      "Pickling array (shape=(100,), dtype=float64).\n",
      "Pickling array (shape=(80,), dtype=int32).\n",
      "Pickling array (shape=(20,), dtype=int32).\n",
      "Pickling array (shape=(80,), dtype=int32).\n",
      "Pickling array (shape=(20,), dtype=int32).\n",
      "Pickling array (shape=(100, 1), dtype=float64).\n",
      "Pickling array (shape=(100,), dtype=float64).\n",
      "Pickling array (shape=(80,), dtype=int32).\n",
      "Pickling array (shape=(20,), dtype=int32).\n",
      "Pickling array (shape=(80,), dtype=int32).\n",
      "Pickling array (shape=(20,), dtype=int32).\n",
      "Pickling array (shape=(100, 1), dtype=float64).\n",
      "Pickling array (shape=(100,), dtype=float64).\n",
      "Pickling array (shape=(80,), dtype=int32).\n",
      "Pickling array (shape=(20,), dtype=int32).\n",
      "Pickling array (shape=(80,), dtype=int32).\n",
      "Pickling array (shape=(20,), dtype=int32).\n",
      "Pickling array (shape=(100, 1), dtype=float64).\n",
      "Pickling array (shape=(100,), dtype=float64).\n",
      "Pickling array (shape=(80,), dtype=int32).\n",
      "Pickling array (shape=(20,), dtype=int32).\n",
      "Pickling array (shape=(80,), dtype=int32).\n",
      "Pickling array (shape=(20,), dtype=int32).\n",
      "Pickling array (shape=(100, 1), dtype=float64).\n",
      "Pickling array (shape=(100,), dtype=float64).\n",
      "Pickling array (shape=(80,), dtype=int32).\n",
      "Pickling array (shape=(20,), dtype=int32).\n",
      "Pickling array (shape=(80,), dtype=int32).\n",
      "Pickling array (shape=(20,), dtype=int32).\n",
      "Pickling array (shape=(100, 1), dtype=float64).\n",
      "Pickling array (shape=(100,), dtype=float64).\n",
      "Pickling array (shape=(80,), dtype=int32).\n",
      "Pickling array (shape=(20,), dtype=int32).\n",
      "Pickling array (shape=(80,), dtype=int32).\n",
      "Pickling array (shape=(20,), dtype=int32).\n",
      "Pickling array (shape=(100, 1), dtype=float64).\n",
      "Pickling array (shape=(100,), dtype=float64).\n",
      "Pickling array (shape=(80,), dtype=int32).\n",
      "Pickling array (shape=(20,), dtype=int32).\n",
      "Pickling array (shape=(80,), dtype=int32).\n",
      "Pickling array (shape=(20,), dtype=int32).\n",
      "Pickling array (shape=(100, 1), dtype=float64).\n",
      "Pickling array (shape=(100,), dtype=float64).\n",
      "Pickling array (shape=(80,), dtype=int32).\n",
      "Pickling array (shape=(20,), dtype=int32).\n",
      "Pickling array (shape=(80,), dtype=int32).\n",
      "Pickling array (shape=(20,), dtype=int32).\n",
      "Pickling array (shape=(100, 1), dtype=float64).\n",
      "Pickling array (shape=(100,), dtype=float64).\n",
      "Pickling array (shape=(80,), dtype=int32).\n",
      "Pickling array (shape=(20,), dtype=int32).\n",
      "Pickling array (shape=(80,), dtype=int32).\n",
      "Pickling array (shape=(20,), dtype=int32).\n",
      "Pickling array (shape=(80,), dtype=int32).\n",
      "Pickling array (shape=(20,), dtype=int32).\n",
      "Pickling array (shape=(80,), dtype=int32).\n",
      "Pickling array (shape=(20,), dtype=int32).\n",
      "Pickling array (shape=(80,), dtype=int32).\n",
      "Pickling array (shape=(20,), dtype=int32).\n",
      "Pickling array (shape=(100, 1), dtype=float64).\n",
      "Pickling array (shape=(100,), dtype=float64).\n",
      "Pickling array (shape=(80,), dtype=int32).\n",
      "Pickling array (shape=(20,), dtype=int32).\n",
      "Pickling array (shape=(80,), dtype=int32).\n",
      "Pickling array (shape=(20,), dtype=int32).\n",
      "Pickling array (shape=(80,), dtype=int32).\n",
      "Pickling array (shape=(20,), dtype=int32).\n",
      "Pickling array (shape=(80,), dtype=int32).\n",
      "Pickling array (shape=(20,), dtype=int32).\n",
      "Pickling array (shape=(80,), dtype=int32).\n",
      "Pickling array (shape=(20,), dtype=int32).\n",
      "[Parallel(n_jobs=-1)]: Done 100 out of 100 | elapsed:    2.5s finished\n",
      "KRR complexity and bandwidth selected and model fitted in 3.035 s\n"
     ]
    }
   ],
   "source": [
    "import time\n",
    "from sklearn.externals import joblib\n",
    "\n",
    "train_size = 100\n",
    "t0 = time.time()\n",
    "kr.fit(X[:train_size], y[:train_size])\n",
    "joblib.dump(kr, 'kernel_ridge_test.pkl')\n",
    "\n",
    "kr_fit = time.time() - t0\n",
    "print(\"KRR complexity and bandwidth selected and model fitted in %.3f s\" \n",
    "      % kr_fit)"
   ]
  },
  {
   "cell_type": "code",
   "execution_count": 37,
   "metadata": {
    "collapsed": false,
    "deletable": true,
    "editable": true
   },
   "outputs": [
    {
     "name": "stdout",
     "output_type": "stream",
     "text": [
      "KRR prediction for 1000000 inputs in 14.530 s\n"
     ]
    }
   ],
   "source": [
    "#predict\n",
    "t0 = time.time()\n",
    "y_kr = kr.predict(X_plot)\n",
    "kr_predict = time.time() - t0\n",
    "print(\"KRR prediction for %d inputs in %.3f s\" \n",
    "      % (X_plot.shape[0], kr_predict))"
   ]
  },
  {
   "cell_type": "code",
   "execution_count": 38,
   "metadata": {
    "collapsed": false,
    "deletable": true,
    "editable": true
   },
   "outputs": [
    {
     "data": {
      "text/plain": [
       "<matplotlib.figure.Figure at 0x22f02793320>"
      ]
     },
     "execution_count": 38,
     "metadata": {},
     "output_type": "execute_result"
    },
    {
     "data": {
      "image/png": "[encoded data removed]",
      "text/plain": [
       "<matplotlib.figure.Figure at 0x22f4a0c29e8>"
      ]
     },
     "metadata": {},
     "output_type": "display_data"
    },
    {
     "data": {
      "text/plain": [
       "<matplotlib.figure.Figure at 0x22f02793320>"
      ]
     },
     "metadata": {},
     "output_type": "display_data"
    }
   ],
   "source": [
    "%matplotlib inline\n",
    "\n",
    "# Look at the results\n",
    "plt.scatter(X[:100], y[:100], c='k', label='data', zorder=1,\n",
    "            edgecolors=(0, 0, 0))\n",
    "plt.plot(X_plot, y_kr, c='g',\n",
    "         label='KRR (fit: %.3fs, predict: %.3fs)' % (kr_fit, kr_predict))\n",
    "plt.xlabel('data')\n",
    "plt.ylabel('target')\n",
    "plt.title('Kernel Ridge')\n",
    "plt.legend()\n",
    "\n",
    "# Visualize training and prediction time\n",
    "plt.figure()\n"
   ]
  },
  {
   "cell_type": "code",
   "execution_count": 4,
   "metadata": {
    "collapsed": false,
    "deletable": true,
    "editable": true
   },
   "outputs": [
    {
     "name": "stdout",
     "output_type": "stream",
     "text": [
      "KRR prediction for 1000000 inputs in 6.222 s\n"
     ]
    },
    {
     "data": {
      "text/plain": [
       "<matplotlib.figure.Figure at 0x26b0003abe0>"
      ]
     },
     "execution_count": 4,
     "metadata": {},
     "output_type": "execute_result"
    },
    {
     "data": {
      "image/png": "[encoded data removed]",
      "text/plain": [
       "<matplotlib.figure.Figure at 0x26b70b66748>"
      ]
     },
     "metadata": {},
     "output_type": "display_data"
    },
    {
     "data": {
      "text/plain": [
       "<matplotlib.figure.Figure at 0x26b0003abe0>"
      ]
     },
     "metadata": {},
     "output_type": "display_data"
    }
   ],
   "source": [
    "import time\n",
    "\n",
    "from sklearn.externals import joblib\n",
    "from sklearn.kernel_ridge import KernelRidge\n",
    "from sklearn.model_selection import GridSearchCV\n",
    "from sklearn.gaussian_process.kernels import Matern\n",
    "\n",
    "%matplotlib inline\n",
    "\n",
    "kr = joblib.load('kernel_ridge_test.pkl')\n",
    "\n",
    "#predict\n",
    "t0 = time.time()\n",
    "y_kr = kr.predict(X_plot)\n",
    "kr_predict = time.time() - t0\n",
    "print(\"KRR prediction for %d inputs in %.3f s\" \n",
    "      % (X_plot.shape[0], kr_predict))\n",
    "\n",
    "\n",
    "# Look at the results\n",
    "plt.scatter(X[:100], y[:100], c='k', label='data', zorder=1,\n",
    "            edgecolors=(0, 0, 0))\n",
    "plt.plot(X_plot, y_kr, c='g',\n",
    "         label='KRR (predict: %.3fs)' % (kr_predict))\n",
    "plt.xlabel('data')\n",
    "plt.ylabel('target')\n",
    "plt.title('Kernel Ridge')\n",
    "plt.legend()\n",
    "\n",
    "# Visualize training and prediction time\n",
    "plt.figure()"
   ]
  }
 ],
 "metadata": {
  "anaconda-cloud": {},
  "kernelspec": {
   "display_name": "Python [conda env:aind-dl]",
   "language": "python",
   "name": "conda-env-aind-dl-py"
  },
  "language_info": {
   "codemirror_mode": {
    "name": "ipython",
    "version": 3
   },
   "file_extension": ".py",
   "mimetype": "text/x-python",
   "name": "python",
   "nbconvert_exporter": "python",
   "pygments_lexer": "ipython3",
   "version": "3.5.3"
  }
 },
 "nbformat": 4,
 "nbformat_minor": 2
}
