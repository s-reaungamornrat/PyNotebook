{
 "cells": [
  {
   "cell_type": "code",
   "execution_count": 1,
   "metadata": {},
   "outputs": [],
   "source": [
    "import os\n",
    "import itk"
   ]
  },
  {
   "cell_type": "code",
   "execution_count": 2,
   "metadata": {
    "collapsed": true
   },
   "outputs": [],
   "source": [
    "data_folder = 'C:/D/dev/data/20180612_cancer_archive'"
   ]
  },
  {
   "cell_type": "code",
   "execution_count": 10,
   "metadata": {},
   "outputs": [
    {
     "name": "stdout",
     "output_type": "stream",
     "text": [
      "Dicom folders  ['C:/D/dev/data/20180612_cancer_archive\\\\TCGA-LIHC\\\\TCGA-BC-4073\\\\02-21-2000-MRI ABD WWO CONT-85289\\\\11-t1vibeqfstrap2bhFIL-66461', 'C:/D/dev/data/20180612_cancer_archive\\\\TCGA-LIHC\\\\TCGA-BC-4073\\\\02-21-2000-MRI ABD WWO CONT-85289\\\\13-t1vibeqfstrap2bhFIL-72776', 'C:/D/dev/data/20180612_cancer_archive\\\\TCGA-LIHC\\\\TCGA-BC-4073\\\\02-21-2000-MRI ABD WWO CONT-85289\\\\7-t1vibetrap2bhdixonWFIL-62282', 'C:/D/dev/data/20180612_cancer_archive\\\\TCGA-LIHC\\\\TCGA-BC-4073\\\\05-08-1998-MRI ABD WWO CONT-52593\\\\9-VIBEAXIALP-97931']\n"
     ]
    }
   ],
   "source": [
    "dicom_folders = []\n",
    "for root, dirs, files in os.walk(data_folder):\n",
    "#     print('Root ', root)\n",
    "#     print('Dirs ', dirs)\n",
    "#     print('Files ', files)\n",
    "    if not dirs and len(files) > 0:\n",
    "        dicom_folders.append(root)\n",
    "print('Dicom folders ',dicom_folders)"
   ]
  },
  {
   "cell_type": "code",
   "execution_count": 13,
   "metadata": {},
   "outputs": [],
   "source": [
    "def dicom_to_mhd(directory, output_filename):\n",
    "    ImageType = itk.Image[itk.F, 3]\n",
    "\n",
    "    #set up reader\n",
    "    reader = itk.ImageSeriesReader[ImageType].New()\n",
    "    dicomIO = itk.GDCMImageIO.New()\n",
    "    dicomFN = itk.GDCMSeriesFileNames.New()\n",
    "    reader.SetImageIO(dicomIO)\n",
    "\n",
    "    #get file names\n",
    "    dicomFN.SetUseSeriesDetails(True)\n",
    "    dicomFN.SetDirectory(directory)\n",
    "\n",
    "    #get the first image series\n",
    "    uids = dicomFN.GetSeriesUIDs()\n",
    "    fnames = dicomFN.GetFileNames(uids[0])\n",
    "\n",
    "    #read in the files\n",
    "    reader.SetFileNames(fnames)\n",
    "    reader.Update()\n",
    "\n",
    "    #save .mhd file\n",
    "    writer = itk.ImageFileWriter[ImageType].New()\n",
    "    writer.SetInput(reader.GetOutput())\n",
    "    writer.SetFileName(output_filename)\n",
    "    writer.Update()"
   ]
  },
  {
   "cell_type": "code",
   "execution_count": 14,
   "metadata": {},
   "outputs": [
    {
     "name": "stdout",
     "output_type": "stream",
     "text": [
      "C:/D/dev/data/20180612_cancer_archive\\TCGA-LIHC\\TCGA-BC-4073\\02-21-2000-MRI ABD WWO CONT-85289\\11-t1vibeqfstrap2bhFIL-66461\\11-t1vibeqfstrap2bhFIL-66461.mhd\n",
      "C:/D/dev/data/20180612_cancer_archive\\TCGA-LIHC\\TCGA-BC-4073\\02-21-2000-MRI ABD WWO CONT-85289\\13-t1vibeqfstrap2bhFIL-72776\\13-t1vibeqfstrap2bhFIL-72776.mhd\n",
      "C:/D/dev/data/20180612_cancer_archive\\TCGA-LIHC\\TCGA-BC-4073\\02-21-2000-MRI ABD WWO CONT-85289\\7-t1vibetrap2bhdixonWFIL-62282\\7-t1vibetrap2bhdixonWFIL-62282.mhd\n",
      "C:/D/dev/data/20180612_cancer_archive\\TCGA-LIHC\\TCGA-BC-4073\\05-08-1998-MRI ABD WWO CONT-52593\\9-VIBEAXIALP-97931\\9-VIBEAXIALP-97931.mhd\n"
     ]
    }
   ],
   "source": [
    "for folder in dicom_folders:\n",
    "    output_filename = os.path.join(folder, os.path.basename(folder)+'.mhd')\n",
    "    print(output_filename)\n",
    "    dicom_to_mhd(folder, output_filename)\n",
    " "
   ]
  }
 ],
 "metadata": {
  "kernelspec": {
   "display_name": "Python [conda env:data_org]",
   "language": "python",
   "name": "conda-env-data_org-py"
  },
  "language_info": {
   "codemirror_mode": {
    "name": "ipython",
    "version": 3
   },
   "file_extension": ".py",
   "mimetype": "text/x-python",
   "name": "python",
   "nbconvert_exporter": "python",
   "pygments_lexer": "ipython3",
   "version": "3.6.5"
  }
 },
 "nbformat": 4,
 "nbformat_minor": 2
}
