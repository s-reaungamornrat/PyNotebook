{
 "cells": [
  {
   "cell_type": "code",
   "execution_count": 4,
   "metadata": {
    "collapsed": true
   },
   "outputs": [],
   "source": [
    "import os.path\n",
    "import numpy as np\n",
    "import pandas as pd\n",
    "\n",
    "\n",
    "def read_registration_error(rigid_folder, deformable_folder):\n",
    "    \n",
    "    reg_error_df = pd.DataFrame(columns = ['Error', 'Method'])\n",
    "\n",
    "    # read rigid\n",
    "    filename = os.path.join(rigid_folder, 'distance_error.csv')\n",
    "    print(filename)\n",
    "    if os.path.exists(filename):\n",
    "        err = np.genfromtxt(filename, delimiter=',')\n",
    "        method = ['Rigid']*len(err)\n",
    "        s_err = pd.Series(err, name='Error')\n",
    "        s_method = pd.Series(method, name ='Method')\n",
    "        df = pd.concat([s_err, s_method], axis=1)\n",
    "        reg_error_df = reg_error_df.append(df, ignore_index=True)\n",
    "    print(reg_error_df.head(3))\n",
    "    \n",
    "    \n",
    "    # read deformable\n",
    "    filename = os.path.join(deformable_folder, 'distance_error.csv')\n",
    "    print(filename)\n",
    "    if os.path.exists(filename):\n",
    "        err = np.genfromtxt(filename, delimiter=',')\n",
    "        method = ['MIND Demons']*len(err)\n",
    "        s_err = pd.Series(err, name='Error')\n",
    "        s_method = pd.Series(method, name ='Method')\n",
    "        df = pd.concat([s_err, s_method], axis=1)\n",
    "        reg_error_df = reg_error_df.append(df, ignore_index=True)\n",
    "    print(reg_error_df.head(3))\n",
    "    \n",
    "    return reg_error_df\n",
    "        "
   ]
  },
  {
   "cell_type": "code",
   "execution_count": 10,
   "metadata": {},
   "outputs": [],
   "source": [
    "%matplotlib inline\n",
    "import seaborn as sns\n",
    "import matplotlib.pyplot as plt\n",
    "\n",
    "def registration_error_boxplot(reg_error_df, image_folder = None, ystep =0.005,ymin = 0.0, ymax = 0.02, \\\n",
    "                               figw = 5, figh = 6,font_size = 14, width = 0.4):\n",
    "\n",
    "    sns.set('paper', style=\"white\", color_codes=True, font='Arial', font_scale = 1)\n",
    "\n",
    "    fig, ax= plt.subplots(sharey=True, figsize=(figw, figh)) \n",
    "\n",
    "    ax.set(ylim=(ymin, ymax))\n",
    "\n",
    "    flierprops = dict(markerfacecolor='0.75', markersize=2,\n",
    "              linestyle='none')\n",
    "    \n",
    "    #sns.cubehelix_palette(3, start=0.4, rot=-.75)\n",
    "    sns.boxplot(x=\"Method\", y=\"Error\", data=reg_error_df, palette='Blues', width=width,\\\n",
    "                fliersize = 3,flierprops=flierprops, showfliers = True, ax=ax)\n",
    "\n",
    "    ax.set_xlabel('Registration methods', size = font_size,alpha=1.0)\n",
    "    ax.set_yticks(np.arange(ymin, ymax+ystep, ystep))\n",
    "    ax.set_yticklabels(np.arange(ymin, ymax+ystep, ystep)*1000.)\n",
    "    ax.set_ylabel('Registration error (${\\mu}$m)',size = font_size,alpha=1.0)\n",
    "\n",
    "    plt.xticks(rotation=0) \n",
    "    ax.tick_params(labelsize=font_size,labelcolor=\"black\") \n",
    "\n",
    "    for i,artist in enumerate(ax.artists):\n",
    "        cnt = 0\n",
    "        for j in range(i*6,i*6+6):\n",
    "            if cnt == 4:\n",
    "                line = ax.lines[j]\n",
    "                line.set_color('w')\n",
    "            cnt+=1\n",
    "\n",
    "    plt.tight_layout()\n",
    "\n",
    "    if image_folder:\n",
    "        image_file = image_folder+'\\\\registration_error.png';\n",
    "        fig.savefig(image_file, dpi=300)\n",
    "        "
   ]
  },
  {
   "cell_type": "code",
   "execution_count": 14,
   "metadata": {},
   "outputs": [
    {
     "name": "stdout",
     "output_type": "stream",
     "text": [
      "C:\\D\\dev\\data\\20170801_spect_to_cirr_demons\\spect_to_cirr_left_healthy\\distance_error.csv\n",
      "   Error Method\n",
      "0  0.024  Rigid\n",
      "1  0.024  Rigid\n",
      "2  0.020  Rigid\n",
      "C:\\D\\dev\\data\\20170801_spect_to_cirr_demons\\demons_mind\\distance_error.csv\n",
      "   Error Method\n",
      "0  0.024  Rigid\n",
      "1  0.024  Rigid\n",
      "2  0.020  Rigid\n"
     ]
    },
    {
     "data": {
      "image/png": "[encoded data removed]",
      "text/plain": [
       "<matplotlib.figure.Figure at 0x136680e1048>"
      ]
     },
     "metadata": {},
     "output_type": "display_data"
    }
   ],
   "source": [
    "mainfolder = 'C:\\\\D\\\\dev\\\\data\\\\20170801_spect_to_cirr_demons'\n",
    "rigid_folder = '\\\\'.join([mainfolder, 'spect_to_cirr_left_healthy'])\n",
    "deformable_folder = '\\\\'.join([mainfolder, 'demons_mind'])\n",
    "\n",
    "reg_error_df = read_registration_error(rigid_folder, deformable_folder)"
   ]
  },
  {
   "cell_type": "code",
   "execution_count": 3,
   "metadata": {},
   "outputs": [
    {
     "data": {
      "text/plain": [
       "'C:\\\\D\\\\dev\\\\data\\\\20170801_spect_to_cirr_demons\\\\spect_to_cirr_left_healthy'"
      ]
     },
     "execution_count": 3,
     "metadata": {},
     "output_type": "execute_result"
    }
   ],
   "source": [
    "ystep, ymin, ymax =0.005, 0.0, 0.035\n",
    "figw, figh = 3,4\n",
    "font_size = 14\n",
    "width = 0.2\n",
    "registration_error_boxplot(reg_error_df, mainfolder, ystep ,ymin, ymax, figw, figh,font_size, width)"
   ]
  }
 ],
 "metadata": {
  "kernelspec": {
   "display_name": "Python [conda env:aind]",
   "language": "python",
   "name": "conda-env-aind-py"
  },
  "language_info": {
   "codemirror_mode": {
    "name": "ipython",
    "version": 3
   },
   "file_extension": ".py",
   "mimetype": "text/x-python",
   "name": "python",
   "nbconvert_exporter": "python",
   "pygments_lexer": "ipython3",
   "version": "3.6.0"
  }
 },
 "nbformat": 4,
 "nbformat_minor": 2
}
