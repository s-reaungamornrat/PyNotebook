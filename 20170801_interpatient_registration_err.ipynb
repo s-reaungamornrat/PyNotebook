{
 "cells": [
  {
   "cell_type": "code",
   "execution_count": 1,
   "metadata": {
    "collapsed": true,
    "deletable": true,
    "editable": true
   },
   "outputs": [],
   "source": [
    "import os.path\n",
    "import numpy as np\n",
    "import pandas as pd\n",
    "\n",
    "\n",
    "def read_registration_error(rigid_folder, deformable_folder):\n",
    "    \n",
    "    reg_error_df = pd.DataFrame(columns = ['Error', 'Method'])\n",
    "\n",
    "    # read rigid\n",
    "    filename = os.path.join(rigid_folder, 'distance_error.csv')\n",
    "    print(filename)\n",
    "    if os.path.exists(filename):\n",
    "        err = np.genfromtxt(filename, delimiter=',')\n",
    "        method = ['NMI Rigid']*len(err)\n",
    "        s_err = pd.Series(err, name='Error')\n",
    "        s_method = pd.Series(method, name ='Method')\n",
    "        df = pd.concat([s_err, s_method], axis=1)\n",
    "        reg_error_df = reg_error_df.append(df, ignore_index=True)\n",
    "    print(reg_error_df.head(3))\n",
    "    \n",
    "    \n",
    "    # read deformable\n",
    "    filename = os.path.join(deformable_folder, 'distance_error.csv')\n",
    "    print(filename)\n",
    "    if os.path.exists(filename):\n",
    "        err = np.genfromtxt(filename, delimiter=',')\n",
    "        method = ['D-MIND Demons']*len(err)\n",
    "        s_err = pd.Series(err, name='Error')\n",
    "        s_method = pd.Series(method, name ='Method')\n",
    "        df = pd.concat([s_err, s_method], axis=1)\n",
    "        reg_error_df = reg_error_df.append(df, ignore_index=True)\n",
    "    print(reg_error_df.head(3))\n",
    "    \n",
    "    return reg_error_df\n",
    "        "
   ]
  },
  {
   "cell_type": "code",
   "execution_count": 2,
   "metadata": {
    "collapsed": true,
    "deletable": true,
    "editable": true
   },
   "outputs": [],
   "source": [
    "%matplotlib inline\n",
    "import seaborn as sns\n",
    "import matplotlib.pyplot as plt\n",
    "\n",
    "def registration_error_boxplot(reg_error_df, image_folder = None, ystep =0.005,ymin = 0.0, ymax = 0.02, \\\n",
    "                               figw = 5, figh = 6,font_size = 14, width = 0.4):\n",
    "\n",
    "    sns.set('paper', style=\"white\", color_codes=True, font='Arial', font_scale = 1)\n",
    "\n",
    "    fig, ax= plt.subplots(sharey=True, figsize=(figw, figh)) \n",
    "\n",
    "    ax.set(ylim=(ymin, ymax))\n",
    "\n",
    "    flierprops = dict(markerfacecolor='0.75', markersize=2,\n",
    "              linestyle='none')\n",
    "    \n",
    "    #sns.cubehelix_palette(3, start=0.4, rot=-.75)\n",
    "    #palette='Blues'\n",
    "    sns.boxplot(x=\"Method\", y=\"Error\", data=reg_error_df, color=\"white\", palette='Blues',width=width,\\\n",
    "                fliersize = 3,flierprops=flierprops, showfliers = True, ax=ax)\n",
    "\n",
    "    ax.set_xlabel('Registration methods', size = font_size,alpha=1.0)\n",
    "    ax.set_yticks(np.arange(ymin, ymax+ystep, ystep))\n",
    "    ax.set_yticklabels(np.arange(ymin, ymax+ystep, ystep)*1000.)\n",
    "    ax.set_ylabel('Registration error (${\\mu}$m)',size = font_size,alpha=1.0)\n",
    "\n",
    "    plt.xticks(rotation=0) \n",
    "    ax.tick_params(labelsize=font_size,labelcolor=\"black\") \n",
    "\n",
    "    for i,artist in enumerate(ax.artists):\n",
    "        artist.set_facecolor((0.7,0.8,0.9,0.8))#('xkcd:baby blue')\n",
    "        #artist.set_edgecolor('black')\n",
    "        artist.set_linewidth(2)\n",
    "        \n",
    "        cnt = 0\n",
    "        for j in range(i*6,i*6+6):\n",
    "            #line = ax.lines[j]\n",
    "            #line.set_color('k')            \n",
    "            if cnt == 4:\n",
    "                line = ax.lines[j]\n",
    "                line.set_color('w')\n",
    "            cnt+=1\n",
    "\n",
    "    plt.tight_layout()\n",
    "\n",
    "    if image_folder:\n",
    "        image_file = image_folder+'\\\\registration_error.png';\n",
    "        fig.savefig(image_file, dpi=300, transparent=True)\n",
    "        "
   ]
  },
  {
   "cell_type": "code",
   "execution_count": 3,
   "metadata": {
    "collapsed": false,
    "deletable": true,
    "editable": true
   },
   "outputs": [
    {
     "name": "stdout",
     "output_type": "stream",
     "text": [
      "C:\\D\\dev\\data\\20170801_spect_to_cirr_demons\\spect_to_cirr_left_healthy\\distance_error.csv\n",
      "   Error     Method\n",
      "0  0.024  NMI Rigid\n",
      "1  0.024  NMI Rigid\n",
      "2  0.020  NMI Rigid\n",
      "C:\\D\\dev\\data\\20170801_spect_to_cirr_demons\\demons_mind\\distance_error.csv\n",
      "   Error     Method\n",
      "0  0.024  NMI Rigid\n",
      "1  0.024  NMI Rigid\n",
      "2  0.020  NMI Rigid\n"
     ]
    }
   ],
   "source": [
    "mainfolder = 'C:\\\\D\\\\dev\\\\data\\\\20170801_spect_to_cirr_demons'\n",
    "rigid_folder = '\\\\'.join([mainfolder, 'spect_to_cirr_left_healthy'])\n",
    "deformable_folder = '\\\\'.join([mainfolder, 'demons_mind'])\n",
    "\n",
    "reg_error_df = read_registration_error(rigid_folder, deformable_folder)"
   ]
  },
  {
   "cell_type": "code",
   "execution_count": 4,
   "metadata": {
    "collapsed": false,
    "deletable": true,
    "editable": true
   },
   "outputs": [
    {
     "data": {
      "image/png": "[encoded data removed]",
      "text/plain": [
       "<matplotlib.figure.Figure at 0x25198ec43c8>"
      ]
     },
     "metadata": {},
     "output_type": "display_data"
    }
   ],
   "source": [
    "ystep, ymin, ymax =0.005, 0.0, 0.035\n",
    "figw, figh = 4,6\n",
    "font_size = 14\n",
    "width = 0.25\n",
    "registration_error_boxplot(reg_error_df, mainfolder, ystep ,ymin, ymax, figw, figh,font_size, width)"
   ]
  },
  {
   "cell_type": "code",
   "execution_count": 8,
   "metadata": {
    "collapsed": true,
    "deletable": true,
    "editable": true
   },
   "outputs": [],
   "source": [
    "def registration_error_black_boxplot(reg_error_df, image_folder = None, ystep =0.005,ymin = 0.0, ymax = 0.02, \\\n",
    "                               figw = 5, figh = 6,font_size = 14, width = 0.4):\n",
    "\n",
    "    sns.set('paper', style=\"white\", color_codes=True, font='Arial', font_scale = 1)\n",
    "    rc = {'axes.edgecolor': 'white', 'axes.facecolor': 'black', 'axes.labelcolor': 'white','figure.facecolor': 'black'}\n",
    "    sns.axes_style(style='dark', rc=rc)\n",
    "    plt.style.use(\"dark_background\")     \n",
    "\n",
    "    fig, ax= plt.subplots(sharey=True, figsize=(figw, figh)) \n",
    "\n",
    "    ax.set(ylim=(ymin, ymax))\n",
    "\n",
    "    flierprops = dict(markerfacecolor='0.75', markersize=2,\n",
    "              linestyle='none')\n",
    "    \n",
    "    #sns.cubehelix_palette(3, start=0.4, rot=-.75)\n",
    "    #palette='Blues'\n",
    "    light_colors = ['#00fa9a','#ffb6c1']\n",
    "    sns.boxplot(x=\"Method\", y=\"Error\", data=reg_error_df, color=\"white\",\n",
    "                palette=sns.color_palette(light_colors),width=width,\n",
    "                fliersize = 3,flierprops=flierprops, showfliers = True, ax=ax)\n",
    "\n",
    "    ax.set_xlabel('Registration methods', size = font_size,alpha=1.0)\n",
    "    ax.set_yticks(np.arange(ymin, ymax+ystep, ystep))\n",
    "    ax.set_yticklabels(np.arange(ymin, ymax+ystep, ystep)*1000.)\n",
    "    ax.set_ylabel('Registration error (${\\mu}$m)',size = font_size,alpha=1.0)\n",
    "\n",
    "    plt.xticks(rotation=0) \n",
    "    ax.tick_params(labelsize=font_size,labelcolor=\"white\") \n",
    "  \n",
    "    for spine in ax.spines.values():\n",
    "        #spine.set_facecolor(fg_color)\n",
    "        spine.set_edgecolor((1,1,1))\n",
    "        spine.set_visible(True)\n",
    "        spine.set_linewidth(2)   \n",
    "\n",
    "    for i, patch in enumerate(ax.artists):\n",
    "        r, g, b, a = patch.get_facecolor()\n",
    "        #if i == 0: r,g,b = 1.0000, 0.9804,0.6039\n",
    "        #elif i%3 ==1: r,g,b = 1.0000, 0.9804,0.6039\n",
    "        #elif i%3 ==2: r,g,b = 0.6784,1.0000,1.0000\n",
    "        #else: r,g,b = 1.0000, 0.7137, 0.7569\n",
    "        patch.set_facecolor((r, g, b, .5))\n",
    "        patch.set_edgecolor((r, g, b))\n",
    "        patch.set_linewidth(1)\n",
    "        \n",
    "        # Each box has 6 associated Line2D objects (to make the whiskers, fliers, etc.)\n",
    "        # Loop over them here, and use the same colour as above\n",
    "        white=(1,1,1)\n",
    "        for j in range(i*6,i*6+6):\n",
    "            line = ax.lines[j]\n",
    "            line.set_color(white)\n",
    "            line.set_mfc((0.7,0.7,0.7))\n",
    "            line.set_mec((0.7,0.7,0.7))\n",
    "            line.set_linewidth(1)\n",
    "\n",
    "\n",
    "    plt.tight_layout()\n",
    "\n",
    "    if image_folder:\n",
    "        image_file = image_folder+'\\\\registration_error.png';\n",
    "        fig.savefig(image_file, dpi=300, transparent=True)\n",
    "        "
   ]
  },
  {
   "cell_type": "code",
   "execution_count": 9,
   "metadata": {
    "collapsed": false
   },
   "outputs": [
    {
     "data": {
      "image/png": "[encoded data removed]",
      "text/plain": [
       "<matplotlib.figure.Figure at 0x2519a73f2e8>"
      ]
     },
     "metadata": {},
     "output_type": "display_data"
    }
   ],
   "source": [
    "image_folder = 'C:/Users/Ja/Google Drive/mypaper/2018_SPIE/presentation/figure'\n",
    "ystep, ymin, ymax =0.005, 0.0, 0.035\n",
    "figw, figh = 4,6\n",
    "font_size = 14\n",
    "width = 0.25\n",
    "registration_error_black_boxplot(reg_error_df, image_folder, ystep ,ymin, ymax, \n",
    "                                 figw, figh,font_size, width)"
   ]
  }
 ],
 "metadata": {
  "kernelspec": {
   "display_name": "Python [conda env:aind]",
   "language": "python",
   "name": "conda-env-aind-py"
  },
  "language_info": {
   "codemirror_mode": {
    "name": "ipython",
    "version": 3
   },
   "file_extension": ".py",
   "mimetype": "text/x-python",
   "name": "python",
   "nbconvert_exporter": "python",
   "pygments_lexer": "ipython3",
   "version": "3.6.0"
  }
 },
 "nbformat": 4,
 "nbformat_minor": 2
}
