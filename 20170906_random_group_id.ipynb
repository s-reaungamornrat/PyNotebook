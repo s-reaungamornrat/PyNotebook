{
 "cells": [
  {
   "cell_type": "code",
   "execution_count": 4,
   "metadata": {},
   "outputs": [
    {
     "name": "stdout",
     "output_type": "stream",
     "text": [
      "Order: [3, 2, 0, 4, 1, 8, 6, 9, 5, 7]\n"
     ]
    }
   ],
   "source": [
    "import numpy as np\n",
    "\n",
    "n_grp = 10;\n",
    "order = list()\n",
    "while True:\n",
    "    order_id = np.random.randint(n_grp, size =1)\n",
    "    #print(order_id)\n",
    "    if order_id[0] not in order:\n",
    "        order.append(order_id[0])\n",
    "    if len(order) == n_grp:\n",
    "        break\n",
    "print('Order: {}'.format(order))"
   ]
  }
 ],
 "metadata": {
  "kernelspec": {
   "display_name": "Python [conda env:aind]",
   "language": "python",
   "name": "conda-env-aind-py"
  },
  "language_info": {
   "codemirror_mode": {
    "name": "ipython",
    "version": 3
   },
   "file_extension": ".py",
   "mimetype": "text/x-python",
   "name": "python",
   "nbconvert_exporter": "python",
   "pygments_lexer": "ipython3",
   "version": "3.6.0"
  }
 },
 "nbformat": 4,
 "nbformat_minor": 2
}
